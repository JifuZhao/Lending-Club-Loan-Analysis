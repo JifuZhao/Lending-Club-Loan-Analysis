{
 "cells": [
  {
   "cell_type": "markdown",
   "metadata": {},
   "source": [
    "<img src=\"./result/logo.png\" alt=\"Drawing\" align=\"left\" style=\"width: 600px;\"/>"
   ]
  },
  {
   "cell_type": "markdown",
   "metadata": {},
   "source": [
    "# Lending Club Loan Data Analysis and Modeling"
   ]
  },
  {
   "cell_type": "markdown",
   "metadata": {},
   "source": [
    "Classification is one of two most common data science problems (another one is regression). For the supervised classification problem, imbalanced data are pretty common yet very challenging. \n",
    "\n",
    "For example, credit card fraud detection, disease classification, network intrusion and so on, are classification problem with imbalanced data. \n",
    "\n",
    "In this project, working with the Lending Club loan data, we hope to correctly predict whether or not on loan will be default using the history data."
   ]
  },
  {
   "cell_type": "markdown",
   "metadata": {},
   "source": [
    "# 0. Contents\n",
    "For a traditional data science project, there are some common steps:\n",
    "\n",
    "1. Problem Statement\n",
    "    - Hypothesis and Goal\n",
    "2. Data Collection\n",
    "    - Can take $70\\%$ of the total time for some real-world projects\n",
    "3. Data Cleaning\n",
    "    - Business Sense\n",
    "    - Data Exploration\n",
    "    - And so on ......\n",
    "4. Visualization and Feature Engineering\n",
    "    - Categorical vs. Numerical features\n",
    "    - Missing Values\n",
    "    - Feature Transformation\n",
    "    - Feature Normalization\n",
    "    - And so on ......\n",
    "5. Machine Learning\n",
    "    - Logistic Regression\n",
    "    - Random Forest\n",
    "    - Boosting\n",
    "    - Neural Networks\n",
    "    - And so on ......\n",
    "6. Conclusions\n",
    "\n",
    "Further, feature engineering and machine learning parts are usually iterative process. You may need to go through several rounds until you finish the whole modeling part."
   ]
  },
  {
   "cell_type": "markdown",
   "metadata": {},
   "source": [
    "# 1. Problem Statement"
   ]
  },
  {
   "cell_type": "markdown",
   "metadata": {},
   "source": [
    "For companies like Lending Club, correctly predicting whether or not one loan will be default in the future is very important. In this project, using the historical data, more specifically, the Lending Club loan data from 2007 to 2018, we hope to build a machine learning model such that we can predict the chance of default for the future loans. \n",
    "\n",
    "As I will show later, this dataset is highly imbalanced and includes a lot of features, which makes this problem more challenging. "
   ]
  },
  {
   "cell_type": "markdown",
   "metadata": {},
   "source": [
    "# 2. Data Collection"
   ]
  },
  {
   "cell_type": "markdown",
   "metadata": {},
   "source": [
    "There are several ways to download the dataset, for example, you can go to Lending Club's [website](https://www.lendingclub.com/info/download-data.action), or you can go to [Kaggle](https://www.kaggle.com/wendykan/lending-club-loan-data).\n",
    "\n",
    "I have downloaded the data from [Lending Club's website](https://www.lendingclub.com/info/download-data.action). \n",
    "\n",
    "The original data is separated into different csv files. There are $145$ features originally. Based on my simple exploration and understanding, I finish the initial data cleaning part. More specifically:\n",
    "* Choose the data from 2014 until 2018 to build model\n",
    "* Remove features with large amount of missing values\n",
    "\n",
    "The full procedures are listed in the Jupyter Notebook [1. Data Collection and Cleaning]. After above two steps, there are 87 features left, which are list below."
   ]
  },
  {
   "cell_type": "markdown",
   "metadata": {},
   "source": [
    "| Attribute                  | Explanation                                                       |\n",
    "| -------------------------- | ----------------------------------------------------------------- |\n",
    "| loan_amnt                  | The listed amount of the loan applied for by the borrower. If at some point in time, the credit department reduces the loan amount, then it will be reflected in this value. |\n",
    "| funded_amnt                | The total amount committed to that loan at that point in time. |\n",
    "| funded_amnt_inv            | The total amount committed by investors for that loan at that point in time. |\n",
    "| term                       | The number of payments on the loan. Values are in months and can be either 36 or 60. |\n",
    "| int_rate                   | Interest Rate on the loan |\n",
    "| installment                | The monthly payment owed by the borrower if the loan originates. |\n",
    "| grade                      | LC assigned loan grade |\n",
    "| sub_grade                  | LC assigned loan subgrade |\n",
    "| emp_title                  | The job title supplied by the Borrower when applying for the loan.* |\n",
    "| emp_length                 | Employment length in years. Possible values are between 0 and 10 where 0 means less than one year and 10 means ten or more years. |\n",
    "| home_ownership             | The home ownership status provided by the borrower during registration. Our values are: RENT, OWN, MORTGAGE, OTHER. |\n",
    "| annual_inc                 | The self-reported annual income provided by the borrower during registration. |\n",
    "| verification_status        |  |\n",
    "| issue_d                    | The month which the loan was funded |\n",
    "| loan_status                | Current status of the loan |\n",
    "| pymnt_plan                 | Indicates if a payment plan has been put in place for the loan |\n",
    "| purpose                    | A category provided by the borrower for the loan request.  |\n",
    "| title                      | The loan title provided by the borrower |\n",
    "| zip_code                   | The first 3 numbers of the zip code provided by the borrower in the loan application. |\n",
    "| addr_state                 | The state provided by the borrower in the loan application |\n",
    "| dti                        | A ratio calculated using the borrower’s total monthly debt payments on the total debt obligations, excluding mortgage and the requested LC loan, divided by the borrower’s self-reported monthly income. |\n",
    "| delinq_2yrs                | The number of 30+ days past-due incidences of delinquency in the borrower's credit file for the past 2 years |\n",
    "| earliest_cr_line           | The date the borrower's earliest reported credit line was opened |\n",
    "| inq_last_6mths             | The number of inquiries in past 6 months (excluding auto and mortgage inquiries) |\n",
    "| open_acc                   | The number of open credit lines in the borrower's credit file. |\n",
    "| pub_rec                    | Number of derogatory public records |\n",
    "| revol_bal                  | Total credit revolving balance |\n",
    "| revol_util                 | Revolving line utilization rate, or the amount of credit the borrower is using relative to all available revolving credit. |\n",
    "| total_acc                  | The total number of credit lines currently in the borrower's credit file |\n",
    "| initial_list_status        | The initial listing status of the loan. Possible values are – W, F |\n",
    "| out_prncp                  | Remaining outstanding principal for total amount funded |\n",
    "| out_prncp_inv              | Remaining outstanding principal for portion of total amount funded by investors |\n",
    "| total_pymnt                | Payments received to date for total amount funded |\n",
    "| total_pymnt_inv            | Payments received to date for portion of total amount funded by investors |\n",
    "| total_rec_prncp            | Principal received to date |\n",
    "| total_rec_int              | Interest received to date |\n",
    "| total_rec_late_fee         | Late fees received to date |\n",
    "| recoveries                 | post charge off gross recovery |\n",
    "| collection_recovery_fee    | post charge off collection fee |\n",
    "| last_pymnt_d               | Last month payment was received |\n",
    "| last_pymnt_amnt            | Last total payment amount received |\n",
    "| last_credit_pull_d         | The most recent month LC pulled credit for this loan |\n",
    "| collections_12_mths_ex_med | Number of collections in 12 months excluding medical collections |\n",
    "| policy_code                | publicly available policy_code=1, new products not publicly available policy_code=2 |\n",
    "| application_type           | Indicates whether the loan is an individual application or a joint application with two co-borrowers |\n",
    "| acc_now_delinq             | The number of accounts on which the borrower is now delinquent. |\n",
    "| tot_coll_amt               | Total collection amounts ever owed |\n",
    "| tot_cur_bal                | Total current balance of all accounts |\n",
    "| total_rev_hi_lim           | Total revolving high credit/credit limit |\n",
    "| acc_open_past_24mths       | Number of trades opened in past 24 months. |\n",
    "| avg_cur_bal                | Average current balance of all accounts |\n",
    "| bc_open_to_buy             | Total open to buy on revolving bankcards. |\n",
    "| bc_util                    | Ratio of total current balance to high credit/credit limit for all bankcard accounts. |\n",
    "| chargeoff_within_12_mths   | Number of charge-offs within 12 months |\n",
    "| delinq_amnt                | The past-due amount owed for the accounts on which the borrower is now delinquent. |\n",
    "| mo_sin_old_il_acct         |  |\n",
    "| mo_sin_old_rev_tl_op       | Months since oldest revolving account opened |\n",
    "| mo_sin_rcnt_rev_tl_op      | Months since most recent revolving account opened |\n",
    "| mo_sin_rcnt_tl             | Months since most recent account opened |\n",
    "| mort_acc                   | Number of mortgage accounts. |\n",
    "| mths_since_recent_bc       | Months since most recent bankcard account opened. |\n",
    "| mths_since_recent_inq      | Months since most recent inquiry. |\n",
    "| num_accts_ever_120_pd      | Number of accounts ever 120 or more days past due |\n",
    "| num_actv_bc_tl             | Number of currently active bankcard accounts |\n",
    "| num_actv_rev_tl            | Number of currently active revolving trades |\n",
    "| num_bc_sats                | Number of satisfactory bankcard accounts |\n",
    "| num_bc_tl                  | Number of bankcard accounts |\n",
    "| num_il_tl                  | Number of installment accounts |\n",
    "| num_op_rev_tl              | Number of open revolving accounts |\n",
    "| num_rev_accts              | Number of revolving accounts |\n",
    "| num_rev_tl_bal_gt_0        | Number of revolving trades with balance >0 |\n",
    "| num_sats                   | Number of satisfactory accounts |\n",
    "| num_tl_120dpd_2m           | Number of accounts currently 120 days past due (updated in past 2 months) |\n",
    "| num_tl_30dpd               | Number of accounts currently 30 days past due (updated in past 2 months) |\n",
    "| num_tl_90g_dpd_24m         | Number of accounts 90 or more days past due in last 24 months |\n",
    "| num_tl_op_past_12m         | Number of accounts opened in past 12 months |\n",
    "| pct_tl_nvr_dlq             | Percent of trades never delinquent |\n",
    "| percent_bc_gt_75           | Percentage of all bankcard accounts > 75% of limit. |\n",
    "| pub_rec_bankruptcies       | Number of public record bankruptcies |\n",
    "| tax_liens                  | Number of tax liens |\n",
    "| tot_hi_cred_lim            | Total high credit/credit limit |\n",
    "| total_bal_ex_mort          | Total credit balance excluding mortgage |\n",
    "| total_bc_limit             | Total bankcard high credit/credit limit |\n",
    "| total_il_high_credit_limit | Total installment high credit/credit limit |\n",
    "| hardship_flag              |  |\n",
    "| disbursement_method        | The method by which the borrower receives their loan. Possible values are: CASH, DIRECT_PAY |\n",
    "| debt_settlement_flag       |  |"
   ]
  },
  {
   "cell_type": "markdown",
   "metadata": {},
   "source": [
    "# 3. Data Cleaning"
   ]
  },
  {
   "cell_type": "markdown",
   "metadata": {},
   "source": []
  },
  {
   "cell_type": "markdown",
   "metadata": {},
   "source": [
    "# 4. Visualization and Feature Engineering"
   ]
  },
  {
   "cell_type": "markdown",
   "metadata": {},
   "source": []
  },
  {
   "cell_type": "markdown",
   "metadata": {},
   "source": [
    "# 5. Machine Learning Modeling\n",
    "\n",
    "## Imbalance Data\n",
    "+ Anomaly Detection or Outlier Analysis\n",
    "+ Over-sampling\n",
    "+ Under-sampling\n",
    "+ SMOTE and ADASYN\n",
    "\n",
    "## Models\n",
    "+ Logistic Regression\n",
    "+ Random Forest\n",
    "+ Boosting\n",
    "+ Hierarchical Model\n",
    "+ And so on"
   ]
  },
  {
   "cell_type": "markdown",
   "metadata": {},
   "source": []
  },
  {
   "cell_type": "markdown",
   "metadata": {},
   "source": [
    "# 6. Conclusions"
   ]
  },
  {
   "cell_type": "markdown",
   "metadata": {},
   "source": []
  }
 ],
 "metadata": {
  "kernelspec": {
   "display_name": "Python 3",
   "language": "python",
   "name": "python3"
  },
  "language_info": {
   "codemirror_mode": {
    "name": "ipython",
    "version": 3
   },
   "file_extension": ".py",
   "mimetype": "text/x-python",
   "name": "python",
   "nbconvert_exporter": "python",
   "pygments_lexer": "ipython3",
   "version": "3.6.5"
  }
 },
 "nbformat": 4,
 "nbformat_minor": 2
}
