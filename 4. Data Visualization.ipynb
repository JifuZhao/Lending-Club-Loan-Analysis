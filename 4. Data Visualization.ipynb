{
 "cells": [
  {
   "cell_type": "code",
   "execution_count": 1,
   "metadata": {},
   "outputs": [
    {
     "data": {
      "text/html": [
       "<script>requirejs.config({paths: { 'plotly': ['https://cdn.plot.ly/plotly-latest.min']},});if(!window.Plotly) {{require(['plotly'],function(plotly) {window.Plotly=plotly;});}}</script>"
      ],
      "text/vnd.plotly.v1+html": [
       "<script>requirejs.config({paths: { 'plotly': ['https://cdn.plot.ly/plotly-latest.min']},});if(!window.Plotly) {{require(['plotly'],function(plotly) {window.Plotly=plotly;});}}</script>"
      ]
     },
     "metadata": {},
     "output_type": "display_data"
    }
   ],
   "source": [
    "import warnings\n",
    "warnings.simplefilter('ignore')\n",
    "\n",
    "import numpy as np\n",
    "import pandas as pd\n",
    "import seaborn as sns\n",
    "import matplotlib.pyplot as plt\n",
    "\n",
    "from plotly.offline import init_notebook_mode, iplot\n",
    "import plotly.graph_objs as go\n",
    "\n",
    "pd.options.display.max_rows = 100\n",
    "init_notebook_mode(connected=True)\n",
    "%matplotlib inline"
   ]
  },
  {
   "cell_type": "markdown",
   "metadata": {},
   "source": [
    "# Load Dataset"
   ]
  },
  {
   "cell_type": "code",
   "execution_count": 2,
   "metadata": {},
   "outputs": [
    {
     "name": "stdout",
     "output_type": "stream",
     "text": [
      "Train:\n",
      "<class 'pandas.core.frame.DataFrame'>\n",
      "RangeIndex: 722142 entries, 0 to 722141\n",
      "Columns: 68 entries, loan_amnt to credit_length\n",
      "dtypes: float64(16), int64(41), object(11)\n",
      "memory usage: 374.6+ MB\n",
      "None \n",
      "\n",
      "Test:\n",
      "<class 'pandas.core.frame.DataFrame'>\n",
      "RangeIndex: 98727 entries, 0 to 98726\n",
      "Columns: 68 entries, loan_amnt to credit_length\n",
      "dtypes: float64(16), int64(41), object(11)\n",
      "memory usage: 51.2+ MB\n",
      "None\n"
     ]
    }
   ],
   "source": [
    "train = pd.read_csv('./data/train_clean.csv')\n",
    "test = pd.read_csv('./data/test_clean.csv')\n",
    "\n",
    "print('Train:')\n",
    "print(train.info(verbose=False), '\\n')\n",
    "print('Test:')\n",
    "print(test.info(verbose=False))"
   ]
  },
  {
   "cell_type": "markdown",
   "metadata": {},
   "source": [
    "# Data Basic Information."
   ]
  },
  {
   "cell_type": "code",
   "execution_count": 5,
   "metadata": {},
   "outputs": [
    {
     "name": "stdout",
     "output_type": "stream",
     "text": [
      "Target 1:\t 0.2384\n",
      "Target 0:\t 0.7616\n",
      "Ratio:\t\t 3.1938\n"
     ]
    }
   ],
   "source": [
    "# imbalanced dataset\n",
    "target1 = train['target'].sum()\n",
    "target0 = (1 - train['target']).sum()\n",
    "print('Target 1:\\t', np.round(target1 / len(train), 4))\n",
    "print('Target 0:\\t', np.round(target0 / len(train), 4))\n",
    "print('Ratio:\\t\\t', np.round(target0 / target1, 4))"
   ]
  },
  {
   "cell_type": "code",
   "execution_count": 6,
   "metadata": {},
   "outputs": [
    {
     "data": {
      "application/vnd.plotly.v1+json": {
       "data": [
        {
         "marker": {
          "color": [
           "rgba(55, 128, 191, 0.7)",
           "rgba(219, 64, 82, 0.7)"
          ]
         },
         "type": "bar",
         "uid": "31064d2e-8f92-11e8-ba4e-88e9fe51b829",
         "x": [
          "status 0",
          "status 1"
         ],
         "y": [
          549951,
          172191
         ]
        }
       ],
       "layout": {
        "autosize": false,
        "height": 500,
        "title": "Loan Status Count Distribution",
        "width": 800,
        "xaxis": {
         "title": "Target"
        },
        "yaxis": {
         "title": "Count"
        }
       }
      },
      "text/html": [
       "<div id=\"ba94888c-b082-4fc4-a089-67ceb20b0f11\" style=\"height: 500px; width: 800px;\" class=\"plotly-graph-div\"></div><script type=\"text/javascript\">require([\"plotly\"], function(Plotly) { window.PLOTLYENV=window.PLOTLYENV || {};window.PLOTLYENV.BASE_URL=\"https://plot.ly\";\n",
       "        Plotly.plot(\n",
       "            'ba94888c-b082-4fc4-a089-67ceb20b0f11',\n",
       "            [{\"marker\": {\"color\": [\"rgba(55, 128, 191, 0.7)\", \"rgba(219, 64, 82, 0.7)\"]}, \"x\": [\"status 0\", \"status 1\"], \"y\": [549951, 172191], \"type\": \"bar\", \"uid\": \"31064d2e-8f92-11e8-ba4e-88e9fe51b829\"}],\n",
       "            {\"autosize\": false, \"height\": 500, \"title\": \"Loan Status Count Distribution\", \"width\": 800, \"xaxis\": {\"title\": \"Target\"}, \"yaxis\": {\"title\": \"Count\"}},\n",
       "            {\"showLink\": true, \"linkText\": \"Export to plot.ly\"}\n",
       "        ).then(function () {return Plotly.addFrames('ba94888c-b082-4fc4-a089-67ceb20b0f11',{});}).then(function(){Plotly.animate('ba94888c-b082-4fc4-a089-67ceb20b0f11');})\n",
       "        });</script>"
      ],
      "text/vnd.plotly.v1+html": [
       "<div id=\"ba94888c-b082-4fc4-a089-67ceb20b0f11\" style=\"height: 500px; width: 800px;\" class=\"plotly-graph-div\"></div><script type=\"text/javascript\">require([\"plotly\"], function(Plotly) { window.PLOTLYENV=window.PLOTLYENV || {};window.PLOTLYENV.BASE_URL=\"https://plot.ly\";\n",
       "        Plotly.plot(\n",
       "            'ba94888c-b082-4fc4-a089-67ceb20b0f11',\n",
       "            [{\"marker\": {\"color\": [\"rgba(55, 128, 191, 0.7)\", \"rgba(219, 64, 82, 0.7)\"]}, \"x\": [\"status 0\", \"status 1\"], \"y\": [549951, 172191], \"type\": \"bar\", \"uid\": \"31064d2e-8f92-11e8-ba4e-88e9fe51b829\"}],\n",
       "            {\"autosize\": false, \"height\": 500, \"title\": \"Loan Status Count Distribution\", \"width\": 800, \"xaxis\": {\"title\": \"Target\"}, \"yaxis\": {\"title\": \"Count\"}},\n",
       "            {\"showLink\": true, \"linkText\": \"Export to plot.ly\"}\n",
       "        ).then(function () {return Plotly.addFrames('ba94888c-b082-4fc4-a089-67ceb20b0f11',{});}).then(function(){Plotly.animate('ba94888c-b082-4fc4-a089-67ceb20b0f11');})\n",
       "        });</script>"
      ]
     },
     "metadata": {},
     "output_type": "display_data"
    }
   ],
   "source": [
    "# visualize the target count distribution\n",
    "data = [go.Bar(x=['status 0', 'status 1'], y=[target0, target1], \n",
    "               marker=dict(color=['rgba(55, 128, 191, 0.7)', 'rgba(219, 64, 82, 0.7)']))]\n",
    "layout = go.Layout(title='Loan Status Count Distribution', xaxis=dict(title='Target'), \n",
    "                   yaxis=dict(title='Count'), autosize=False, width=800, height=500)\n",
    "fig = go.Figure(data=data, layout=layout)\n",
    "iplot(fig)"
   ]
  },
  {
   "cell_type": "markdown",
   "metadata": {},
   "source": [
    "# Visualization"
   ]
  },
  {
   "cell_type": "code",
   "execution_count": 7,
   "metadata": {},
   "outputs": [
    {
     "name": "stdout",
     "output_type": "stream",
     "text": [
      "Categorical:\t 10\n",
      "Discrete:\t 28\n",
      "Continuous:\t 28\n",
      "Total:\t\t 66\n"
     ]
    }
   ],
   "source": [
    "# define categorical, discrete and continuous features\n",
    "cat_features = ['term', 'home_ownership', 'verification_status', 'purpose', 'title',\n",
    "                'addr_state', 'initial_list_status', 'application_type', 'hardship_flag', \n",
    "                'debt_settlement_flag']\n",
    "\n",
    "dis_features = ['grade', 'sub_grade', 'emp_length', 'delinq_2yrs', 'inq_last_6mths',\n",
    "                'open_acc', 'pub_rec', 'total_acc', 'acc_now_delinq', 'acc_open_past_24mths',\n",
    "                'chargeoff_within_12_mths', 'mort_acc', 'num_accts_ever_120_pd', \n",
    "                'num_actv_bc_tl', 'num_actv_rev_tl','num_bc_sats', 'num_bc_tl', \n",
    "                'num_il_tl', 'num_op_rev_tl', 'num_rev_accts', 'num_rev_tl_bal_gt_0', \n",
    "                'num_sats', 'num_tl_120dpd_2m', 'num_tl_30dpd', 'num_tl_90g_dpd_24m', \n",
    "                'num_tl_op_past_12m','pub_rec_bankruptcies', 'tax_liens']\n",
    "\n",
    "con_features = ['loan_amnt', 'int_rate', 'installment', 'annual_inc', 'dti', 'revol_bal', \n",
    "                'revol_util', 'collections_12_mths_ex_med', 'tot_coll_amt', 'tot_cur_bal', \n",
    "                'total_rev_hi_lim', 'avg_cur_bal', 'bc_open_to_buy', 'bc_util', 'delinq_amnt', \n",
    "                'mo_sin_old_il_acct','mo_sin_old_rev_tl_op', 'mo_sin_rcnt_rev_tl_op', \n",
    "                'mo_sin_rcnt_tl', 'mths_since_recent_bc', 'mths_since_recent_inq',\n",
    "                'pct_tl_nvr_dlq', 'percent_bc_gt_75',  'tot_hi_cred_lim', 'total_bal_ex_mort', \n",
    "                'total_bc_limit', 'total_il_high_credit_limit', 'credit_length']\n",
    "\n",
    "features = cat_features + dis_features + con_features\n",
    "\n",
    "# define numerical and categorical features\n",
    "print('Categorical:\\t', len(cat_features))\n",
    "print('Discrete:\\t', len(dis_features))\n",
    "print('Continuous:\\t', len(con_features))\n",
    "print('Total:\\t\\t', len(features))"
   ]
  },
  {
   "cell_type": "markdown",
   "metadata": {},
   "source": [
    "### 1. Categorical Variables"
   ]
  },
  {
   "cell_type": "code",
   "execution_count": null,
   "metadata": {},
   "outputs": [],
   "source": []
  },
  {
   "cell_type": "markdown",
   "metadata": {},
   "source": [
    "### 2. Discrete Variables"
   ]
  },
  {
   "cell_type": "code",
   "execution_count": null,
   "metadata": {},
   "outputs": [],
   "source": []
  },
  {
   "cell_type": "markdown",
   "metadata": {},
   "source": [
    "### 3. Continuous Variables"
   ]
  },
  {
   "cell_type": "code",
   "execution_count": null,
   "metadata": {},
   "outputs": [],
   "source": []
  },
  {
   "cell_type": "code",
   "execution_count": null,
   "metadata": {},
   "outputs": [],
   "source": []
  }
 ],
 "metadata": {
  "kernelspec": {
   "display_name": "Python 3",
   "language": "python",
   "name": "python3"
  },
  "language_info": {
   "codemirror_mode": {
    "name": "ipython",
    "version": 3
   },
   "file_extension": ".py",
   "mimetype": "text/x-python",
   "name": "python",
   "nbconvert_exporter": "python",
   "pygments_lexer": "ipython3",
   "version": "3.6.5"
  }
 },
 "nbformat": 4,
 "nbformat_minor": 2
}
