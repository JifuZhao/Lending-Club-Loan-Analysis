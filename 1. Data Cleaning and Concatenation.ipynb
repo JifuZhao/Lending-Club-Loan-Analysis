{
 "cells": [
  {
   "cell_type": "code",
   "execution_count": 1,
   "metadata": {},
   "outputs": [],
   "source": [
    "import warnings\n",
    "warnings.simplefilter('ignore')\n",
    "\n",
    "import numpy as np\n",
    "import pandas as pd\n",
    "import matplotlib.pyplot as plt\n",
    "\n",
    "%matplotlib inline"
   ]
  },
  {
   "cell_type": "markdown",
   "metadata": {},
   "source": [
    "# Load Dataset"
   ]
  },
  {
   "cell_type": "code",
   "execution_count": 2,
   "metadata": {},
   "outputs": [],
   "source": [
    "# data_2011 = pd.read_csv('./data/2011.csv', encoding='ISO-8859-1', low_memory=False)\n",
    "# data_2013 = pd.read_csv('./data/2013.csv', encoding='ISO-8859-1', low_memory=False)\n",
    "# data_2014 = pd.read_csv('./data/2014.csv', encoding='ISO-8859-1', low_memory=False)\n",
    "# data_2015 = pd.read_csv('./data/2015.csv', encoding='ISO-8859-1', low_memory=False)\n",
    "# data_2016_1 = pd.read_csv('./data/2016(1).csv', encoding='ISO-8859-1', low_memory=False)\n",
    "# data_2016_2 = pd.read_csv('./data/2016(2).csv', encoding='ISO-8859-1', low_memory=False)\n",
    "# data_2016_3 = pd.read_csv('./data/2016(3).csv', encoding='ISO-8859-1', low_memory=False)\n",
    "# data_2016_4 = pd.read_csv('./data/2016(4).csv', encoding='ISO-8859-1', low_memory=False)\n",
    "# data_2017_1 = pd.read_csv('./data/2017(1).csv', encoding='ISO-8859-1', low_memory=False)\n",
    "# data_2017_2 = pd.read_csv('./data/2017(2).csv', encoding='ISO-8859-1', low_memory=False)\n",
    "# data_2017_3 = pd.read_csv('./data/2017(3).csv', encoding='ISO-8859-1', low_memory=False)\n",
    "# data_2017_4 = pd.read_csv('./data/2017(4).csv', encoding='ISO-8859-1', low_memory=False)\n",
    "# data_2018 = pd.read_csv('./data/2018(1).csv', encoding='ISO-8859-1', low_memory=False)"
   ]
  },
  {
   "cell_type": "code",
   "execution_count": 76,
   "metadata": {},
   "outputs": [],
   "source": [
    "# read raw data\n",
    "data_2011 = pd.read_csv('./data/2011.csv')\n",
    "data_2013 = pd.read_csv('./data/2013.csv')\n",
    "data_2014 = pd.read_csv('./data/2014.csv')\n",
    "data_2015 = pd.read_csv('./data/2015.csv')\n",
    "data_2016_1 = pd.read_csv('./data/2016(1).csv')\n",
    "data_2016_2 = pd.read_csv('./data/2016(2).csv')\n",
    "data_2016_3 = pd.read_csv('./data/2016(3).csv')\n",
    "data_2016_4 = pd.read_csv('./data/2016(4).csv')\n",
    "data_2017_1 = pd.read_csv('./data/2017(1).csv')\n",
    "data_2017_2 = pd.read_csv('./data/2017(2).csv')\n",
    "data_2017_3 = pd.read_csv('./data/2017(3).csv')\n",
    "data_2017_4 = pd.read_csv('./data/2017(4).csv')\n",
    "data_2018 = pd.read_csv('./data/2018(1).csv')\n",
    "\n",
    "# merge data from 2016 and 2017\n",
    "data_2016 = pd.concat(objs=[data_2016_1, data_2016_2, data_2016_3, data_2016_4], axis=0)\n",
    "data_2017 = pd.concat(objs=[data_2017_1, data_2017_2, data_2017_3, data_2017_4], axis=0)"
   ]
  },
  {
   "cell_type": "code",
   "execution_count": 82,
   "metadata": {
    "scrolled": false
   },
   "outputs": [
    {
     "name": "stdout",
     "output_type": "stream",
     "text": [
      "Year 2011:\t (42538, 143)\n",
      "Year 2013:\t (188181, 143)\n",
      "Year 2014:\t (235629, 143)\n",
      "Year 2015:\t (421095, 143)\n",
      "Year 2016:\t (434407, 143)\n",
      "Year 2017:\t (443579, 143)\n",
      "Year 2018:\t (107864, 143)\n"
     ]
    }
   ],
   "source": [
    "# basic information\n",
    "print('Year 2011:\\t', data_2011.shape)\n",
    "print('Year 2013:\\t', data_2013.shape)\n",
    "print('Year 2014:\\t', data_2014.shape)\n",
    "print('Year 2015:\\t', data_2015.shape)\n",
    "print('Year 2016:\\t', data_2016.shape)\n",
    "print('Year 2017:\\t', data_2017.shape)\n",
    "print('Year 2018:\\t', data_2018.shape)"
   ]
  },
  {
   "cell_type": "code",
   "execution_count": 83,
   "metadata": {},
   "outputs": [
    {
     "name": "stdout",
     "output_type": "stream",
     "text": [
      "<class 'pandas.core.frame.DataFrame'>\n",
      "RangeIndex: 42538 entries, 0 to 42537\n",
      "Columns: 143 entries, loan_amnt to settlement_term\n",
      "dtypes: float64(114), object(29)\n",
      "memory usage: 46.4+ MB\n"
     ]
    }
   ],
   "source": [
    "data_2011.info()"
   ]
  },
  {
   "cell_type": "code",
   "execution_count": 84,
   "metadata": {},
   "outputs": [
    {
     "name": "stdout",
     "output_type": "stream",
     "text": [
      "<class 'pandas.core.frame.DataFrame'>\n",
      "RangeIndex: 188181 entries, 0 to 188180\n",
      "Columns: 143 entries, loan_amnt to settlement_term\n",
      "dtypes: float64(92), int64(15), object(36)\n",
      "memory usage: 205.3+ MB\n"
     ]
    }
   ],
   "source": [
    "data_2013.info()"
   ]
  },
  {
   "cell_type": "code",
   "execution_count": 85,
   "metadata": {},
   "outputs": [
    {
     "name": "stdout",
     "output_type": "stream",
     "text": [
      "<class 'pandas.core.frame.DataFrame'>\n",
      "RangeIndex: 235629 entries, 0 to 235628\n",
      "Columns: 143 entries, loan_amnt to settlement_term\n",
      "dtypes: float64(66), int64(41), object(36)\n",
      "memory usage: 257.1+ MB\n"
     ]
    }
   ],
   "source": [
    "data_2014.info()"
   ]
  },
  {
   "cell_type": "code",
   "execution_count": 86,
   "metadata": {},
   "outputs": [
    {
     "name": "stdout",
     "output_type": "stream",
     "text": [
      "<class 'pandas.core.frame.DataFrame'>\n",
      "RangeIndex: 421095 entries, 0 to 421094\n",
      "Columns: 143 entries, loan_amnt to settlement_term\n",
      "dtypes: float64(66), int64(40), object(37)\n",
      "memory usage: 459.4+ MB\n"
     ]
    }
   ],
   "source": [
    "data_2015.info()"
   ]
  },
  {
   "cell_type": "code",
   "execution_count": 87,
   "metadata": {},
   "outputs": [
    {
     "name": "stdout",
     "output_type": "stream",
     "text": [
      "<class 'pandas.core.frame.DataFrame'>\n",
      "Int64Index: 434407 entries, 0 to 103545\n",
      "Columns: 143 entries, loan_amnt to settlement_term\n",
      "dtypes: float64(66), int64(40), object(37)\n",
      "memory usage: 477.3+ MB\n"
     ]
    }
   ],
   "source": [
    "data_2016.info()"
   ]
  },
  {
   "cell_type": "code",
   "execution_count": 88,
   "metadata": {},
   "outputs": [
    {
     "name": "stdout",
     "output_type": "stream",
     "text": [
      "<class 'pandas.core.frame.DataFrame'>\n",
      "Int64Index: 443579 entries, 0 to 118647\n",
      "Columns: 143 entries, loan_amnt to settlement_term\n",
      "dtypes: float64(55), int64(51), object(37)\n",
      "memory usage: 487.3+ MB\n"
     ]
    }
   ],
   "source": [
    "data_2017.info()"
   ]
  },
  {
   "cell_type": "code",
   "execution_count": 89,
   "metadata": {},
   "outputs": [
    {
     "name": "stdout",
     "output_type": "stream",
     "text": [
      "<class 'pandas.core.frame.DataFrame'>\n",
      "RangeIndex: 107864 entries, 0 to 107863\n",
      "Columns: 143 entries, loan_amnt to settlement_term\n",
      "dtypes: float64(59), int64(54), object(30)\n",
      "memory usage: 117.7+ MB\n"
     ]
    }
   ],
   "source": [
    "data_2018.info()"
   ]
  },
  {
   "cell_type": "markdown",
   "metadata": {},
   "source": [
    "# Data Concatenation"
   ]
  },
  {
   "cell_type": "code",
   "execution_count": 98,
   "metadata": {
    "scrolled": false
   },
   "outputs": [
    {
     "name": "stdout",
     "output_type": "stream",
     "text": [
      "(80,)\n"
     ]
    },
    {
     "data": {
      "text/plain": [
       "url                                           1.000000\n",
       "desc                                          0.567023\n",
       "mths_since_last_delinq                        0.571646\n",
       "mths_since_last_record                        0.907143\n",
       "next_pymnt_d                                  0.977426\n",
       "mths_since_last_major_derog                   0.827209\n",
       "annual_inc_joint                              1.000000\n",
       "dti_joint                                     1.000000\n",
       "verification_status_joint                     1.000000\n",
       "tot_coll_amt                                  0.147417\n",
       "tot_cur_bal                                   0.147417\n",
       "open_acc_6m                                   1.000000\n",
       "open_act_il                                   1.000000\n",
       "open_il_12m                                   1.000000\n",
       "open_il_24m                                   1.000000\n",
       "mths_since_rcnt_il                            1.000000\n",
       "total_bal_il                                  1.000000\n",
       "il_util                                       1.000000\n",
       "open_rv_12m                                   1.000000\n",
       "open_rv_24m                                   1.000000\n",
       "max_bal_bc                                    1.000000\n",
       "all_util                                      1.000000\n",
       "total_rev_hi_lim                              0.147417\n",
       "inq_fi                                        1.000000\n",
       "total_cu_tl                                   1.000000\n",
       "inq_last_12m                                  1.000000\n",
       "avg_cur_bal                                   0.147448\n",
       "mo_sin_old_il_acct                            0.179997\n",
       "mo_sin_old_rev_tl_op                          0.147422\n",
       "mo_sin_rcnt_rev_tl_op                         0.147422\n",
       "mo_sin_rcnt_tl                                0.147417\n",
       "mths_since_recent_bc_dlq                      0.804704\n",
       "mths_since_recent_inq                         0.148091\n",
       "mths_since_recent_revol_delinq                0.710667\n",
       "num_accts_ever_120_pd                         0.147417\n",
       "num_actv_bc_tl                                0.147417\n",
       "num_actv_rev_tl                               0.147417\n",
       "num_bc_tl                                     0.147417\n",
       "num_il_tl                                     0.147417\n",
       "num_op_rev_tl                                 0.147417\n",
       "num_rev_accts                                 0.147417\n",
       "num_rev_tl_bal_gt_0                           0.147417\n",
       "num_tl_120dpd_2m                              0.148777\n",
       "num_tl_30dpd                                  0.147417\n",
       "num_tl_90g_dpd_24m                            0.147417\n",
       "num_tl_op_past_12m                            0.147417\n",
       "pct_tl_nvr_dlq                                0.148230\n",
       "tot_hi_cred_lim                               0.147417\n",
       "total_il_high_credit_limit                    0.147417\n",
       "revol_bal_joint                               1.000000\n",
       "sec_app_earliest_cr_line                      1.000000\n",
       "sec_app_inq_last_6mths                        1.000000\n",
       "sec_app_mort_acc                              1.000000\n",
       "sec_app_open_acc                              1.000000\n",
       "sec_app_revol_util                            1.000000\n",
       "sec_app_open_act_il                           1.000000\n",
       "sec_app_num_rev_accts                         1.000000\n",
       "sec_app_chargeoff_within_12_mths              1.000000\n",
       "sec_app_collections_12_mths_ex_med            1.000000\n",
       "sec_app_mths_since_last_major_derog           1.000000\n",
       "hardship_type                                 0.999575\n",
       "hardship_reason                               0.999575\n",
       "hardship_status                               0.999575\n",
       "deferral_term                                 0.999575\n",
       "hardship_amount                               0.999575\n",
       "hardship_start_date                           0.999575\n",
       "hardship_end_date                             0.999575\n",
       "payment_plan_start_date                       0.999575\n",
       "hardship_length                               0.999575\n",
       "hardship_dpd                                  0.999575\n",
       "hardship_loan_status                          0.999575\n",
       "orig_projected_additional_accrued_interest    0.999633\n",
       "hardship_payoff_balance_amount                0.999575\n",
       "hardship_last_payment_amount                  0.999575\n",
       "debt_settlement_flag_date                     0.989606\n",
       "settlement_status                             0.989606\n",
       "settlement_date                               0.989606\n",
       "settlement_amount                             0.989606\n",
       "settlement_percentage                         0.989606\n",
       "settlement_term                               0.989606\n",
       "dtype: float64"
      ]
     },
     "execution_count": 98,
     "metadata": {},
     "output_type": "execute_result"
    }
   ],
   "source": [
    "# pd.options.display.max_rows = 100\n",
    "data = data_2013\n",
    "missing = data.isnull().sum() / len(data)\n",
    "print(missing[missing > 0.1].shape)\n",
    "missing[missing > 0.1]"
   ]
  },
  {
   "cell_type": "code",
   "execution_count": null,
   "metadata": {},
   "outputs": [],
   "source": []
  },
  {
   "cell_type": "code",
   "execution_count": null,
   "metadata": {},
   "outputs": [],
   "source": []
  }
 ],
 "metadata": {
  "kernelspec": {
   "display_name": "Python 3",
   "language": "python",
   "name": "python3"
  },
  "language_info": {
   "codemirror_mode": {
    "name": "ipython",
    "version": 3
   },
   "file_extension": ".py",
   "mimetype": "text/x-python",
   "name": "python",
   "nbconvert_exporter": "python",
   "pygments_lexer": "ipython3",
   "version": "3.6.5"
  }
 },
 "nbformat": 4,
 "nbformat_minor": 2
}
