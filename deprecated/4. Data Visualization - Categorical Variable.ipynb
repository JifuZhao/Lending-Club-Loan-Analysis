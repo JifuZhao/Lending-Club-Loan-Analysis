{
 "cells": [
  {
   "cell_type": "code",
   "execution_count": 1,
   "metadata": {},
   "outputs": [
    {
     "data": {
      "text/html": [
       "<script>requirejs.config({paths: { 'plotly': ['https://cdn.plot.ly/plotly-latest.min']},});if(!window.Plotly) {{require(['plotly'],function(plotly) {window.Plotly=plotly;});}}</script>"
      ],
      "text/vnd.plotly.v1+html": [
       "<script>requirejs.config({paths: { 'plotly': ['https://cdn.plot.ly/plotly-latest.min']},});if(!window.Plotly) {{require(['plotly'],function(plotly) {window.Plotly=plotly;});}}</script>"
      ]
     },
     "metadata": {},
     "output_type": "display_data"
    }
   ],
   "source": [
    "import warnings\n",
    "import numpy as np\n",
    "import pandas as pd\n",
    "import seaborn as sns\n",
    "import matplotlib.pyplot as plt\n",
    "from scipy import stats\n",
    "\n",
    "from plotly.offline import init_notebook_mode, iplot\n",
    "import plotly.figure_factory as ff\n",
    "import plotly.graph_objs as go\n",
    "from plotly import tools\n",
    "\n",
    "from utils import categorical_plot\n",
    "from utils import numerical_plot\n",
    "\n",
    "warnings.simplefilter('ignore')\n",
    "pd.options.display.max_rows = 100\n",
    "init_notebook_mode(connected=True)\n",
    "%matplotlib inline"
   ]
  },
  {
   "cell_type": "markdown",
   "metadata": {},
   "source": [
    "# Load Dataset"
   ]
  },
  {
   "cell_type": "code",
   "execution_count": 2,
   "metadata": {},
   "outputs": [
    {
     "name": "stdout",
     "output_type": "stream",
     "text": [
      "Train:\n",
      "<class 'pandas.core.frame.DataFrame'>\n",
      "RangeIndex: 722142 entries, 0 to 722141\n",
      "Columns: 68 entries, loan_amnt to credit_length\n",
      "dtypes: float64(16), int64(41), object(11)\n",
      "memory usage: 374.6+ MB\n",
      "None \n",
      "\n",
      "Test:\n",
      "<class 'pandas.core.frame.DataFrame'>\n",
      "RangeIndex: 98727 entries, 0 to 98726\n",
      "Columns: 68 entries, loan_amnt to credit_length\n",
      "dtypes: float64(16), int64(41), object(11)\n",
      "memory usage: 51.2+ MB\n",
      "None\n"
     ]
    }
   ],
   "source": [
    "train = pd.read_csv('./data/train_clean.csv')\n",
    "test = pd.read_csv('./data/test_clean.csv')\n",
    "\n",
    "print('Train:')\n",
    "print(train.info(verbose=False), '\\n')\n",
    "print('Test:')\n",
    "print(test.info(verbose=False))"
   ]
  },
  {
   "cell_type": "markdown",
   "metadata": {},
   "source": [
    "# Data Basic Information."
   ]
  },
  {
   "cell_type": "code",
   "execution_count": 3,
   "metadata": {},
   "outputs": [
    {
     "name": "stdout",
     "output_type": "stream",
     "text": [
      "Target 0:\t 549951 \t 0.7616\n",
      "Target 1:\t 172191 \t 0.2384\n",
      "0/1 Ratio:\t 3.1938\n"
     ]
    }
   ],
   "source": [
    "# imbalanced dataset\n",
    "target1 = train['target'].sum()\n",
    "target0 = (1 - train['target']).sum()\n",
    "\n",
    "print('Target 0:\\t', target0, '\\t', np.round(target0 / len(train), 4))\n",
    "print('Target 1:\\t', target1, '\\t', np.round(target1 / len(train), 4))\n",
    "print('0/1 Ratio:\\t', np.round(target0 / target1, 4))"
   ]
  },
  {
   "cell_type": "code",
   "execution_count": 4,
   "metadata": {},
   "outputs": [
    {
     "data": {
      "application/vnd.plotly.v1+json": {
       "data": [
        {
         "name": "Status 0",
         "type": "bar",
         "uid": "e7c90252-9052-11e8-bef3-88e9fe51b829",
         "x": [
          "status 0"
         ],
         "y": [
          549951
         ]
        },
        {
         "name": "Status 1",
         "type": "bar",
         "uid": "e7ca6890-9052-11e8-a59b-88e9fe51b829",
         "x": [
          "status 1"
         ],
         "y": [
          172191
         ]
        }
       ],
       "layout": {
        "autosize": false,
        "height": 400,
        "legend": {
         "orientation": "h",
         "xanchor": "auto",
         "y": -0.2
        },
        "margin": {
         "b": 30,
         "l": 50,
         "pad": 4,
         "r": 50,
         "t": 40
        },
        "title": "Loan Status Count Plot",
        "width": 700,
        "xaxis": {
         "title": "Loan Status"
        },
        "yaxis": {
         "title": "Count"
        }
       }
      },
      "text/html": [
       "<div id=\"ee8c940b-43f8-42db-b818-8155f1024856\" style=\"height: 400px; width: 700px;\" class=\"plotly-graph-div\"></div><script type=\"text/javascript\">require([\"plotly\"], function(Plotly) { window.PLOTLYENV=window.PLOTLYENV || {};window.PLOTLYENV.BASE_URL=\"https://plot.ly\";\n",
       "        Plotly.plot(\n",
       "            'ee8c940b-43f8-42db-b818-8155f1024856',\n",
       "            [{\"name\": \"Status 0\", \"x\": [\"status 0\"], \"y\": [549951], \"type\": \"bar\", \"uid\": \"e7c90252-9052-11e8-bef3-88e9fe51b829\"}, {\"name\": \"Status 1\", \"x\": [\"status 1\"], \"y\": [172191], \"type\": \"bar\", \"uid\": \"e7ca6890-9052-11e8-a59b-88e9fe51b829\"}],\n",
       "            {\"autosize\": false, \"height\": 400, \"legend\": {\"orientation\": \"h\", \"xanchor\": \"auto\", \"y\": -0.2}, \"margin\": {\"b\": 30, \"l\": 50, \"pad\": 4, \"r\": 50, \"t\": 40}, \"title\": \"Loan Status Count Plot\", \"width\": 700, \"xaxis\": {\"title\": \"Loan Status\"}, \"yaxis\": {\"title\": \"Count\"}},\n",
       "            {\"showLink\": true, \"linkText\": \"Export to plot.ly\"}\n",
       "        ).then(function () {return Plotly.addFrames('ee8c940b-43f8-42db-b818-8155f1024856',{});}).then(function(){Plotly.animate('ee8c940b-43f8-42db-b818-8155f1024856');})\n",
       "        });</script>"
      ],
      "text/vnd.plotly.v1+html": [
       "<div id=\"ee8c940b-43f8-42db-b818-8155f1024856\" style=\"height: 400px; width: 700px;\" class=\"plotly-graph-div\"></div><script type=\"text/javascript\">require([\"plotly\"], function(Plotly) { window.PLOTLYENV=window.PLOTLYENV || {};window.PLOTLYENV.BASE_URL=\"https://plot.ly\";\n",
       "        Plotly.plot(\n",
       "            'ee8c940b-43f8-42db-b818-8155f1024856',\n",
       "            [{\"name\": \"Status 0\", \"x\": [\"status 0\"], \"y\": [549951], \"type\": \"bar\", \"uid\": \"e7c90252-9052-11e8-bef3-88e9fe51b829\"}, {\"name\": \"Status 1\", \"x\": [\"status 1\"], \"y\": [172191], \"type\": \"bar\", \"uid\": \"e7ca6890-9052-11e8-a59b-88e9fe51b829\"}],\n",
       "            {\"autosize\": false, \"height\": 400, \"legend\": {\"orientation\": \"h\", \"xanchor\": \"auto\", \"y\": -0.2}, \"margin\": {\"b\": 30, \"l\": 50, \"pad\": 4, \"r\": 50, \"t\": 40}, \"title\": \"Loan Status Count Plot\", \"width\": 700, \"xaxis\": {\"title\": \"Loan Status\"}, \"yaxis\": {\"title\": \"Count\"}},\n",
       "            {\"showLink\": true, \"linkText\": \"Export to plot.ly\"}\n",
       "        ).then(function () {return Plotly.addFrames('ee8c940b-43f8-42db-b818-8155f1024856',{});}).then(function(){Plotly.animate('ee8c940b-43f8-42db-b818-8155f1024856');})\n",
       "        });</script>"
      ]
     },
     "metadata": {},
     "output_type": "display_data"
    }
   ],
   "source": [
    "# visualize the target count distribution\n",
    "data = [go.Bar(x=['status 0'], y=[target0], name='Status 0'), \n",
    "        go.Bar(x=['status 1'], y=[target1], name='Status 1')]\n",
    "margin=go.layout.Margin(l=50, r=50, b=30, t=40, pad=4)\n",
    "legend = dict(orientation='h', xanchor='auto', y=-0.2)\n",
    "\n",
    "layout = go.Layout(title='Loan Status Count Plot', xaxis=dict(title='Loan Status'), \n",
    "                   yaxis=dict(title='Count'), autosize=False, width=700, height=400, \n",
    "                   margin=margin, legend=legend)\n",
    "fig = go.Figure(data=data, layout=layout)\n",
    "iplot(fig)"
   ]
  },
  {
   "cell_type": "markdown",
   "metadata": {},
   "source": [
    "# Visualization"
   ]
  },
  {
   "cell_type": "code",
   "execution_count": 5,
   "metadata": {},
   "outputs": [
    {
     "name": "stdout",
     "output_type": "stream",
     "text": [
      "Categorical feature:\t 10\n",
      "Numerical feature:\t 54\n",
      "Total feature:\t\t 64\n"
     ]
    }
   ],
   "source": [
    "# define categorical and numerical features\n",
    "cat_features = ['term', 'home_ownership', 'verification_status', 'purpose', \n",
    "                'title', 'addr_state', 'initial_list_status', 'application_type', \n",
    "                'grade', 'sub_grade']\n",
    "\n",
    "num_features = ['loan_amnt', 'int_rate', 'installment_ratio', 'emp_length', 'annual_inc', \n",
    "                'dti', 'delinq_2yrs', 'inq_last_6mths', 'open_acc', 'pub_rec', \n",
    "                'revol_bal', 'revol_util', 'total_acc', 'collections_12_mths_ex_med', \n",
    "                'acc_now_delinq', 'tot_coll_amt', 'tot_cur_bal', 'total_rev_hi_lim', \n",
    "                'acc_open_past_24mths', 'avg_cur_bal', 'bc_open_to_buy', 'bc_util', \n",
    "                'chargeoff_within_12_mths', 'delinq_amnt', 'mo_sin_old_il_acct', \n",
    "                'mo_sin_old_rev_tl_op', 'mo_sin_rcnt_rev_tl_op', 'mo_sin_rcnt_tl', \n",
    "                'mort_acc', 'mths_since_recent_bc', 'mths_since_recent_inq',\n",
    "                'num_accts_ever_120_pd', 'num_actv_bc_tl', 'num_actv_rev_tl',\n",
    "                'num_bc_sats', 'num_bc_tl', 'num_il_tl', 'num_op_rev_tl',\n",
    "                'num_rev_accts', 'num_rev_tl_bal_gt_0', 'num_sats', 'num_tl_120dpd_2m',\n",
    "                'num_tl_30dpd', 'num_tl_90g_dpd_24m', 'num_tl_op_past_12m', \n",
    "                'pct_tl_nvr_dlq', 'percent_bc_gt_75', 'pub_rec_bankruptcies',\n",
    "                'tax_liens', 'tot_hi_cred_lim', 'total_bal_ex_mort', 'total_bc_limit',\n",
    "                'total_il_high_credit_limit', 'credit_length']\n",
    "\n",
    "features = cat_features + num_features\n",
    "\n",
    "# define numerical and categorical features\n",
    "print('Categorical feature:\\t', len(cat_features))\n",
    "print('Numerical feature:\\t', len(num_features))\n",
    "print('Total feature:\\t\\t', len(features))"
   ]
  },
  {
   "cell_type": "markdown",
   "metadata": {},
   "source": [
    "# Categorical Features"
   ]
  },
  {
   "cell_type": "code",
   "execution_count": 7,
   "metadata": {},
   "outputs": [
    {
     "data": {
      "application/vnd.plotly.v1+json": {
       "data": [
        {
         "name": " 36 months",
         "type": "bar",
         "uid": "f7008a2e-9052-11e8-90fb-88e9fe51b829",
         "x": [
          "status 0",
          "status 1"
         ],
         "xaxis": "x",
         "y": [
          0.7982783920749303,
          0.602865422699212
         ],
         "yaxis": "y"
        },
        {
         "name": " 60 months",
         "type": "bar",
         "uid": "f702f62e-9052-11e8-a001-88e9fe51b829",
         "x": [
          "status 0",
          "status 1"
         ],
         "xaxis": "x",
         "y": [
          0.20172160792506968,
          0.3971345773007881
         ],
         "yaxis": "y"
        },
        {
         "error_y": {
          "array": [
           0.0246610771663944
          ],
          "visible": true
         },
         "name": " 36 months",
         "type": "bar",
         "uid": "f70f8628-9052-11e8-ad87-88e9fe51b829",
         "x": [
          " 36 months"
         ],
         "xaxis": "x2",
         "y": [
          0.19123764327901227
         ],
         "yaxis": "y2"
        },
        {
         "error_y": {
          "array": [
           0.030457850474071457
          ],
          "visible": true
         },
         "name": " 60 months",
         "type": "bar",
         "uid": "f711eeae-9052-11e8-8c5a-88e9fe51b829",
         "x": [
          " 60 months"
         ],
         "xaxis": "x2",
         "y": [
          0.38134619674325226
         ],
         "yaxis": "y2"
        }
       ],
       "layout": {
        "annotations": [
         {
          "font": {
           "size": 16
          },
          "showarrow": false,
          "text": "Distribution Plot",
          "x": 0.225,
          "xanchor": "center",
          "xref": "paper",
          "y": 1,
          "yanchor": "bottom",
          "yref": "paper"
         },
         {
          "font": {
           "size": 16
          },
          "showarrow": false,
          "text": "Default Rate Distribution",
          "x": 0.775,
          "xanchor": "center",
          "xref": "paper",
          "y": 1,
          "yanchor": "bottom",
          "yref": "paper"
         }
        ],
        "height": 450,
        "legend": {
         "orientation": "h",
         "xanchor": "auto",
         "y": -0.2
        },
        "margin": {
         "b": 50,
         "l": 50,
         "pad": 4,
         "r": 50,
         "t": 40
        },
        "width": 1000,
        "xaxis": {
         "anchor": "y",
         "domain": [
          0,
          0.47
         ],
         "title": "Loan Status"
        },
        "xaxis2": {
         "anchor": "y2",
         "domain": [
          0.53,
          1
         ],
         "title": "Term"
        },
        "yaxis": {
         "anchor": "x",
         "domain": [
          0,
          1
         ],
         "title": "Probability Density"
        },
        "yaxis2": {
         "anchor": "x2",
         "domain": [
          0,
          1
         ],
         "title": "Default Rate"
        }
       }
      },
      "text/html": [
       "<div id=\"bfb23c0a-9a2d-4012-b96c-1065ba56c624\" style=\"height: 450px; width: 1000px;\" class=\"plotly-graph-div\"></div><script type=\"text/javascript\">require([\"plotly\"], function(Plotly) { window.PLOTLYENV=window.PLOTLYENV || {};window.PLOTLYENV.BASE_URL=\"https://plot.ly\";\n",
       "        Plotly.plot(\n",
       "            'bfb23c0a-9a2d-4012-b96c-1065ba56c624',\n",
       "            [{\"name\": \" 36 months\", \"x\": [\"status 0\", \"status 1\"], \"y\": [0.7982783920749303, 0.602865422699212], \"type\": \"bar\", \"uid\": \"f7008a2e-9052-11e8-90fb-88e9fe51b829\", \"xaxis\": \"x\", \"yaxis\": \"y\"}, {\"name\": \" 60 months\", \"x\": [\"status 0\", \"status 1\"], \"y\": [0.20172160792506968, 0.3971345773007881], \"type\": \"bar\", \"uid\": \"f702f62e-9052-11e8-a001-88e9fe51b829\", \"xaxis\": \"x\", \"yaxis\": \"y\"}, {\"error_y\": {\"array\": [0.0246610771663944], \"visible\": true}, \"name\": \" 36 months\", \"x\": [\" 36 months\"], \"xaxis\": \"x2\", \"y\": [0.19123764327901227], \"type\": \"bar\", \"uid\": \"f70f8628-9052-11e8-ad87-88e9fe51b829\", \"yaxis\": \"y2\"}, {\"error_y\": {\"array\": [0.030457850474071457], \"visible\": true}, \"name\": \" 60 months\", \"x\": [\" 60 months\"], \"xaxis\": \"x2\", \"y\": [0.38134619674325226], \"type\": \"bar\", \"uid\": \"f711eeae-9052-11e8-8c5a-88e9fe51b829\", \"yaxis\": \"y2\"}],\n",
       "            {\"annotations\": [{\"font\": {\"size\": 16}, \"showarrow\": false, \"text\": \"Distribution Plot\", \"x\": 0.225, \"xanchor\": \"center\", \"xref\": \"paper\", \"y\": 1.0, \"yanchor\": \"bottom\", \"yref\": \"paper\"}, {\"font\": {\"size\": 16}, \"showarrow\": false, \"text\": \"Default Rate Distribution\", \"x\": 0.775, \"xanchor\": \"center\", \"xref\": \"paper\", \"y\": 1.0, \"yanchor\": \"bottom\", \"yref\": \"paper\"}], \"xaxis\": {\"anchor\": \"y\", \"domain\": [0, 0.47], \"title\": \"Loan Status\"}, \"yaxis\": {\"anchor\": \"x\", \"domain\": [0.0, 1.0], \"title\": \"Probability Density\"}, \"xaxis2\": {\"anchor\": \"y2\", \"domain\": [0.53, 1], \"title\": \"Term\"}, \"yaxis2\": {\"anchor\": \"x2\", \"domain\": [0.0, 1.0], \"title\": \"Default Rate\"}, \"margin\": {\"b\": 50, \"l\": 50, \"pad\": 4, \"r\": 50, \"t\": 40}, \"legend\": {\"orientation\": \"h\", \"xanchor\": \"auto\", \"y\": -0.2}, \"width\": 1000, \"height\": 450},\n",
       "            {\"showLink\": true, \"linkText\": \"Export to plot.ly\"}\n",
       "        ).then(function () {return Plotly.addFrames('bfb23c0a-9a2d-4012-b96c-1065ba56c624',{});}).then(function(){Plotly.animate('bfb23c0a-9a2d-4012-b96c-1065ba56c624');})\n",
       "        });</script>"
      ],
      "text/vnd.plotly.v1+html": [
       "<div id=\"bfb23c0a-9a2d-4012-b96c-1065ba56c624\" style=\"height: 450px; width: 1000px;\" class=\"plotly-graph-div\"></div><script type=\"text/javascript\">require([\"plotly\"], function(Plotly) { window.PLOTLYENV=window.PLOTLYENV || {};window.PLOTLYENV.BASE_URL=\"https://plot.ly\";\n",
       "        Plotly.plot(\n",
       "            'bfb23c0a-9a2d-4012-b96c-1065ba56c624',\n",
       "            [{\"name\": \" 36 months\", \"x\": [\"status 0\", \"status 1\"], \"y\": [0.7982783920749303, 0.602865422699212], \"type\": \"bar\", \"uid\": \"f7008a2e-9052-11e8-90fb-88e9fe51b829\", \"xaxis\": \"x\", \"yaxis\": \"y\"}, {\"name\": \" 60 months\", \"x\": [\"status 0\", \"status 1\"], \"y\": [0.20172160792506968, 0.3971345773007881], \"type\": \"bar\", \"uid\": \"f702f62e-9052-11e8-a001-88e9fe51b829\", \"xaxis\": \"x\", \"yaxis\": \"y\"}, {\"error_y\": {\"array\": [0.0246610771663944], \"visible\": true}, \"name\": \" 36 months\", \"x\": [\" 36 months\"], \"xaxis\": \"x2\", \"y\": [0.19123764327901227], \"type\": \"bar\", \"uid\": \"f70f8628-9052-11e8-ad87-88e9fe51b829\", \"yaxis\": \"y2\"}, {\"error_y\": {\"array\": [0.030457850474071457], \"visible\": true}, \"name\": \" 60 months\", \"x\": [\" 60 months\"], \"xaxis\": \"x2\", \"y\": [0.38134619674325226], \"type\": \"bar\", \"uid\": \"f711eeae-9052-11e8-8c5a-88e9fe51b829\", \"yaxis\": \"y2\"}],\n",
       "            {\"annotations\": [{\"font\": {\"size\": 16}, \"showarrow\": false, \"text\": \"Distribution Plot\", \"x\": 0.225, \"xanchor\": \"center\", \"xref\": \"paper\", \"y\": 1.0, \"yanchor\": \"bottom\", \"yref\": \"paper\"}, {\"font\": {\"size\": 16}, \"showarrow\": false, \"text\": \"Default Rate Distribution\", \"x\": 0.775, \"xanchor\": \"center\", \"xref\": \"paper\", \"y\": 1.0, \"yanchor\": \"bottom\", \"yref\": \"paper\"}], \"xaxis\": {\"anchor\": \"y\", \"domain\": [0, 0.47], \"title\": \"Loan Status\"}, \"yaxis\": {\"anchor\": \"x\", \"domain\": [0.0, 1.0], \"title\": \"Probability Density\"}, \"xaxis2\": {\"anchor\": \"y2\", \"domain\": [0.53, 1], \"title\": \"Term\"}, \"yaxis2\": {\"anchor\": \"x2\", \"domain\": [0.0, 1.0], \"title\": \"Default Rate\"}, \"margin\": {\"b\": 50, \"l\": 50, \"pad\": 4, \"r\": 50, \"t\": 40}, \"legend\": {\"orientation\": \"h\", \"xanchor\": \"auto\", \"y\": -0.2}, \"width\": 1000, \"height\": 450},\n",
       "            {\"showLink\": true, \"linkText\": \"Export to plot.ly\"}\n",
       "        ).then(function () {return Plotly.addFrames('bfb23c0a-9a2d-4012-b96c-1065ba56c624',{});}).then(function(){Plotly.animate('bfb23c0a-9a2d-4012-b96c-1065ba56c624');})\n",
       "        });</script>"
      ]
     },
     "metadata": {},
     "output_type": "display_data"
    }
   ],
   "source": [
    "# term\n",
    "feature = 'term'\n",
    "iplot(categorical_plot(data=train, feature=feature, width=1000, height=450))"
   ]
  },
  {
   "cell_type": "code",
   "execution_count": 8,
   "metadata": {},
   "outputs": [
    {
     "data": {
      "application/vnd.plotly.v1+json": {
       "data": [
        {
         "name": "MORTGAGE",
         "type": "bar",
         "uid": "f89037d8-9052-11e8-a31a-88e9fe51b829",
         "x": [
          "status 0",
          "status 1"
         ],
         "xaxis": "x",
         "y": [
          0.5137857736416517,
          0.4244588857721948
         ],
         "yaxis": "y"
        },
        {
         "name": "OWN",
         "type": "bar",
         "uid": "f892a174-9052-11e8-bef5-88e9fe51b829",
         "x": [
          "status 0",
          "status 1"
         ],
         "xaxis": "x",
         "y": [
          0.10779687644899273,
          0.11270043149758117
         ],
         "yaxis": "y"
        },
        {
         "name": "Other",
         "type": "bar",
         "uid": "f8952e08-9052-11e8-b391-88e9fe51b829",
         "x": [
          "status 0",
          "status 1"
         ],
         "xaxis": "x",
         "y": [
          5.273197066647756e-05,
          6.388254902985638e-05
         ],
         "yaxis": "y"
        },
        {
         "name": "RENT",
         "type": "bar",
         "uid": "f8979768-9052-11e8-b518-88e9fe51b829",
         "x": [
          "status 0",
          "status 1"
         ],
         "xaxis": "x",
         "y": [
          0.3783646179386891,
          0.46277680018119416
         ],
         "yaxis": "y"
        },
        {
         "error_y": {
          "array": [
           0.025338124377877663
          ],
          "visible": true
         },
         "name": "MORTGAGE",
         "type": "bar",
         "uid": "f8a4bde6-9052-11e8-b477-88e9fe51b829",
         "x": [
          "MORTGAGE"
         ],
         "xaxis": "x2",
         "y": [
          0.20550830181782395
         ],
         "yaxis": "y2"
        },
        {
         "error_y": {
          "array": [
           0.02702939465025614
          ],
          "visible": true
         },
         "name": "OWN",
         "type": "bar",
         "uid": "f8a76318-9052-11e8-ab22-88e9fe51b829",
         "x": [
          "OWN"
         ],
         "xaxis": "x2",
         "y": [
          0.24661642669242206
         ],
         "yaxis": "y2"
        },
        {
         "error_y": {
          "array": [
           0.028356167194328485
          ],
          "visible": true
         },
         "name": "Other",
         "type": "bar",
         "uid": "f8a9df42-9052-11e8-accf-88e9fe51b829",
         "x": [
          "Other"
         ],
         "xaxis": "x2",
         "y": [
          0.275
         ],
         "yaxis": "y2"
        },
        {
         "error_y": {
          "array": [
           0.028059570069978723
          ],
          "visible": true
         },
         "name": "RENT",
         "type": "bar",
         "uid": "f8ac5538-9052-11e8-916a-88e9fe51b829",
         "x": [
          "RENT"
         ],
         "xaxis": "x2",
         "y": [
          0.27691056684551446
         ],
         "yaxis": "y2"
        }
       ],
       "layout": {
        "annotations": [
         {
          "font": {
           "size": 16
          },
          "showarrow": false,
          "text": "Distribution Plot",
          "x": 0.225,
          "xanchor": "center",
          "xref": "paper",
          "y": 1,
          "yanchor": "bottom",
          "yref": "paper"
         },
         {
          "font": {
           "size": 16
          },
          "showarrow": false,
          "text": "Default Rate Distribution",
          "x": 0.775,
          "xanchor": "center",
          "xref": "paper",
          "y": 1,
          "yanchor": "bottom",
          "yref": "paper"
         }
        ],
        "height": 450,
        "legend": {
         "orientation": "h",
         "xanchor": "auto",
         "y": -0.2
        },
        "margin": {
         "b": 50,
         "l": 50,
         "pad": 4,
         "r": 50,
         "t": 40
        },
        "width": 1000,
        "xaxis": {
         "anchor": "y",
         "domain": [
          0,
          0.47
         ],
         "title": "Loan Status"
        },
        "xaxis2": {
         "anchor": "y2",
         "domain": [
          0.53,
          1
         ],
         "title": "Home_ownership"
        },
        "yaxis": {
         "anchor": "x",
         "domain": [
          0,
          1
         ],
         "title": "Probability Density"
        },
        "yaxis2": {
         "anchor": "x2",
         "domain": [
          0,
          1
         ],
         "title": "Default Rate"
        }
       }
      },
      "text/html": [
       "<div id=\"71b6728b-f085-4cd0-b308-fc8c0106d548\" style=\"height: 450px; width: 1000px;\" class=\"plotly-graph-div\"></div><script type=\"text/javascript\">require([\"plotly\"], function(Plotly) { window.PLOTLYENV=window.PLOTLYENV || {};window.PLOTLYENV.BASE_URL=\"https://plot.ly\";\n",
       "        Plotly.plot(\n",
       "            '71b6728b-f085-4cd0-b308-fc8c0106d548',\n",
       "            [{\"name\": \"MORTGAGE\", \"x\": [\"status 0\", \"status 1\"], \"y\": [0.5137857736416517, 0.4244588857721948], \"type\": \"bar\", \"uid\": \"f89037d8-9052-11e8-a31a-88e9fe51b829\", \"xaxis\": \"x\", \"yaxis\": \"y\"}, {\"name\": \"OWN\", \"x\": [\"status 0\", \"status 1\"], \"y\": [0.10779687644899273, 0.11270043149758117], \"type\": \"bar\", \"uid\": \"f892a174-9052-11e8-bef5-88e9fe51b829\", \"xaxis\": \"x\", \"yaxis\": \"y\"}, {\"name\": \"Other\", \"x\": [\"status 0\", \"status 1\"], \"y\": [5.273197066647756e-05, 6.388254902985638e-05], \"type\": \"bar\", \"uid\": \"f8952e08-9052-11e8-b391-88e9fe51b829\", \"xaxis\": \"x\", \"yaxis\": \"y\"}, {\"name\": \"RENT\", \"x\": [\"status 0\", \"status 1\"], \"y\": [0.3783646179386891, 0.46277680018119416], \"type\": \"bar\", \"uid\": \"f8979768-9052-11e8-b518-88e9fe51b829\", \"xaxis\": \"x\", \"yaxis\": \"y\"}, {\"error_y\": {\"array\": [0.025338124377877663], \"visible\": true}, \"name\": \"MORTGAGE\", \"x\": [\"MORTGAGE\"], \"xaxis\": \"x2\", \"y\": [0.20550830181782395], \"type\": \"bar\", \"uid\": \"f8a4bde6-9052-11e8-b477-88e9fe51b829\", \"yaxis\": \"y2\"}, {\"error_y\": {\"array\": [0.02702939465025614], \"visible\": true}, \"name\": \"OWN\", \"x\": [\"OWN\"], \"xaxis\": \"x2\", \"y\": [0.24661642669242206], \"type\": \"bar\", \"uid\": \"f8a76318-9052-11e8-ab22-88e9fe51b829\", \"yaxis\": \"y2\"}, {\"error_y\": {\"array\": [0.028356167194328485], \"visible\": true}, \"name\": \"Other\", \"x\": [\"Other\"], \"xaxis\": \"x2\", \"y\": [0.275], \"type\": \"bar\", \"uid\": \"f8a9df42-9052-11e8-accf-88e9fe51b829\", \"yaxis\": \"y2\"}, {\"error_y\": {\"array\": [0.028059570069978723], \"visible\": true}, \"name\": \"RENT\", \"x\": [\"RENT\"], \"xaxis\": \"x2\", \"y\": [0.27691056684551446], \"type\": \"bar\", \"uid\": \"f8ac5538-9052-11e8-916a-88e9fe51b829\", \"yaxis\": \"y2\"}],\n",
       "            {\"annotations\": [{\"font\": {\"size\": 16}, \"showarrow\": false, \"text\": \"Distribution Plot\", \"x\": 0.225, \"xanchor\": \"center\", \"xref\": \"paper\", \"y\": 1.0, \"yanchor\": \"bottom\", \"yref\": \"paper\"}, {\"font\": {\"size\": 16}, \"showarrow\": false, \"text\": \"Default Rate Distribution\", \"x\": 0.775, \"xanchor\": \"center\", \"xref\": \"paper\", \"y\": 1.0, \"yanchor\": \"bottom\", \"yref\": \"paper\"}], \"xaxis\": {\"anchor\": \"y\", \"domain\": [0, 0.47], \"title\": \"Loan Status\"}, \"yaxis\": {\"anchor\": \"x\", \"domain\": [0.0, 1.0], \"title\": \"Probability Density\"}, \"xaxis2\": {\"anchor\": \"y2\", \"domain\": [0.53, 1], \"title\": \"Home_ownership\"}, \"yaxis2\": {\"anchor\": \"x2\", \"domain\": [0.0, 1.0], \"title\": \"Default Rate\"}, \"margin\": {\"b\": 50, \"l\": 50, \"pad\": 4, \"r\": 50, \"t\": 40}, \"legend\": {\"orientation\": \"h\", \"xanchor\": \"auto\", \"y\": -0.2}, \"width\": 1000, \"height\": 450},\n",
       "            {\"showLink\": true, \"linkText\": \"Export to plot.ly\"}\n",
       "        ).then(function () {return Plotly.addFrames('71b6728b-f085-4cd0-b308-fc8c0106d548',{});}).then(function(){Plotly.animate('71b6728b-f085-4cd0-b308-fc8c0106d548');})\n",
       "        });</script>"
      ],
      "text/vnd.plotly.v1+html": [
       "<div id=\"71b6728b-f085-4cd0-b308-fc8c0106d548\" style=\"height: 450px; width: 1000px;\" class=\"plotly-graph-div\"></div><script type=\"text/javascript\">require([\"plotly\"], function(Plotly) { window.PLOTLYENV=window.PLOTLYENV || {};window.PLOTLYENV.BASE_URL=\"https://plot.ly\";\n",
       "        Plotly.plot(\n",
       "            '71b6728b-f085-4cd0-b308-fc8c0106d548',\n",
       "            [{\"name\": \"MORTGAGE\", \"x\": [\"status 0\", \"status 1\"], \"y\": [0.5137857736416517, 0.4244588857721948], \"type\": \"bar\", \"uid\": \"f89037d8-9052-11e8-a31a-88e9fe51b829\", \"xaxis\": \"x\", \"yaxis\": \"y\"}, {\"name\": \"OWN\", \"x\": [\"status 0\", \"status 1\"], \"y\": [0.10779687644899273, 0.11270043149758117], \"type\": \"bar\", \"uid\": \"f892a174-9052-11e8-bef5-88e9fe51b829\", \"xaxis\": \"x\", \"yaxis\": \"y\"}, {\"name\": \"Other\", \"x\": [\"status 0\", \"status 1\"], \"y\": [5.273197066647756e-05, 6.388254902985638e-05], \"type\": \"bar\", \"uid\": \"f8952e08-9052-11e8-b391-88e9fe51b829\", \"xaxis\": \"x\", \"yaxis\": \"y\"}, {\"name\": \"RENT\", \"x\": [\"status 0\", \"status 1\"], \"y\": [0.3783646179386891, 0.46277680018119416], \"type\": \"bar\", \"uid\": \"f8979768-9052-11e8-b518-88e9fe51b829\", \"xaxis\": \"x\", \"yaxis\": \"y\"}, {\"error_y\": {\"array\": [0.025338124377877663], \"visible\": true}, \"name\": \"MORTGAGE\", \"x\": [\"MORTGAGE\"], \"xaxis\": \"x2\", \"y\": [0.20550830181782395], \"type\": \"bar\", \"uid\": \"f8a4bde6-9052-11e8-b477-88e9fe51b829\", \"yaxis\": \"y2\"}, {\"error_y\": {\"array\": [0.02702939465025614], \"visible\": true}, \"name\": \"OWN\", \"x\": [\"OWN\"], \"xaxis\": \"x2\", \"y\": [0.24661642669242206], \"type\": \"bar\", \"uid\": \"f8a76318-9052-11e8-ab22-88e9fe51b829\", \"yaxis\": \"y2\"}, {\"error_y\": {\"array\": [0.028356167194328485], \"visible\": true}, \"name\": \"Other\", \"x\": [\"Other\"], \"xaxis\": \"x2\", \"y\": [0.275], \"type\": \"bar\", \"uid\": \"f8a9df42-9052-11e8-accf-88e9fe51b829\", \"yaxis\": \"y2\"}, {\"error_y\": {\"array\": [0.028059570069978723], \"visible\": true}, \"name\": \"RENT\", \"x\": [\"RENT\"], \"xaxis\": \"x2\", \"y\": [0.27691056684551446], \"type\": \"bar\", \"uid\": \"f8ac5538-9052-11e8-916a-88e9fe51b829\", \"yaxis\": \"y2\"}],\n",
       "            {\"annotations\": [{\"font\": {\"size\": 16}, \"showarrow\": false, \"text\": \"Distribution Plot\", \"x\": 0.225, \"xanchor\": \"center\", \"xref\": \"paper\", \"y\": 1.0, \"yanchor\": \"bottom\", \"yref\": \"paper\"}, {\"font\": {\"size\": 16}, \"showarrow\": false, \"text\": \"Default Rate Distribution\", \"x\": 0.775, \"xanchor\": \"center\", \"xref\": \"paper\", \"y\": 1.0, \"yanchor\": \"bottom\", \"yref\": \"paper\"}], \"xaxis\": {\"anchor\": \"y\", \"domain\": [0, 0.47], \"title\": \"Loan Status\"}, \"yaxis\": {\"anchor\": \"x\", \"domain\": [0.0, 1.0], \"title\": \"Probability Density\"}, \"xaxis2\": {\"anchor\": \"y2\", \"domain\": [0.53, 1], \"title\": \"Home_ownership\"}, \"yaxis2\": {\"anchor\": \"x2\", \"domain\": [0.0, 1.0], \"title\": \"Default Rate\"}, \"margin\": {\"b\": 50, \"l\": 50, \"pad\": 4, \"r\": 50, \"t\": 40}, \"legend\": {\"orientation\": \"h\", \"xanchor\": \"auto\", \"y\": -0.2}, \"width\": 1000, \"height\": 450},\n",
       "            {\"showLink\": true, \"linkText\": \"Export to plot.ly\"}\n",
       "        ).then(function () {return Plotly.addFrames('71b6728b-f085-4cd0-b308-fc8c0106d548',{});}).then(function(){Plotly.animate('71b6728b-f085-4cd0-b308-fc8c0106d548');})\n",
       "        });</script>"
      ]
     },
     "metadata": {},
     "output_type": "display_data"
    }
   ],
   "source": [
    "# home_ownership\n",
    "feature = 'home_ownership'\n",
    "iplot(categorical_plot(data=train, feature=feature, width=1000, height=450))"
   ]
  },
  {
   "cell_type": "code",
   "execution_count": 9,
   "metadata": {},
   "outputs": [
    {
     "data": {
      "application/vnd.plotly.v1+json": {
       "data": [
        {
         "name": "Not Verified",
         "type": "bar",
         "uid": "fa400a66-9052-11e8-8870-88e9fe51b829",
         "x": [
          "status 0",
          "status 1"
         ],
         "xaxis": "x",
         "y": [
          0.30754376298979363,
          0.20240314534441406
         ],
         "yaxis": "y"
        },
        {
         "name": "Source Verified",
         "type": "bar",
         "uid": "fa429f68-9052-11e8-9ef5-88e9fe51b829",
         "x": [
          "status 0",
          "status 1"
         ],
         "xaxis": "x",
         "y": [
          0.41847364583390156,
          0.4415794089121963
         ],
         "yaxis": "y"
        },
        {
         "name": "Verified",
         "type": "bar",
         "uid": "fa45099e-9052-11e8-92a3-88e9fe51b829",
         "x": [
          "status 0",
          "status 1"
         ],
         "xaxis": "x",
         "y": [
          0.2739825911763048,
          0.3560174457433896
         ],
         "yaxis": "y"
        },
        {
         "error_y": {
          "array": [
           0.02360176606138556
          ],
          "visible": true
         },
         "name": "Not Verified",
         "type": "bar",
         "uid": "fa539e50-9052-11e8-960f-88e9fe51b829",
         "x": [
          "Not Verified"
         ],
         "xaxis": "x2",
         "y": [
          0.17085486258860902
         ],
         "yaxis": "y2"
        },
        {
         "error_y": {
          "array": [
           0.027092540775894902
          ],
          "visible": true
         },
         "name": "Source Verified",
         "type": "bar",
         "uid": "fa574262-9052-11e8-ab28-88e9fe51b829",
         "x": [
          "Source Verified"
         ],
         "xaxis": "x2",
         "y": [
          0.24834082357859533
         ],
         "yaxis": "y2"
        },
        {
         "error_y": {
          "array": [
           0.02843053086569891
          ],
          "visible": true
         },
         "name": "Verified",
         "type": "bar",
         "uid": "fa5b55be-9052-11e8-adfc-88e9fe51b829",
         "x": [
          "Verified"
         ],
         "xaxis": "x2",
         "y": [
          0.2891923766393056
         ],
         "yaxis": "y2"
        }
       ],
       "layout": {
        "annotations": [
         {
          "font": {
           "size": 16
          },
          "showarrow": false,
          "text": "Distribution Plot",
          "x": 0.225,
          "xanchor": "center",
          "xref": "paper",
          "y": 1,
          "yanchor": "bottom",
          "yref": "paper"
         },
         {
          "font": {
           "size": 16
          },
          "showarrow": false,
          "text": "Default Rate Distribution",
          "x": 0.775,
          "xanchor": "center",
          "xref": "paper",
          "y": 1,
          "yanchor": "bottom",
          "yref": "paper"
         }
        ],
        "height": 450,
        "legend": {
         "orientation": "h",
         "xanchor": "auto",
         "y": -0.2
        },
        "margin": {
         "b": 50,
         "l": 50,
         "pad": 4,
         "r": 50,
         "t": 40
        },
        "width": 1000,
        "xaxis": {
         "anchor": "y",
         "domain": [
          0,
          0.47
         ],
         "title": "Loan Status"
        },
        "xaxis2": {
         "anchor": "y2",
         "domain": [
          0.53,
          1
         ],
         "title": "Verification_status"
        },
        "yaxis": {
         "anchor": "x",
         "domain": [
          0,
          1
         ],
         "title": "Probability Density"
        },
        "yaxis2": {
         "anchor": "x2",
         "domain": [
          0,
          1
         ],
         "title": "Default Rate"
        }
       }
      },
      "text/html": [
       "<div id=\"15a5751f-f86e-4bfe-a126-a74ac0b06d65\" style=\"height: 450px; width: 1000px;\" class=\"plotly-graph-div\"></div><script type=\"text/javascript\">require([\"plotly\"], function(Plotly) { window.PLOTLYENV=window.PLOTLYENV || {};window.PLOTLYENV.BASE_URL=\"https://plot.ly\";\n",
       "        Plotly.plot(\n",
       "            '15a5751f-f86e-4bfe-a126-a74ac0b06d65',\n",
       "            [{\"name\": \"Not Verified\", \"x\": [\"status 0\", \"status 1\"], \"y\": [0.30754376298979363, 0.20240314534441406], \"type\": \"bar\", \"uid\": \"fa400a66-9052-11e8-8870-88e9fe51b829\", \"xaxis\": \"x\", \"yaxis\": \"y\"}, {\"name\": \"Source Verified\", \"x\": [\"status 0\", \"status 1\"], \"y\": [0.41847364583390156, 0.4415794089121963], \"type\": \"bar\", \"uid\": \"fa429f68-9052-11e8-9ef5-88e9fe51b829\", \"xaxis\": \"x\", \"yaxis\": \"y\"}, {\"name\": \"Verified\", \"x\": [\"status 0\", \"status 1\"], \"y\": [0.2739825911763048, 0.3560174457433896], \"type\": \"bar\", \"uid\": \"fa45099e-9052-11e8-92a3-88e9fe51b829\", \"xaxis\": \"x\", \"yaxis\": \"y\"}, {\"error_y\": {\"array\": [0.02360176606138556], \"visible\": true}, \"name\": \"Not Verified\", \"x\": [\"Not Verified\"], \"xaxis\": \"x2\", \"y\": [0.17085486258860902], \"type\": \"bar\", \"uid\": \"fa539e50-9052-11e8-960f-88e9fe51b829\", \"yaxis\": \"y2\"}, {\"error_y\": {\"array\": [0.027092540775894902], \"visible\": true}, \"name\": \"Source Verified\", \"x\": [\"Source Verified\"], \"xaxis\": \"x2\", \"y\": [0.24834082357859533], \"type\": \"bar\", \"uid\": \"fa574262-9052-11e8-ab28-88e9fe51b829\", \"yaxis\": \"y2\"}, {\"error_y\": {\"array\": [0.02843053086569891], \"visible\": true}, \"name\": \"Verified\", \"x\": [\"Verified\"], \"xaxis\": \"x2\", \"y\": [0.2891923766393056], \"type\": \"bar\", \"uid\": \"fa5b55be-9052-11e8-adfc-88e9fe51b829\", \"yaxis\": \"y2\"}],\n",
       "            {\"annotations\": [{\"font\": {\"size\": 16}, \"showarrow\": false, \"text\": \"Distribution Plot\", \"x\": 0.225, \"xanchor\": \"center\", \"xref\": \"paper\", \"y\": 1.0, \"yanchor\": \"bottom\", \"yref\": \"paper\"}, {\"font\": {\"size\": 16}, \"showarrow\": false, \"text\": \"Default Rate Distribution\", \"x\": 0.775, \"xanchor\": \"center\", \"xref\": \"paper\", \"y\": 1.0, \"yanchor\": \"bottom\", \"yref\": \"paper\"}], \"xaxis\": {\"anchor\": \"y\", \"domain\": [0, 0.47], \"title\": \"Loan Status\"}, \"yaxis\": {\"anchor\": \"x\", \"domain\": [0.0, 1.0], \"title\": \"Probability Density\"}, \"xaxis2\": {\"anchor\": \"y2\", \"domain\": [0.53, 1], \"title\": \"Verification_status\"}, \"yaxis2\": {\"anchor\": \"x2\", \"domain\": [0.0, 1.0], \"title\": \"Default Rate\"}, \"margin\": {\"b\": 50, \"l\": 50, \"pad\": 4, \"r\": 50, \"t\": 40}, \"legend\": {\"orientation\": \"h\", \"xanchor\": \"auto\", \"y\": -0.2}, \"width\": 1000, \"height\": 450},\n",
       "            {\"showLink\": true, \"linkText\": \"Export to plot.ly\"}\n",
       "        ).then(function () {return Plotly.addFrames('15a5751f-f86e-4bfe-a126-a74ac0b06d65',{});}).then(function(){Plotly.animate('15a5751f-f86e-4bfe-a126-a74ac0b06d65');})\n",
       "        });</script>"
      ],
      "text/vnd.plotly.v1+html": [
       "<div id=\"15a5751f-f86e-4bfe-a126-a74ac0b06d65\" style=\"height: 450px; width: 1000px;\" class=\"plotly-graph-div\"></div><script type=\"text/javascript\">require([\"plotly\"], function(Plotly) { window.PLOTLYENV=window.PLOTLYENV || {};window.PLOTLYENV.BASE_URL=\"https://plot.ly\";\n",
       "        Plotly.plot(\n",
       "            '15a5751f-f86e-4bfe-a126-a74ac0b06d65',\n",
       "            [{\"name\": \"Not Verified\", \"x\": [\"status 0\", \"status 1\"], \"y\": [0.30754376298979363, 0.20240314534441406], \"type\": \"bar\", \"uid\": \"fa400a66-9052-11e8-8870-88e9fe51b829\", \"xaxis\": \"x\", \"yaxis\": \"y\"}, {\"name\": \"Source Verified\", \"x\": [\"status 0\", \"status 1\"], \"y\": [0.41847364583390156, 0.4415794089121963], \"type\": \"bar\", \"uid\": \"fa429f68-9052-11e8-9ef5-88e9fe51b829\", \"xaxis\": \"x\", \"yaxis\": \"y\"}, {\"name\": \"Verified\", \"x\": [\"status 0\", \"status 1\"], \"y\": [0.2739825911763048, 0.3560174457433896], \"type\": \"bar\", \"uid\": \"fa45099e-9052-11e8-92a3-88e9fe51b829\", \"xaxis\": \"x\", \"yaxis\": \"y\"}, {\"error_y\": {\"array\": [0.02360176606138556], \"visible\": true}, \"name\": \"Not Verified\", \"x\": [\"Not Verified\"], \"xaxis\": \"x2\", \"y\": [0.17085486258860902], \"type\": \"bar\", \"uid\": \"fa539e50-9052-11e8-960f-88e9fe51b829\", \"yaxis\": \"y2\"}, {\"error_y\": {\"array\": [0.027092540775894902], \"visible\": true}, \"name\": \"Source Verified\", \"x\": [\"Source Verified\"], \"xaxis\": \"x2\", \"y\": [0.24834082357859533], \"type\": \"bar\", \"uid\": \"fa574262-9052-11e8-ab28-88e9fe51b829\", \"yaxis\": \"y2\"}, {\"error_y\": {\"array\": [0.02843053086569891], \"visible\": true}, \"name\": \"Verified\", \"x\": [\"Verified\"], \"xaxis\": \"x2\", \"y\": [0.2891923766393056], \"type\": \"bar\", \"uid\": \"fa5b55be-9052-11e8-adfc-88e9fe51b829\", \"yaxis\": \"y2\"}],\n",
       "            {\"annotations\": [{\"font\": {\"size\": 16}, \"showarrow\": false, \"text\": \"Distribution Plot\", \"x\": 0.225, \"xanchor\": \"center\", \"xref\": \"paper\", \"y\": 1.0, \"yanchor\": \"bottom\", \"yref\": \"paper\"}, {\"font\": {\"size\": 16}, \"showarrow\": false, \"text\": \"Default Rate Distribution\", \"x\": 0.775, \"xanchor\": \"center\", \"xref\": \"paper\", \"y\": 1.0, \"yanchor\": \"bottom\", \"yref\": \"paper\"}], \"xaxis\": {\"anchor\": \"y\", \"domain\": [0, 0.47], \"title\": \"Loan Status\"}, \"yaxis\": {\"anchor\": \"x\", \"domain\": [0.0, 1.0], \"title\": \"Probability Density\"}, \"xaxis2\": {\"anchor\": \"y2\", \"domain\": [0.53, 1], \"title\": \"Verification_status\"}, \"yaxis2\": {\"anchor\": \"x2\", \"domain\": [0.0, 1.0], \"title\": \"Default Rate\"}, \"margin\": {\"b\": 50, \"l\": 50, \"pad\": 4, \"r\": 50, \"t\": 40}, \"legend\": {\"orientation\": \"h\", \"xanchor\": \"auto\", \"y\": -0.2}, \"width\": 1000, \"height\": 450},\n",
       "            {\"showLink\": true, \"linkText\": \"Export to plot.ly\"}\n",
       "        ).then(function () {return Plotly.addFrames('15a5751f-f86e-4bfe-a126-a74ac0b06d65',{});}).then(function(){Plotly.animate('15a5751f-f86e-4bfe-a126-a74ac0b06d65');})\n",
       "        });</script>"
      ]
     },
     "metadata": {},
     "output_type": "display_data"
    }
   ],
   "source": [
    "# verification_status\n",
    "feature = 'verification_status'\n",
    "iplot(categorical_plot(data=train, feature=feature, width=1000, height=450))"
   ]
  },
  {
   "cell_type": "code",
   "execution_count": 10,
   "metadata": {},
   "outputs": [
    {
     "data": {
      "application/vnd.plotly.v1+json": {
       "data": [
        {
         "name": "car",
         "type": "bar",
         "uid": "fbf887ca-9052-11e8-9865-88e9fe51b829",
         "x": [
          "status 0",
          "status 1"
         ],
         "xaxis": "x",
         "y": [
          0.00959540031748283,
          0.007079347933399539
         ],
         "yaxis": "y"
        },
        {
         "name": "credit_card",
         "type": "bar",
         "uid": "fbfafe88-9052-11e8-82be-88e9fe51b829",
         "x": [
          "status 0",
          "status 1"
         ],
         "xaxis": "x",
         "y": [
          0.23092420961140175,
          0.19131661933550534
         ],
         "yaxis": "y"
        },
        {
         "name": "debt_consolidation",
         "type": "bar",
         "uid": "fbfd7ff0-9052-11e8-8e02-88e9fe51b829",
         "x": [
          "status 0",
          "status 1"
         ],
         "xaxis": "x",
         "y": [
          0.5899289209402292,
          0.628006109494689
         ],
         "yaxis": "y"
        },
        {
         "name": "educational",
         "type": "bar",
         "uid": "fc00273a-9052-11e8-8407-88e9fe51b829",
         "x": [
          "status 0",
          "status 1"
         ],
         "xaxis": "x",
         "y": [
          1.8183438160854332e-06,
          null
         ],
         "yaxis": "y"
        },
        {
         "name": "home_improvement",
         "type": "bar",
         "uid": "fc02b198-9052-11e8-918a-88e9fe51b829",
         "x": [
          "status 0",
          "status 1"
         ],
         "xaxis": "x",
         "y": [
          0.0639857005442303,
          0.05581011783426544
         ],
         "yaxis": "y"
        },
        {
         "name": "house",
         "type": "bar",
         "uid": "fc0588ba-9052-11e8-a906-88e9fe51b829",
         "x": [
          "status 0",
          "status 1"
         ],
         "xaxis": "x",
         "y": [
          0.0039021658293193393,
          0.0047969986816964886
         ],
         "yaxis": "y"
        },
        {
         "name": "major_purchase",
         "type": "bar",
         "uid": "fc08fc22-9052-11e8-9a82-88e9fe51b829",
         "x": [
          "status 0",
          "status 1"
         ],
         "xaxis": "x",
         "y": [
          0.019383545079470717,
          0.018833736954893113
         ],
         "yaxis": "y"
        },
        {
         "name": "medical",
         "type": "bar",
         "uid": "fc0dbc26-9052-11e8-ba65-88e9fe51b829",
         "x": [
          "status 0",
          "status 1"
         ],
         "xaxis": "x",
         "y": [
          0.01018454371389451,
          0.01166727645463468
         ],
         "yaxis": "y"
        },
        {
         "name": "moving",
         "type": "bar",
         "uid": "fc1293b8-9052-11e8-86e2-88e9fe51b829",
         "x": [
          "status 0",
          "status 1"
         ],
         "xaxis": "x",
         "y": [
          0.00629874297891994,
          0.007811093495014258
         ],
         "yaxis": "y"
        },
        {
         "name": "other",
         "type": "bar",
         "uid": "fc17609e-9052-11e8-bb13-88e9fe51b829",
         "x": [
          "status 0",
          "status 1"
         ],
         "xaxis": "x",
         "y": [
          0.05080998125287526,
          0.054073674001544794
         ],
         "yaxis": "y"
        },
        {
         "name": "renewable_energy",
         "type": "bar",
         "uid": "fc1b0b74-9052-11e8-b886-88e9fe51b829",
         "x": [
          "status 0",
          "status 1"
         ],
         "xaxis": "x",
         "y": [
          0.0005618682391703989,
          0.0007549755794437573
         ],
         "yaxis": "y"
        },
        {
         "name": "small_business",
         "type": "bar",
         "uid": "fc1ec4c6-9052-11e8-bc19-88e9fe51b829",
         "x": [
          "status 0",
          "status 1"
         ],
         "xaxis": "x",
         "y": [
          0.00812981520171797,
          0.01392639568850869
         ],
         "yaxis": "y"
        },
        {
         "name": "vacation",
         "type": "bar",
         "uid": "fc21be88-9052-11e8-b1dc-88e9fe51b829",
         "x": [
          "status 0",
          "status 1"
         ],
         "xaxis": "x",
         "y": [
          0.006269649477862573,
          0.0059236545464048645
         ],
         "yaxis": "y"
        },
        {
         "name": "wedding",
         "type": "bar",
         "uid": "fc25d4d2-9052-11e8-af7b-88e9fe51b829",
         "x": [
          "status 0",
          "status 1"
         ],
         "xaxis": "x",
         "y": [
          2.363846960911063e-05,
          null
         ],
         "yaxis": "y"
        },
        {
         "error_y": {
          "array": [
           0.024484841675118413
          ],
          "visible": true
         },
         "name": "car",
         "type": "bar",
         "uid": "fc3444fe-9052-11e8-a6cf-88e9fe51b829",
         "x": [
          "car"
         ],
         "xaxis": "x2",
         "y": [
          0.1876539408866995
         ],
         "yaxis": "y2"
        },
        {
         "error_y": {
          "array": [
           0.02535928801230658
          ],
          "visible": true
         },
         "name": "credit_card",
         "type": "bar",
         "uid": "fc36bca2-9052-11e8-ab37-88e9fe51b829",
         "x": [
          "credit_card"
         ],
         "xaxis": "x2",
         "y": [
          0.20597098912092035
         ],
         "yaxis": "y2"
        },
        {
         "error_y": {
          "array": [
           0.027152423317330532
          ],
          "visible": true
         },
         "name": "debt_consolidation",
         "type": "bar",
         "uid": "fc394ab4-9052-11e8-8c8d-88e9fe51b829",
         "x": [
          "debt_consolidation"
         ],
         "xaxis": "x2",
         "y": [
          0.24998786320795063
         ],
         "yaxis": "y2"
        },
        {
         "error_y": {
          "array": [
           null
          ],
          "visible": true
         },
         "name": "educational",
         "type": "bar",
         "uid": "fc3bc61e-9052-11e8-b211-88e9fe51b829",
         "x": [
          "educational"
         ],
         "xaxis": "x2",
         "y": [
          0
         ],
         "yaxis": "y2"
        },
        {
         "error_y": {
          "array": [
           0.0257404520631003
          ],
          "visible": true
         },
         "name": "home_improvement",
         "type": "bar",
         "uid": "fc3f1f28-9052-11e8-8bc8-88e9fe51b829",
         "x": [
          "home_improvement"
         ],
         "xaxis": "x2",
         "y": [
          0.21451371682403625
         ],
         "yaxis": "y2"
        },
        {
         "error_y": {
          "array": [
           0.028095944741319878
          ],
          "visible": true
         },
         "name": "house",
         "type": "bar",
         "uid": "fc41de3e-9052-11e8-a961-88e9fe51b829",
         "x": [
          "house"
         ],
         "xaxis": "x2",
         "y": [
          0.2779273216689098
         ],
         "yaxis": "y2"
        },
        {
         "error_y": {
          "array": [
           0.02652000851941816
          ],
          "visible": true
         },
         "name": "major_purchase",
         "type": "bar",
         "uid": "fc449692-9052-11e8-b3b6-88e9fe51b829",
         "x": [
          "major_purchase"
         ],
         "xaxis": "x2",
         "y": [
          0.23325900884701142
         ],
         "yaxis": "y2"
        },
        {
         "error_y": {
          "array": [
           0.027642741998041093
          ],
          "visible": true
         },
         "name": "medical",
         "type": "bar",
         "uid": "fc47589e-9052-11e8-b483-88e9fe51b829",
         "x": [
          "medical"
         ],
         "xaxis": "x2",
         "y": [
          0.26399474375821286
         ],
         "yaxis": "y2"
        },
        {
         "error_y": {
          "array": [
           0.028148480236351303
          ],
          "visible": true
         },
         "name": "moving",
         "type": "bar",
         "uid": "fc49c798-9052-11e8-ba07-88e9fe51b829",
         "x": [
          "moving"
         ],
         "xaxis": "x2",
         "y": [
          0.2796839259721356
         ],
         "yaxis": "y2"
        },
        {
         "error_y": {
          "array": [
           0.027150765789787507
          ],
          "visible": true
         },
         "name": "other",
         "type": "bar",
         "uid": "fc4c7562-9052-11e8-afb5-88e9fe51b829",
         "x": [
          "other"
         ],
         "xaxis": "x2",
         "y": [
          0.24993289311214903
         ],
         "yaxis": "y2"
        },
        {
         "error_y": {
          "array": [
           0.028661313303365632
          ],
          "visible": true
         },
         "name": "renewable_energy",
         "type": "bar",
         "uid": "fc4f6fb8-9052-11e8-9059-88e9fe51b829",
         "x": [
          "renewable_energy"
         ],
         "xaxis": "x2",
         "y": [
          0.296127562642369
         ],
         "yaxis": "y2"
        },
        {
         "error_y": {
          "array": [
           0.02989368878700971
          ],
          "visible": true
         },
         "name": "small_business",
         "type": "bar",
         "uid": "fc51bf1e-9052-11e8-b0f1-88e9fe51b829",
         "x": [
          "small_business"
         ],
         "xaxis": "x2",
         "y": [
          0.3491046731693114
         ],
         "yaxis": "y2"
        },
        {
         "error_y": {
          "array": [
           0.026322894431814625
          ],
          "visible": true
         },
         "name": "vacation",
         "type": "bar",
         "uid": "fc5443da-9052-11e8-88a0-88e9fe51b829",
         "x": [
          "vacation"
         ],
         "xaxis": "x2",
         "y": [
          0.22829006266786034
         ],
         "yaxis": "y2"
        },
        {
         "error_y": {
          "array": [
           null
          ],
          "visible": true
         },
         "name": "wedding",
         "type": "bar",
         "uid": "fc56c812-9052-11e8-b312-88e9fe51b829",
         "x": [
          "wedding"
         ],
         "xaxis": "x2",
         "y": [
          0
         ],
         "yaxis": "y2"
        }
       ],
       "layout": {
        "annotations": [
         {
          "font": {
           "size": 16
          },
          "showarrow": false,
          "text": "Distribution Plot",
          "x": 0.225,
          "xanchor": "center",
          "xref": "paper",
          "y": 1,
          "yanchor": "bottom",
          "yref": "paper"
         },
         {
          "font": {
           "size": 16
          },
          "showarrow": false,
          "text": "Default Rate Distribution",
          "x": 0.775,
          "xanchor": "center",
          "xref": "paper",
          "y": 1,
          "yanchor": "bottom",
          "yref": "paper"
         }
        ],
        "height": 600,
        "legend": {
         "orientation": "h",
         "xanchor": "auto",
         "y": -0.2
        },
        "margin": {
         "b": 50,
         "l": 50,
         "pad": 4,
         "r": 50,
         "t": 40
        },
        "width": 1000,
        "xaxis": {
         "anchor": "y",
         "domain": [
          0,
          0.47
         ],
         "title": "Loan Status"
        },
        "xaxis2": {
         "anchor": "y2",
         "domain": [
          0.53,
          1
         ],
         "title": "Purpose"
        },
        "yaxis": {
         "anchor": "x",
         "domain": [
          0,
          1
         ],
         "title": "Probability Density"
        },
        "yaxis2": {
         "anchor": "x2",
         "domain": [
          0,
          1
         ],
         "title": "Default Rate"
        }
       }
      },
      "text/html": [
       "<div id=\"26a15a87-9779-4bcb-b99e-2f60b966d164\" style=\"height: 600px; width: 1000px;\" class=\"plotly-graph-div\"></div><script type=\"text/javascript\">require([\"plotly\"], function(Plotly) { window.PLOTLYENV=window.PLOTLYENV || {};window.PLOTLYENV.BASE_URL=\"https://plot.ly\";\n",
       "        Plotly.plot(\n",
       "            '26a15a87-9779-4bcb-b99e-2f60b966d164',\n",
       "            [{\"name\": \"car\", \"x\": [\"status 0\", \"status 1\"], \"y\": [0.00959540031748283, 0.007079347933399539], \"type\": \"bar\", \"uid\": \"fbf887ca-9052-11e8-9865-88e9fe51b829\", \"xaxis\": \"x\", \"yaxis\": \"y\"}, {\"name\": \"credit_card\", \"x\": [\"status 0\", \"status 1\"], \"y\": [0.23092420961140175, 0.19131661933550534], \"type\": \"bar\", \"uid\": \"fbfafe88-9052-11e8-82be-88e9fe51b829\", \"xaxis\": \"x\", \"yaxis\": \"y\"}, {\"name\": \"debt_consolidation\", \"x\": [\"status 0\", \"status 1\"], \"y\": [0.5899289209402292, 0.628006109494689], \"type\": \"bar\", \"uid\": \"fbfd7ff0-9052-11e8-8e02-88e9fe51b829\", \"xaxis\": \"x\", \"yaxis\": \"y\"}, {\"name\": \"educational\", \"x\": [\"status 0\", \"status 1\"], \"y\": [1.8183438160854332e-06, null], \"type\": \"bar\", \"uid\": \"fc00273a-9052-11e8-8407-88e9fe51b829\", \"xaxis\": \"x\", \"yaxis\": \"y\"}, {\"name\": \"home_improvement\", \"x\": [\"status 0\", \"status 1\"], \"y\": [0.0639857005442303, 0.05581011783426544], \"type\": \"bar\", \"uid\": \"fc02b198-9052-11e8-918a-88e9fe51b829\", \"xaxis\": \"x\", \"yaxis\": \"y\"}, {\"name\": \"house\", \"x\": [\"status 0\", \"status 1\"], \"y\": [0.0039021658293193393, 0.0047969986816964886], \"type\": \"bar\", \"uid\": \"fc0588ba-9052-11e8-a906-88e9fe51b829\", \"xaxis\": \"x\", \"yaxis\": \"y\"}, {\"name\": \"major_purchase\", \"x\": [\"status 0\", \"status 1\"], \"y\": [0.019383545079470717, 0.018833736954893113], \"type\": \"bar\", \"uid\": \"fc08fc22-9052-11e8-9a82-88e9fe51b829\", \"xaxis\": \"x\", \"yaxis\": \"y\"}, {\"name\": \"medical\", \"x\": [\"status 0\", \"status 1\"], \"y\": [0.01018454371389451, 0.01166727645463468], \"type\": \"bar\", \"uid\": \"fc0dbc26-9052-11e8-ba65-88e9fe51b829\", \"xaxis\": \"x\", \"yaxis\": \"y\"}, {\"name\": \"moving\", \"x\": [\"status 0\", \"status 1\"], \"y\": [0.00629874297891994, 0.007811093495014258], \"type\": \"bar\", \"uid\": \"fc1293b8-9052-11e8-86e2-88e9fe51b829\", \"xaxis\": \"x\", \"yaxis\": \"y\"}, {\"name\": \"other\", \"x\": [\"status 0\", \"status 1\"], \"y\": [0.05080998125287526, 0.054073674001544794], \"type\": \"bar\", \"uid\": \"fc17609e-9052-11e8-bb13-88e9fe51b829\", \"xaxis\": \"x\", \"yaxis\": \"y\"}, {\"name\": \"renewable_energy\", \"x\": [\"status 0\", \"status 1\"], \"y\": [0.0005618682391703989, 0.0007549755794437573], \"type\": \"bar\", \"uid\": \"fc1b0b74-9052-11e8-b886-88e9fe51b829\", \"xaxis\": \"x\", \"yaxis\": \"y\"}, {\"name\": \"small_business\", \"x\": [\"status 0\", \"status 1\"], \"y\": [0.00812981520171797, 0.01392639568850869], \"type\": \"bar\", \"uid\": \"fc1ec4c6-9052-11e8-bc19-88e9fe51b829\", \"xaxis\": \"x\", \"yaxis\": \"y\"}, {\"name\": \"vacation\", \"x\": [\"status 0\", \"status 1\"], \"y\": [0.006269649477862573, 0.0059236545464048645], \"type\": \"bar\", \"uid\": \"fc21be88-9052-11e8-b1dc-88e9fe51b829\", \"xaxis\": \"x\", \"yaxis\": \"y\"}, {\"name\": \"wedding\", \"x\": [\"status 0\", \"status 1\"], \"y\": [2.363846960911063e-05, null], \"type\": \"bar\", \"uid\": \"fc25d4d2-9052-11e8-af7b-88e9fe51b829\", \"xaxis\": \"x\", \"yaxis\": \"y\"}, {\"error_y\": {\"array\": [0.024484841675118413], \"visible\": true}, \"name\": \"car\", \"x\": [\"car\"], \"xaxis\": \"x2\", \"y\": [0.1876539408866995], \"type\": \"bar\", \"uid\": \"fc3444fe-9052-11e8-a6cf-88e9fe51b829\", \"yaxis\": \"y2\"}, {\"error_y\": {\"array\": [0.02535928801230658], \"visible\": true}, \"name\": \"credit_card\", \"x\": [\"credit_card\"], \"xaxis\": \"x2\", \"y\": [0.20597098912092035], \"type\": \"bar\", \"uid\": \"fc36bca2-9052-11e8-ab37-88e9fe51b829\", \"yaxis\": \"y2\"}, {\"error_y\": {\"array\": [0.027152423317330532], \"visible\": true}, \"name\": \"debt_consolidation\", \"x\": [\"debt_consolidation\"], \"xaxis\": \"x2\", \"y\": [0.24998786320795063], \"type\": \"bar\", \"uid\": \"fc394ab4-9052-11e8-8c8d-88e9fe51b829\", \"yaxis\": \"y2\"}, {\"error_y\": {\"array\": [null], \"visible\": true}, \"name\": \"educational\", \"x\": [\"educational\"], \"xaxis\": \"x2\", \"y\": [0.0], \"type\": \"bar\", \"uid\": \"fc3bc61e-9052-11e8-b211-88e9fe51b829\", \"yaxis\": \"y2\"}, {\"error_y\": {\"array\": [0.0257404520631003], \"visible\": true}, \"name\": \"home_improvement\", \"x\": [\"home_improvement\"], \"xaxis\": \"x2\", \"y\": [0.21451371682403625], \"type\": \"bar\", \"uid\": \"fc3f1f28-9052-11e8-8bc8-88e9fe51b829\", \"yaxis\": \"y2\"}, {\"error_y\": {\"array\": [0.028095944741319878], \"visible\": true}, \"name\": \"house\", \"x\": [\"house\"], \"xaxis\": \"x2\", \"y\": [0.2779273216689098], \"type\": \"bar\", \"uid\": \"fc41de3e-9052-11e8-a961-88e9fe51b829\", \"yaxis\": \"y2\"}, {\"error_y\": {\"array\": [0.02652000851941816], \"visible\": true}, \"name\": \"major_purchase\", \"x\": [\"major_purchase\"], \"xaxis\": \"x2\", \"y\": [0.23325900884701142], \"type\": \"bar\", \"uid\": \"fc449692-9052-11e8-b3b6-88e9fe51b829\", \"yaxis\": \"y2\"}, {\"error_y\": {\"array\": [0.027642741998041093], \"visible\": true}, \"name\": \"medical\", \"x\": [\"medical\"], \"xaxis\": \"x2\", \"y\": [0.26399474375821286], \"type\": \"bar\", \"uid\": \"fc47589e-9052-11e8-b483-88e9fe51b829\", \"yaxis\": \"y2\"}, {\"error_y\": {\"array\": [0.028148480236351303], \"visible\": true}, \"name\": \"moving\", \"x\": [\"moving\"], \"xaxis\": \"x2\", \"y\": [0.2796839259721356], \"type\": \"bar\", \"uid\": \"fc49c798-9052-11e8-ba07-88e9fe51b829\", \"yaxis\": \"y2\"}, {\"error_y\": {\"array\": [0.027150765789787507], \"visible\": true}, \"name\": \"other\", \"x\": [\"other\"], \"xaxis\": \"x2\", \"y\": [0.24993289311214903], \"type\": \"bar\", \"uid\": \"fc4c7562-9052-11e8-afb5-88e9fe51b829\", \"yaxis\": \"y2\"}, {\"error_y\": {\"array\": [0.028661313303365632], \"visible\": true}, \"name\": \"renewable_energy\", \"x\": [\"renewable_energy\"], \"xaxis\": \"x2\", \"y\": [0.296127562642369], \"type\": \"bar\", \"uid\": \"fc4f6fb8-9052-11e8-9059-88e9fe51b829\", \"yaxis\": \"y2\"}, {\"error_y\": {\"array\": [0.02989368878700971], \"visible\": true}, \"name\": \"small_business\", \"x\": [\"small_business\"], \"xaxis\": \"x2\", \"y\": [0.3491046731693114], \"type\": \"bar\", \"uid\": \"fc51bf1e-9052-11e8-b0f1-88e9fe51b829\", \"yaxis\": \"y2\"}, {\"error_y\": {\"array\": [0.026322894431814625], \"visible\": true}, \"name\": \"vacation\", \"x\": [\"vacation\"], \"xaxis\": \"x2\", \"y\": [0.22829006266786034], \"type\": \"bar\", \"uid\": \"fc5443da-9052-11e8-88a0-88e9fe51b829\", \"yaxis\": \"y2\"}, {\"error_y\": {\"array\": [null], \"visible\": true}, \"name\": \"wedding\", \"x\": [\"wedding\"], \"xaxis\": \"x2\", \"y\": [0.0], \"type\": \"bar\", \"uid\": \"fc56c812-9052-11e8-b312-88e9fe51b829\", \"yaxis\": \"y2\"}],\n",
       "            {\"annotations\": [{\"font\": {\"size\": 16}, \"showarrow\": false, \"text\": \"Distribution Plot\", \"x\": 0.225, \"xanchor\": \"center\", \"xref\": \"paper\", \"y\": 1.0, \"yanchor\": \"bottom\", \"yref\": \"paper\"}, {\"font\": {\"size\": 16}, \"showarrow\": false, \"text\": \"Default Rate Distribution\", \"x\": 0.775, \"xanchor\": \"center\", \"xref\": \"paper\", \"y\": 1.0, \"yanchor\": \"bottom\", \"yref\": \"paper\"}], \"xaxis\": {\"anchor\": \"y\", \"domain\": [0, 0.47], \"title\": \"Loan Status\"}, \"yaxis\": {\"anchor\": \"x\", \"domain\": [0.0, 1.0], \"title\": \"Probability Density\"}, \"xaxis2\": {\"anchor\": \"y2\", \"domain\": [0.53, 1], \"title\": \"Purpose\"}, \"yaxis2\": {\"anchor\": \"x2\", \"domain\": [0.0, 1.0], \"title\": \"Default Rate\"}, \"margin\": {\"b\": 50, \"l\": 50, \"pad\": 4, \"r\": 50, \"t\": 40}, \"legend\": {\"orientation\": \"h\", \"xanchor\": \"auto\", \"y\": -0.2}, \"width\": 1000, \"height\": 600},\n",
       "            {\"showLink\": true, \"linkText\": \"Export to plot.ly\"}\n",
       "        ).then(function () {return Plotly.addFrames('26a15a87-9779-4bcb-b99e-2f60b966d164',{});}).then(function(){Plotly.animate('26a15a87-9779-4bcb-b99e-2f60b966d164');})\n",
       "        });</script>"
      ],
      "text/vnd.plotly.v1+html": [
       "<div id=\"26a15a87-9779-4bcb-b99e-2f60b966d164\" style=\"height: 600px; width: 1000px;\" class=\"plotly-graph-div\"></div><script type=\"text/javascript\">require([\"plotly\"], function(Plotly) { window.PLOTLYENV=window.PLOTLYENV || {};window.PLOTLYENV.BASE_URL=\"https://plot.ly\";\n",
       "        Plotly.plot(\n",
       "            '26a15a87-9779-4bcb-b99e-2f60b966d164',\n",
       "            [{\"name\": \"car\", \"x\": [\"status 0\", \"status 1\"], \"y\": [0.00959540031748283, 0.007079347933399539], \"type\": \"bar\", \"uid\": \"fbf887ca-9052-11e8-9865-88e9fe51b829\", \"xaxis\": \"x\", \"yaxis\": \"y\"}, {\"name\": \"credit_card\", \"x\": [\"status 0\", \"status 1\"], \"y\": [0.23092420961140175, 0.19131661933550534], \"type\": \"bar\", \"uid\": \"fbfafe88-9052-11e8-82be-88e9fe51b829\", \"xaxis\": \"x\", \"yaxis\": \"y\"}, {\"name\": \"debt_consolidation\", \"x\": [\"status 0\", \"status 1\"], \"y\": [0.5899289209402292, 0.628006109494689], \"type\": \"bar\", \"uid\": \"fbfd7ff0-9052-11e8-8e02-88e9fe51b829\", \"xaxis\": \"x\", \"yaxis\": \"y\"}, {\"name\": \"educational\", \"x\": [\"status 0\", \"status 1\"], \"y\": [1.8183438160854332e-06, null], \"type\": \"bar\", \"uid\": \"fc00273a-9052-11e8-8407-88e9fe51b829\", \"xaxis\": \"x\", \"yaxis\": \"y\"}, {\"name\": \"home_improvement\", \"x\": [\"status 0\", \"status 1\"], \"y\": [0.0639857005442303, 0.05581011783426544], \"type\": \"bar\", \"uid\": \"fc02b198-9052-11e8-918a-88e9fe51b829\", \"xaxis\": \"x\", \"yaxis\": \"y\"}, {\"name\": \"house\", \"x\": [\"status 0\", \"status 1\"], \"y\": [0.0039021658293193393, 0.0047969986816964886], \"type\": \"bar\", \"uid\": \"fc0588ba-9052-11e8-a906-88e9fe51b829\", \"xaxis\": \"x\", \"yaxis\": \"y\"}, {\"name\": \"major_purchase\", \"x\": [\"status 0\", \"status 1\"], \"y\": [0.019383545079470717, 0.018833736954893113], \"type\": \"bar\", \"uid\": \"fc08fc22-9052-11e8-9a82-88e9fe51b829\", \"xaxis\": \"x\", \"yaxis\": \"y\"}, {\"name\": \"medical\", \"x\": [\"status 0\", \"status 1\"], \"y\": [0.01018454371389451, 0.01166727645463468], \"type\": \"bar\", \"uid\": \"fc0dbc26-9052-11e8-ba65-88e9fe51b829\", \"xaxis\": \"x\", \"yaxis\": \"y\"}, {\"name\": \"moving\", \"x\": [\"status 0\", \"status 1\"], \"y\": [0.00629874297891994, 0.007811093495014258], \"type\": \"bar\", \"uid\": \"fc1293b8-9052-11e8-86e2-88e9fe51b829\", \"xaxis\": \"x\", \"yaxis\": \"y\"}, {\"name\": \"other\", \"x\": [\"status 0\", \"status 1\"], \"y\": [0.05080998125287526, 0.054073674001544794], \"type\": \"bar\", \"uid\": \"fc17609e-9052-11e8-bb13-88e9fe51b829\", \"xaxis\": \"x\", \"yaxis\": \"y\"}, {\"name\": \"renewable_energy\", \"x\": [\"status 0\", \"status 1\"], \"y\": [0.0005618682391703989, 0.0007549755794437573], \"type\": \"bar\", \"uid\": \"fc1b0b74-9052-11e8-b886-88e9fe51b829\", \"xaxis\": \"x\", \"yaxis\": \"y\"}, {\"name\": \"small_business\", \"x\": [\"status 0\", \"status 1\"], \"y\": [0.00812981520171797, 0.01392639568850869], \"type\": \"bar\", \"uid\": \"fc1ec4c6-9052-11e8-bc19-88e9fe51b829\", \"xaxis\": \"x\", \"yaxis\": \"y\"}, {\"name\": \"vacation\", \"x\": [\"status 0\", \"status 1\"], \"y\": [0.006269649477862573, 0.0059236545464048645], \"type\": \"bar\", \"uid\": \"fc21be88-9052-11e8-b1dc-88e9fe51b829\", \"xaxis\": \"x\", \"yaxis\": \"y\"}, {\"name\": \"wedding\", \"x\": [\"status 0\", \"status 1\"], \"y\": [2.363846960911063e-05, null], \"type\": \"bar\", \"uid\": \"fc25d4d2-9052-11e8-af7b-88e9fe51b829\", \"xaxis\": \"x\", \"yaxis\": \"y\"}, {\"error_y\": {\"array\": [0.024484841675118413], \"visible\": true}, \"name\": \"car\", \"x\": [\"car\"], \"xaxis\": \"x2\", \"y\": [0.1876539408866995], \"type\": \"bar\", \"uid\": \"fc3444fe-9052-11e8-a6cf-88e9fe51b829\", \"yaxis\": \"y2\"}, {\"error_y\": {\"array\": [0.02535928801230658], \"visible\": true}, \"name\": \"credit_card\", \"x\": [\"credit_card\"], \"xaxis\": \"x2\", \"y\": [0.20597098912092035], \"type\": \"bar\", \"uid\": \"fc36bca2-9052-11e8-ab37-88e9fe51b829\", \"yaxis\": \"y2\"}, {\"error_y\": {\"array\": [0.027152423317330532], \"visible\": true}, \"name\": \"debt_consolidation\", \"x\": [\"debt_consolidation\"], \"xaxis\": \"x2\", \"y\": [0.24998786320795063], \"type\": \"bar\", \"uid\": \"fc394ab4-9052-11e8-8c8d-88e9fe51b829\", \"yaxis\": \"y2\"}, {\"error_y\": {\"array\": [null], \"visible\": true}, \"name\": \"educational\", \"x\": [\"educational\"], \"xaxis\": \"x2\", \"y\": [0.0], \"type\": \"bar\", \"uid\": \"fc3bc61e-9052-11e8-b211-88e9fe51b829\", \"yaxis\": \"y2\"}, {\"error_y\": {\"array\": [0.0257404520631003], \"visible\": true}, \"name\": \"home_improvement\", \"x\": [\"home_improvement\"], \"xaxis\": \"x2\", \"y\": [0.21451371682403625], \"type\": \"bar\", \"uid\": \"fc3f1f28-9052-11e8-8bc8-88e9fe51b829\", \"yaxis\": \"y2\"}, {\"error_y\": {\"array\": [0.028095944741319878], \"visible\": true}, \"name\": \"house\", \"x\": [\"house\"], \"xaxis\": \"x2\", \"y\": [0.2779273216689098], \"type\": \"bar\", \"uid\": \"fc41de3e-9052-11e8-a961-88e9fe51b829\", \"yaxis\": \"y2\"}, {\"error_y\": {\"array\": [0.02652000851941816], \"visible\": true}, \"name\": \"major_purchase\", \"x\": [\"major_purchase\"], \"xaxis\": \"x2\", \"y\": [0.23325900884701142], \"type\": \"bar\", \"uid\": \"fc449692-9052-11e8-b3b6-88e9fe51b829\", \"yaxis\": \"y2\"}, {\"error_y\": {\"array\": [0.027642741998041093], \"visible\": true}, \"name\": \"medical\", \"x\": [\"medical\"], \"xaxis\": \"x2\", \"y\": [0.26399474375821286], \"type\": \"bar\", \"uid\": \"fc47589e-9052-11e8-b483-88e9fe51b829\", \"yaxis\": \"y2\"}, {\"error_y\": {\"array\": [0.028148480236351303], \"visible\": true}, \"name\": \"moving\", \"x\": [\"moving\"], \"xaxis\": \"x2\", \"y\": [0.2796839259721356], \"type\": \"bar\", \"uid\": \"fc49c798-9052-11e8-ba07-88e9fe51b829\", \"yaxis\": \"y2\"}, {\"error_y\": {\"array\": [0.027150765789787507], \"visible\": true}, \"name\": \"other\", \"x\": [\"other\"], \"xaxis\": \"x2\", \"y\": [0.24993289311214903], \"type\": \"bar\", \"uid\": \"fc4c7562-9052-11e8-afb5-88e9fe51b829\", \"yaxis\": \"y2\"}, {\"error_y\": {\"array\": [0.028661313303365632], \"visible\": true}, \"name\": \"renewable_energy\", \"x\": [\"renewable_energy\"], \"xaxis\": \"x2\", \"y\": [0.296127562642369], \"type\": \"bar\", \"uid\": \"fc4f6fb8-9052-11e8-9059-88e9fe51b829\", \"yaxis\": \"y2\"}, {\"error_y\": {\"array\": [0.02989368878700971], \"visible\": true}, \"name\": \"small_business\", \"x\": [\"small_business\"], \"xaxis\": \"x2\", \"y\": [0.3491046731693114], \"type\": \"bar\", \"uid\": \"fc51bf1e-9052-11e8-b0f1-88e9fe51b829\", \"yaxis\": \"y2\"}, {\"error_y\": {\"array\": [0.026322894431814625], \"visible\": true}, \"name\": \"vacation\", \"x\": [\"vacation\"], \"xaxis\": \"x2\", \"y\": [0.22829006266786034], \"type\": \"bar\", \"uid\": \"fc5443da-9052-11e8-88a0-88e9fe51b829\", \"yaxis\": \"y2\"}, {\"error_y\": {\"array\": [null], \"visible\": true}, \"name\": \"wedding\", \"x\": [\"wedding\"], \"xaxis\": \"x2\", \"y\": [0.0], \"type\": \"bar\", \"uid\": \"fc56c812-9052-11e8-b312-88e9fe51b829\", \"yaxis\": \"y2\"}],\n",
       "            {\"annotations\": [{\"font\": {\"size\": 16}, \"showarrow\": false, \"text\": \"Distribution Plot\", \"x\": 0.225, \"xanchor\": \"center\", \"xref\": \"paper\", \"y\": 1.0, \"yanchor\": \"bottom\", \"yref\": \"paper\"}, {\"font\": {\"size\": 16}, \"showarrow\": false, \"text\": \"Default Rate Distribution\", \"x\": 0.775, \"xanchor\": \"center\", \"xref\": \"paper\", \"y\": 1.0, \"yanchor\": \"bottom\", \"yref\": \"paper\"}], \"xaxis\": {\"anchor\": \"y\", \"domain\": [0, 0.47], \"title\": \"Loan Status\"}, \"yaxis\": {\"anchor\": \"x\", \"domain\": [0.0, 1.0], \"title\": \"Probability Density\"}, \"xaxis2\": {\"anchor\": \"y2\", \"domain\": [0.53, 1], \"title\": \"Purpose\"}, \"yaxis2\": {\"anchor\": \"x2\", \"domain\": [0.0, 1.0], \"title\": \"Default Rate\"}, \"margin\": {\"b\": 50, \"l\": 50, \"pad\": 4, \"r\": 50, \"t\": 40}, \"legend\": {\"orientation\": \"h\", \"xanchor\": \"auto\", \"y\": -0.2}, \"width\": 1000, \"height\": 600},\n",
       "            {\"showLink\": true, \"linkText\": \"Export to plot.ly\"}\n",
       "        ).then(function () {return Plotly.addFrames('26a15a87-9779-4bcb-b99e-2f60b966d164',{});}).then(function(){Plotly.animate('26a15a87-9779-4bcb-b99e-2f60b966d164');})\n",
       "        });</script>"
      ]
     },
     "metadata": {},
     "output_type": "display_data"
    }
   ],
   "source": [
    "# purpose\n",
    "feature = 'purpose'\n",
    "iplot(categorical_plot(data=train, feature=feature, width=1000, height=600))"
   ]
  },
  {
   "cell_type": "code",
   "execution_count": 11,
   "metadata": {},
   "outputs": [
    {
     "data": {
      "application/vnd.plotly.v1+json": {
       "data": [
        {
         "name": "business",
         "type": "bar",
         "uid": "fe088f74-9052-11e8-9ee3-88e9fe51b829",
         "x": [
          "status 0",
          "status 1"
         ],
         "xaxis": "x",
         "y": [
          0.007947980820109429,
          0.013560522907701331
         ],
         "yaxis": "y"
        },
        {
         "name": "car financing",
         "type": "bar",
         "uid": "fe0ac56e-9052-11e8-a01b-88e9fe51b829",
         "x": [
          "status 0",
          "status 1"
         ],
         "xaxis": "x",
         "y": [
          0.00944811446837991,
          0.006951582835339826
         ],
         "yaxis": "y"
        },
        {
         "name": "consolidation",
         "type": "bar",
         "uid": "fe0d3100-9052-11e8-919c-88e9fe51b829",
         "x": [
          "status 0",
          "status 1"
         ],
         "xaxis": "x",
         "y": [
          0.00028366163530932755,
          0.00018584014263230947
         ],
         "yaxis": "y"
        },
        {
         "name": "credit card refinancing",
         "type": "bar",
         "uid": "fe0f6d1c-9052-11e8-b9ac-88e9fe51b829",
         "x": [
          "status 0",
          "status 1"
         ],
         "xaxis": "x",
         "y": [
          0.22625288434787827,
          0.18548007735595937
         ],
         "yaxis": "y"
        },
        {
         "name": "debt consolidation",
         "type": "bar",
         "uid": "fe11b11c-9052-11e8-b879-88e9fe51b829",
         "x": [
          "status 0",
          "status 1"
         ],
         "xaxis": "x",
         "y": [
          0.5792879729284973,
          0.6095672828428896
         ],
         "yaxis": "y"
        },
        {
         "name": "green loan",
         "type": "bar",
         "uid": "fe1408ae-9052-11e8-a7a0-88e9fe51b829",
         "x": [
          "status 0",
          "status 1"
         ],
         "xaxis": "x",
         "y": [
          0.0005564132077221425,
          0.0007201305527001992
         ],
         "yaxis": "y"
        },
        {
         "name": "home buying",
         "type": "bar",
         "uid": "fe168eb4-9052-11e8-a7cf-88e9fe51b829",
         "x": [
          "status 0",
          "status 1"
         ],
         "xaxis": "x",
         "y": [
          0.00384216048338852,
          0.004686656097008555
         ],
         "yaxis": "y"
        },
        {
         "name": "home improvement",
         "type": "bar",
         "uid": "fe18fd82-9052-11e8-896b-88e9fe51b829",
         "x": [
          "status 0",
          "status 1"
         ],
         "xaxis": "x",
         "y": [
          0.06296015463195812,
          0.054433739277894896
         ],
         "yaxis": "y"
        },
        {
         "name": "major purchase",
         "type": "bar",
         "uid": "fe1b6b62-9052-11e8-bce1-88e9fe51b829",
         "x": [
          "status 0",
          "status 1"
         ],
         "xaxis": "x",
         "y": [
          0.01909442841271313,
          0.018444634156256714
         ],
         "yaxis": "y"
        },
        {
         "name": "medical expenses",
         "type": "bar",
         "uid": "fe1dec86-9052-11e8-9adf-88e9fe51b829",
         "x": [
          "status 0",
          "status 1"
         ],
         "xaxis": "x",
         "y": [
          0.010008164363734223,
          0.011417553762972514
         ],
         "yaxis": "y"
        },
        {
         "name": "moving and relocation",
         "type": "bar",
         "uid": "fe208d0c-9052-11e8-a3c4-88e9fe51b829",
         "x": [
          "status 0",
          "status 1"
         ],
         "xaxis": "x",
         "y": [
          0.006222372538644352,
          0.0076833283969545444
         ],
         "yaxis": "y"
        },
        {
         "name": "other",
         "type": "bar",
         "uid": "fe249d18-9052-11e8-a169-88e9fe51b829",
         "x": [
          "status 0",
          "status 1"
         ],
         "xaxis": "x",
         "y": [
          0.06791695987460701,
          0.0811598747902039
         ],
         "yaxis": "y"
        },
        {
         "name": "vacation",
         "type": "bar",
         "uid": "fe27c29a-9052-11e8-be61-88e9fe51b829",
         "x": [
          "status 0",
          "status 1"
         ],
         "xaxis": "x",
         "y": [
          0.006178732287058302,
          0.005708776881486257
         ],
         "yaxis": "y"
        },
        {
         "error_y": {
          "array": [
           0.02987563645853808
          ],
          "visible": true
         },
         "name": "business",
         "type": "bar",
         "uid": "fe389d74-9052-11e8-b243-88e9fe51b829",
         "x": [
          "business"
         ],
         "xaxis": "x2",
         "y": [
          0.3481956456904265
         ],
         "yaxis": "y2"
        },
        {
         "error_y": {
          "array": [
           0.024463883339906067
          ],
          "visible": true
         },
         "name": "car financing",
         "type": "bar",
         "uid": "fe3aeac8-9052-11e8-85d5-88e9fe51b829",
         "x": [
          "car financing"
         ],
         "xaxis": "x2",
         "y": [
          0.18723603941811356
         ],
         "yaxis": "y2"
        },
        {
         "error_y": {
          "array": [
           0.02362936476201033
          ],
          "visible": true
         },
         "name": "consolidation",
         "type": "bar",
         "uid": "fe3d5a1a-9052-11e8-915c-88e9fe51b829",
         "x": [
          "consolidation"
         ],
         "xaxis": "x2",
         "y": [
          0.1702127659574468
         ],
         "yaxis": "y2"
        },
        {
         "error_y": {
          "array": [
           0.025280547002907827
          ],
          "visible": true
         },
         "name": "credit card refinancing",
         "type": "bar",
         "uid": "fe3fdfc6-9052-11e8-962d-88e9fe51b829",
         "x": [
          "credit card refinancing"
         ],
         "xaxis": "x2",
         "y": [
          0.20425156363915428
         ],
         "yaxis": "y2"
        },
        {
         "error_y": {
          "array": [
           0.027073463489963617
          ],
          "visible": true
         },
         "name": "debt consolidation",
         "type": "bar",
         "uid": "fe426cba-9052-11e8-b680-88e9fe51b829",
         "x": [
          "debt consolidation"
         ],
         "xaxis": "x2",
         "y": [
          0.24781957869585544
         ],
         "yaxis": "y2"
        },
        {
         "error_y": {
          "array": [
           0.028439579318628727
          ],
          "visible": true
         },
         "name": "green loan",
         "type": "bar",
         "uid": "fe45173a-9052-11e8-97ab-88e9fe51b829",
         "x": [
          "green loan"
         ],
         "xaxis": "x2",
         "y": [
          0.28837209302325584
         ],
         "yaxis": "y2"
        },
        {
         "error_y": {
          "array": [
           0.028047394861670877
          ],
          "visible": true
         },
         "name": "home buying",
         "type": "bar",
         "uid": "fe478bb6-9052-11e8-a2fd-88e9fe51b829",
         "x": [
          "home buying"
         ],
         "xaxis": "x2",
         "y": [
          0.27636986301369865
         ],
         "yaxis": "y2"
        },
        {
         "error_y": {
          "array": [
           0.02567560499299895
          ],
          "visible": true
         },
         "name": "home improvement",
         "type": "bar",
         "uid": "fe4a215a-9052-11e8-868f-88e9fe51b829",
         "x": [
          "home improvement"
         ],
         "xaxis": "x2",
         "y": [
          0.21303241056411656
         ],
         "yaxis": "y2"
        },
        {
         "error_y": {
          "array": [
           0.026478604490762836
          ],
          "visible": true
         },
         "name": "major purchase",
         "type": "bar",
         "uid": "fe4c96f6-9052-11e8-aa52-88e9fe51b829",
         "x": [
          "major purchase"
         ],
         "xaxis": "x2",
         "y": [
          0.23221466695912846
         ],
         "yaxis": "y2"
        },
        {
         "error_y": {
          "array": [
           0.02761556447097957
          ],
          "visible": true
         },
         "name": "medical expenses",
         "type": "bar",
         "uid": "fe4f1d7a-9052-11e8-92b4-88e9fe51b829",
         "x": [
          "medical expenses"
         ],
         "xaxis": "x2",
         "y": [
          0.26318607764390894
         ],
         "yaxis": "y2"
        },
        {
         "error_y": {
          "array": [
           0.028121854840746252
          ],
          "visible": true
         },
         "name": "moving and relocation",
         "type": "bar",
         "uid": "fe51a592-9052-11e8-8c01-88e9fe51b829",
         "x": [
          "moving and relocation"
         ],
         "xaxis": "x2",
         "y": [
          0.27881981032665965
         ],
         "yaxis": "y2"
        },
        {
         "error_y": {
          "array": [
           0.027913116123825854
          ],
          "visible": true
         },
         "name": "other",
         "type": "bar",
         "uid": "fe543212-9052-11e8-8e07-88e9fe51b829",
         "x": [
          "other"
         ],
         "xaxis": "x2",
         "y": [
          0.2722791567626544
         ],
         "yaxis": "y2"
        },
        {
         "error_y": {
          "array": [
           0.026162500543898987
          ],
          "visible": true
         },
         "name": "vacation",
         "type": "bar",
         "uid": "fe56b2a8-9052-11e8-b843-88e9fe51b829",
         "x": [
          "vacation"
         ],
         "xaxis": "x2",
         "y": [
          0.22437799589134902
         ],
         "yaxis": "y2"
        }
       ],
       "layout": {
        "annotations": [
         {
          "font": {
           "size": 16
          },
          "showarrow": false,
          "text": "Distribution Plot",
          "x": 0.225,
          "xanchor": "center",
          "xref": "paper",
          "y": 1,
          "yanchor": "bottom",
          "yref": "paper"
         },
         {
          "font": {
           "size": 16
          },
          "showarrow": false,
          "text": "Default Rate Distribution",
          "x": 0.775,
          "xanchor": "center",
          "xref": "paper",
          "y": 1,
          "yanchor": "bottom",
          "yref": "paper"
         }
        ],
        "height": 600,
        "legend": {
         "orientation": "h",
         "xanchor": "auto",
         "y": -0.2
        },
        "margin": {
         "b": 50,
         "l": 50,
         "pad": 4,
         "r": 50,
         "t": 40
        },
        "width": 1000,
        "xaxis": {
         "anchor": "y",
         "domain": [
          0,
          0.47
         ],
         "title": "Loan Status"
        },
        "xaxis2": {
         "anchor": "y2",
         "domain": [
          0.53,
          1
         ],
         "title": "Title"
        },
        "yaxis": {
         "anchor": "x",
         "domain": [
          0,
          1
         ],
         "title": "Probability Density"
        },
        "yaxis2": {
         "anchor": "x2",
         "domain": [
          0,
          1
         ],
         "title": "Default Rate"
        }
       }
      },
      "text/html": [
       "<div id=\"8406c218-6932-4ed3-9228-51ecfb62b606\" style=\"height: 600px; width: 1000px;\" class=\"plotly-graph-div\"></div><script type=\"text/javascript\">require([\"plotly\"], function(Plotly) { window.PLOTLYENV=window.PLOTLYENV || {};window.PLOTLYENV.BASE_URL=\"https://plot.ly\";\n",
       "        Plotly.plot(\n",
       "            '8406c218-6932-4ed3-9228-51ecfb62b606',\n",
       "            [{\"name\": \"business\", \"x\": [\"status 0\", \"status 1\"], \"y\": [0.007947980820109429, 0.013560522907701331], \"type\": \"bar\", \"uid\": \"fe088f74-9052-11e8-9ee3-88e9fe51b829\", \"xaxis\": \"x\", \"yaxis\": \"y\"}, {\"name\": \"car financing\", \"x\": [\"status 0\", \"status 1\"], \"y\": [0.00944811446837991, 0.006951582835339826], \"type\": \"bar\", \"uid\": \"fe0ac56e-9052-11e8-a01b-88e9fe51b829\", \"xaxis\": \"x\", \"yaxis\": \"y\"}, {\"name\": \"consolidation\", \"x\": [\"status 0\", \"status 1\"], \"y\": [0.00028366163530932755, 0.00018584014263230947], \"type\": \"bar\", \"uid\": \"fe0d3100-9052-11e8-919c-88e9fe51b829\", \"xaxis\": \"x\", \"yaxis\": \"y\"}, {\"name\": \"credit card refinancing\", \"x\": [\"status 0\", \"status 1\"], \"y\": [0.22625288434787827, 0.18548007735595937], \"type\": \"bar\", \"uid\": \"fe0f6d1c-9052-11e8-b9ac-88e9fe51b829\", \"xaxis\": \"x\", \"yaxis\": \"y\"}, {\"name\": \"debt consolidation\", \"x\": [\"status 0\", \"status 1\"], \"y\": [0.5792879729284973, 0.6095672828428896], \"type\": \"bar\", \"uid\": \"fe11b11c-9052-11e8-b879-88e9fe51b829\", \"xaxis\": \"x\", \"yaxis\": \"y\"}, {\"name\": \"green loan\", \"x\": [\"status 0\", \"status 1\"], \"y\": [0.0005564132077221425, 0.0007201305527001992], \"type\": \"bar\", \"uid\": \"fe1408ae-9052-11e8-a7a0-88e9fe51b829\", \"xaxis\": \"x\", \"yaxis\": \"y\"}, {\"name\": \"home buying\", \"x\": [\"status 0\", \"status 1\"], \"y\": [0.00384216048338852, 0.004686656097008555], \"type\": \"bar\", \"uid\": \"fe168eb4-9052-11e8-a7cf-88e9fe51b829\", \"xaxis\": \"x\", \"yaxis\": \"y\"}, {\"name\": \"home improvement\", \"x\": [\"status 0\", \"status 1\"], \"y\": [0.06296015463195812, 0.054433739277894896], \"type\": \"bar\", \"uid\": \"fe18fd82-9052-11e8-896b-88e9fe51b829\", \"xaxis\": \"x\", \"yaxis\": \"y\"}, {\"name\": \"major purchase\", \"x\": [\"status 0\", \"status 1\"], \"y\": [0.01909442841271313, 0.018444634156256714], \"type\": \"bar\", \"uid\": \"fe1b6b62-9052-11e8-bce1-88e9fe51b829\", \"xaxis\": \"x\", \"yaxis\": \"y\"}, {\"name\": \"medical expenses\", \"x\": [\"status 0\", \"status 1\"], \"y\": [0.010008164363734223, 0.011417553762972514], \"type\": \"bar\", \"uid\": \"fe1dec86-9052-11e8-9adf-88e9fe51b829\", \"xaxis\": \"x\", \"yaxis\": \"y\"}, {\"name\": \"moving and relocation\", \"x\": [\"status 0\", \"status 1\"], \"y\": [0.006222372538644352, 0.0076833283969545444], \"type\": \"bar\", \"uid\": \"fe208d0c-9052-11e8-a3c4-88e9fe51b829\", \"xaxis\": \"x\", \"yaxis\": \"y\"}, {\"name\": \"other\", \"x\": [\"status 0\", \"status 1\"], \"y\": [0.06791695987460701, 0.0811598747902039], \"type\": \"bar\", \"uid\": \"fe249d18-9052-11e8-a169-88e9fe51b829\", \"xaxis\": \"x\", \"yaxis\": \"y\"}, {\"name\": \"vacation\", \"x\": [\"status 0\", \"status 1\"], \"y\": [0.006178732287058302, 0.005708776881486257], \"type\": \"bar\", \"uid\": \"fe27c29a-9052-11e8-be61-88e9fe51b829\", \"xaxis\": \"x\", \"yaxis\": \"y\"}, {\"error_y\": {\"array\": [0.02987563645853808], \"visible\": true}, \"name\": \"business\", \"x\": [\"business\"], \"xaxis\": \"x2\", \"y\": [0.3481956456904265], \"type\": \"bar\", \"uid\": \"fe389d74-9052-11e8-b243-88e9fe51b829\", \"yaxis\": \"y2\"}, {\"error_y\": {\"array\": [0.024463883339906067], \"visible\": true}, \"name\": \"car financing\", \"x\": [\"car financing\"], \"xaxis\": \"x2\", \"y\": [0.18723603941811356], \"type\": \"bar\", \"uid\": \"fe3aeac8-9052-11e8-85d5-88e9fe51b829\", \"yaxis\": \"y2\"}, {\"error_y\": {\"array\": [0.02362936476201033], \"visible\": true}, \"name\": \"consolidation\", \"x\": [\"consolidation\"], \"xaxis\": \"x2\", \"y\": [0.1702127659574468], \"type\": \"bar\", \"uid\": \"fe3d5a1a-9052-11e8-915c-88e9fe51b829\", \"yaxis\": \"y2\"}, {\"error_y\": {\"array\": [0.025280547002907827], \"visible\": true}, \"name\": \"credit card refinancing\", \"x\": [\"credit card refinancing\"], \"xaxis\": \"x2\", \"y\": [0.20425156363915428], \"type\": \"bar\", \"uid\": \"fe3fdfc6-9052-11e8-962d-88e9fe51b829\", \"yaxis\": \"y2\"}, {\"error_y\": {\"array\": [0.027073463489963617], \"visible\": true}, \"name\": \"debt consolidation\", \"x\": [\"debt consolidation\"], \"xaxis\": \"x2\", \"y\": [0.24781957869585544], \"type\": \"bar\", \"uid\": \"fe426cba-9052-11e8-b680-88e9fe51b829\", \"yaxis\": \"y2\"}, {\"error_y\": {\"array\": [0.028439579318628727], \"visible\": true}, \"name\": \"green loan\", \"x\": [\"green loan\"], \"xaxis\": \"x2\", \"y\": [0.28837209302325584], \"type\": \"bar\", \"uid\": \"fe45173a-9052-11e8-97ab-88e9fe51b829\", \"yaxis\": \"y2\"}, {\"error_y\": {\"array\": [0.028047394861670877], \"visible\": true}, \"name\": \"home buying\", \"x\": [\"home buying\"], \"xaxis\": \"x2\", \"y\": [0.27636986301369865], \"type\": \"bar\", \"uid\": \"fe478bb6-9052-11e8-a2fd-88e9fe51b829\", \"yaxis\": \"y2\"}, {\"error_y\": {\"array\": [0.02567560499299895], \"visible\": true}, \"name\": \"home improvement\", \"x\": [\"home improvement\"], \"xaxis\": \"x2\", \"y\": [0.21303241056411656], \"type\": \"bar\", \"uid\": \"fe4a215a-9052-11e8-868f-88e9fe51b829\", \"yaxis\": \"y2\"}, {\"error_y\": {\"array\": [0.026478604490762836], \"visible\": true}, \"name\": \"major purchase\", \"x\": [\"major purchase\"], \"xaxis\": \"x2\", \"y\": [0.23221466695912846], \"type\": \"bar\", \"uid\": \"fe4c96f6-9052-11e8-aa52-88e9fe51b829\", \"yaxis\": \"y2\"}, {\"error_y\": {\"array\": [0.02761556447097957], \"visible\": true}, \"name\": \"medical expenses\", \"x\": [\"medical expenses\"], \"xaxis\": \"x2\", \"y\": [0.26318607764390894], \"type\": \"bar\", \"uid\": \"fe4f1d7a-9052-11e8-92b4-88e9fe51b829\", \"yaxis\": \"y2\"}, {\"error_y\": {\"array\": [0.028121854840746252], \"visible\": true}, \"name\": \"moving and relocation\", \"x\": [\"moving and relocation\"], \"xaxis\": \"x2\", \"y\": [0.27881981032665965], \"type\": \"bar\", \"uid\": \"fe51a592-9052-11e8-8c01-88e9fe51b829\", \"yaxis\": \"y2\"}, {\"error_y\": {\"array\": [0.027913116123825854], \"visible\": true}, \"name\": \"other\", \"x\": [\"other\"], \"xaxis\": \"x2\", \"y\": [0.2722791567626544], \"type\": \"bar\", \"uid\": \"fe543212-9052-11e8-8e07-88e9fe51b829\", \"yaxis\": \"y2\"}, {\"error_y\": {\"array\": [0.026162500543898987], \"visible\": true}, \"name\": \"vacation\", \"x\": [\"vacation\"], \"xaxis\": \"x2\", \"y\": [0.22437799589134902], \"type\": \"bar\", \"uid\": \"fe56b2a8-9052-11e8-b843-88e9fe51b829\", \"yaxis\": \"y2\"}],\n",
       "            {\"annotations\": [{\"font\": {\"size\": 16}, \"showarrow\": false, \"text\": \"Distribution Plot\", \"x\": 0.225, \"xanchor\": \"center\", \"xref\": \"paper\", \"y\": 1.0, \"yanchor\": \"bottom\", \"yref\": \"paper\"}, {\"font\": {\"size\": 16}, \"showarrow\": false, \"text\": \"Default Rate Distribution\", \"x\": 0.775, \"xanchor\": \"center\", \"xref\": \"paper\", \"y\": 1.0, \"yanchor\": \"bottom\", \"yref\": \"paper\"}], \"xaxis\": {\"anchor\": \"y\", \"domain\": [0, 0.47], \"title\": \"Loan Status\"}, \"yaxis\": {\"anchor\": \"x\", \"domain\": [0.0, 1.0], \"title\": \"Probability Density\"}, \"xaxis2\": {\"anchor\": \"y2\", \"domain\": [0.53, 1], \"title\": \"Title\"}, \"yaxis2\": {\"anchor\": \"x2\", \"domain\": [0.0, 1.0], \"title\": \"Default Rate\"}, \"margin\": {\"b\": 50, \"l\": 50, \"pad\": 4, \"r\": 50, \"t\": 40}, \"legend\": {\"orientation\": \"h\", \"xanchor\": \"auto\", \"y\": -0.2}, \"width\": 1000, \"height\": 600},\n",
       "            {\"showLink\": true, \"linkText\": \"Export to plot.ly\"}\n",
       "        ).then(function () {return Plotly.addFrames('8406c218-6932-4ed3-9228-51ecfb62b606',{});}).then(function(){Plotly.animate('8406c218-6932-4ed3-9228-51ecfb62b606');})\n",
       "        });</script>"
      ],
      "text/vnd.plotly.v1+html": [
       "<div id=\"8406c218-6932-4ed3-9228-51ecfb62b606\" style=\"height: 600px; width: 1000px;\" class=\"plotly-graph-div\"></div><script type=\"text/javascript\">require([\"plotly\"], function(Plotly) { window.PLOTLYENV=window.PLOTLYENV || {};window.PLOTLYENV.BASE_URL=\"https://plot.ly\";\n",
       "        Plotly.plot(\n",
       "            '8406c218-6932-4ed3-9228-51ecfb62b606',\n",
       "            [{\"name\": \"business\", \"x\": [\"status 0\", \"status 1\"], \"y\": [0.007947980820109429, 0.013560522907701331], \"type\": \"bar\", \"uid\": \"fe088f74-9052-11e8-9ee3-88e9fe51b829\", \"xaxis\": \"x\", \"yaxis\": \"y\"}, {\"name\": \"car financing\", \"x\": [\"status 0\", \"status 1\"], \"y\": [0.00944811446837991, 0.006951582835339826], \"type\": \"bar\", \"uid\": \"fe0ac56e-9052-11e8-a01b-88e9fe51b829\", \"xaxis\": \"x\", \"yaxis\": \"y\"}, {\"name\": \"consolidation\", \"x\": [\"status 0\", \"status 1\"], \"y\": [0.00028366163530932755, 0.00018584014263230947], \"type\": \"bar\", \"uid\": \"fe0d3100-9052-11e8-919c-88e9fe51b829\", \"xaxis\": \"x\", \"yaxis\": \"y\"}, {\"name\": \"credit card refinancing\", \"x\": [\"status 0\", \"status 1\"], \"y\": [0.22625288434787827, 0.18548007735595937], \"type\": \"bar\", \"uid\": \"fe0f6d1c-9052-11e8-b9ac-88e9fe51b829\", \"xaxis\": \"x\", \"yaxis\": \"y\"}, {\"name\": \"debt consolidation\", \"x\": [\"status 0\", \"status 1\"], \"y\": [0.5792879729284973, 0.6095672828428896], \"type\": \"bar\", \"uid\": \"fe11b11c-9052-11e8-b879-88e9fe51b829\", \"xaxis\": \"x\", \"yaxis\": \"y\"}, {\"name\": \"green loan\", \"x\": [\"status 0\", \"status 1\"], \"y\": [0.0005564132077221425, 0.0007201305527001992], \"type\": \"bar\", \"uid\": \"fe1408ae-9052-11e8-a7a0-88e9fe51b829\", \"xaxis\": \"x\", \"yaxis\": \"y\"}, {\"name\": \"home buying\", \"x\": [\"status 0\", \"status 1\"], \"y\": [0.00384216048338852, 0.004686656097008555], \"type\": \"bar\", \"uid\": \"fe168eb4-9052-11e8-a7cf-88e9fe51b829\", \"xaxis\": \"x\", \"yaxis\": \"y\"}, {\"name\": \"home improvement\", \"x\": [\"status 0\", \"status 1\"], \"y\": [0.06296015463195812, 0.054433739277894896], \"type\": \"bar\", \"uid\": \"fe18fd82-9052-11e8-896b-88e9fe51b829\", \"xaxis\": \"x\", \"yaxis\": \"y\"}, {\"name\": \"major purchase\", \"x\": [\"status 0\", \"status 1\"], \"y\": [0.01909442841271313, 0.018444634156256714], \"type\": \"bar\", \"uid\": \"fe1b6b62-9052-11e8-bce1-88e9fe51b829\", \"xaxis\": \"x\", \"yaxis\": \"y\"}, {\"name\": \"medical expenses\", \"x\": [\"status 0\", \"status 1\"], \"y\": [0.010008164363734223, 0.011417553762972514], \"type\": \"bar\", \"uid\": \"fe1dec86-9052-11e8-9adf-88e9fe51b829\", \"xaxis\": \"x\", \"yaxis\": \"y\"}, {\"name\": \"moving and relocation\", \"x\": [\"status 0\", \"status 1\"], \"y\": [0.006222372538644352, 0.0076833283969545444], \"type\": \"bar\", \"uid\": \"fe208d0c-9052-11e8-a3c4-88e9fe51b829\", \"xaxis\": \"x\", \"yaxis\": \"y\"}, {\"name\": \"other\", \"x\": [\"status 0\", \"status 1\"], \"y\": [0.06791695987460701, 0.0811598747902039], \"type\": \"bar\", \"uid\": \"fe249d18-9052-11e8-a169-88e9fe51b829\", \"xaxis\": \"x\", \"yaxis\": \"y\"}, {\"name\": \"vacation\", \"x\": [\"status 0\", \"status 1\"], \"y\": [0.006178732287058302, 0.005708776881486257], \"type\": \"bar\", \"uid\": \"fe27c29a-9052-11e8-be61-88e9fe51b829\", \"xaxis\": \"x\", \"yaxis\": \"y\"}, {\"error_y\": {\"array\": [0.02987563645853808], \"visible\": true}, \"name\": \"business\", \"x\": [\"business\"], \"xaxis\": \"x2\", \"y\": [0.3481956456904265], \"type\": \"bar\", \"uid\": \"fe389d74-9052-11e8-b243-88e9fe51b829\", \"yaxis\": \"y2\"}, {\"error_y\": {\"array\": [0.024463883339906067], \"visible\": true}, \"name\": \"car financing\", \"x\": [\"car financing\"], \"xaxis\": \"x2\", \"y\": [0.18723603941811356], \"type\": \"bar\", \"uid\": \"fe3aeac8-9052-11e8-85d5-88e9fe51b829\", \"yaxis\": \"y2\"}, {\"error_y\": {\"array\": [0.02362936476201033], \"visible\": true}, \"name\": \"consolidation\", \"x\": [\"consolidation\"], \"xaxis\": \"x2\", \"y\": [0.1702127659574468], \"type\": \"bar\", \"uid\": \"fe3d5a1a-9052-11e8-915c-88e9fe51b829\", \"yaxis\": \"y2\"}, {\"error_y\": {\"array\": [0.025280547002907827], \"visible\": true}, \"name\": \"credit card refinancing\", \"x\": [\"credit card refinancing\"], \"xaxis\": \"x2\", \"y\": [0.20425156363915428], \"type\": \"bar\", \"uid\": \"fe3fdfc6-9052-11e8-962d-88e9fe51b829\", \"yaxis\": \"y2\"}, {\"error_y\": {\"array\": [0.027073463489963617], \"visible\": true}, \"name\": \"debt consolidation\", \"x\": [\"debt consolidation\"], \"xaxis\": \"x2\", \"y\": [0.24781957869585544], \"type\": \"bar\", \"uid\": \"fe426cba-9052-11e8-b680-88e9fe51b829\", \"yaxis\": \"y2\"}, {\"error_y\": {\"array\": [0.028439579318628727], \"visible\": true}, \"name\": \"green loan\", \"x\": [\"green loan\"], \"xaxis\": \"x2\", \"y\": [0.28837209302325584], \"type\": \"bar\", \"uid\": \"fe45173a-9052-11e8-97ab-88e9fe51b829\", \"yaxis\": \"y2\"}, {\"error_y\": {\"array\": [0.028047394861670877], \"visible\": true}, \"name\": \"home buying\", \"x\": [\"home buying\"], \"xaxis\": \"x2\", \"y\": [0.27636986301369865], \"type\": \"bar\", \"uid\": \"fe478bb6-9052-11e8-a2fd-88e9fe51b829\", \"yaxis\": \"y2\"}, {\"error_y\": {\"array\": [0.02567560499299895], \"visible\": true}, \"name\": \"home improvement\", \"x\": [\"home improvement\"], \"xaxis\": \"x2\", \"y\": [0.21303241056411656], \"type\": \"bar\", \"uid\": \"fe4a215a-9052-11e8-868f-88e9fe51b829\", \"yaxis\": \"y2\"}, {\"error_y\": {\"array\": [0.026478604490762836], \"visible\": true}, \"name\": \"major purchase\", \"x\": [\"major purchase\"], \"xaxis\": \"x2\", \"y\": [0.23221466695912846], \"type\": \"bar\", \"uid\": \"fe4c96f6-9052-11e8-aa52-88e9fe51b829\", \"yaxis\": \"y2\"}, {\"error_y\": {\"array\": [0.02761556447097957], \"visible\": true}, \"name\": \"medical expenses\", \"x\": [\"medical expenses\"], \"xaxis\": \"x2\", \"y\": [0.26318607764390894], \"type\": \"bar\", \"uid\": \"fe4f1d7a-9052-11e8-92b4-88e9fe51b829\", \"yaxis\": \"y2\"}, {\"error_y\": {\"array\": [0.028121854840746252], \"visible\": true}, \"name\": \"moving and relocation\", \"x\": [\"moving and relocation\"], \"xaxis\": \"x2\", \"y\": [0.27881981032665965], \"type\": \"bar\", \"uid\": \"fe51a592-9052-11e8-8c01-88e9fe51b829\", \"yaxis\": \"y2\"}, {\"error_y\": {\"array\": [0.027913116123825854], \"visible\": true}, \"name\": \"other\", \"x\": [\"other\"], \"xaxis\": \"x2\", \"y\": [0.2722791567626544], \"type\": \"bar\", \"uid\": \"fe543212-9052-11e8-8e07-88e9fe51b829\", \"yaxis\": \"y2\"}, {\"error_y\": {\"array\": [0.026162500543898987], \"visible\": true}, \"name\": \"vacation\", \"x\": [\"vacation\"], \"xaxis\": \"x2\", \"y\": [0.22437799589134902], \"type\": \"bar\", \"uid\": \"fe56b2a8-9052-11e8-b843-88e9fe51b829\", \"yaxis\": \"y2\"}],\n",
       "            {\"annotations\": [{\"font\": {\"size\": 16}, \"showarrow\": false, \"text\": \"Distribution Plot\", \"x\": 0.225, \"xanchor\": \"center\", \"xref\": \"paper\", \"y\": 1.0, \"yanchor\": \"bottom\", \"yref\": \"paper\"}, {\"font\": {\"size\": 16}, \"showarrow\": false, \"text\": \"Default Rate Distribution\", \"x\": 0.775, \"xanchor\": \"center\", \"xref\": \"paper\", \"y\": 1.0, \"yanchor\": \"bottom\", \"yref\": \"paper\"}], \"xaxis\": {\"anchor\": \"y\", \"domain\": [0, 0.47], \"title\": \"Loan Status\"}, \"yaxis\": {\"anchor\": \"x\", \"domain\": [0.0, 1.0], \"title\": \"Probability Density\"}, \"xaxis2\": {\"anchor\": \"y2\", \"domain\": [0.53, 1], \"title\": \"Title\"}, \"yaxis2\": {\"anchor\": \"x2\", \"domain\": [0.0, 1.0], \"title\": \"Default Rate\"}, \"margin\": {\"b\": 50, \"l\": 50, \"pad\": 4, \"r\": 50, \"t\": 40}, \"legend\": {\"orientation\": \"h\", \"xanchor\": \"auto\", \"y\": -0.2}, \"width\": 1000, \"height\": 600},\n",
       "            {\"showLink\": true, \"linkText\": \"Export to plot.ly\"}\n",
       "        ).then(function () {return Plotly.addFrames('8406c218-6932-4ed3-9228-51ecfb62b606',{});}).then(function(){Plotly.animate('8406c218-6932-4ed3-9228-51ecfb62b606');})\n",
       "        });</script>"
      ]
     },
     "metadata": {},
     "output_type": "display_data"
    }
   ],
   "source": [
    "# title\n",
    "feature = 'title'\n",
    "iplot(categorical_plot(data=train, feature=feature, width=1000, height=600))"
   ]
  },
  {
   "cell_type": "code",
   "execution_count": 12,
   "metadata": {},
   "outputs": [
    {
     "data": {
      "application/vnd.plotly.v1+json": {
       "data": [
        {
         "autocolorscale": false,
         "colorbar": {
          "title": "Counts"
         },
         "colorscale": [
          [
           0,
           "rgb(242,240,247)"
          ],
          [
           0.2,
           "rgb(218,218,235)"
          ],
          [
           0.4,
           "rgb(188,189,220)"
          ],
          [
           0.6,
           "rgb(158,154,200)"
          ],
          [
           0.8,
           "rgb(117,107,177)"
          ],
          [
           1,
           "rgb(84,39,143)"
          ]
         ],
         "locationmode": "USA-states",
         "locations": [
          "CA",
          "TX",
          "NY",
          "FL",
          "IL",
          "NJ",
          "PA",
          "OH",
          "GA",
          "NC",
          "VA",
          "MI",
          "AZ",
          "MD",
          "CO",
          "MA",
          "WA",
          "MN",
          "IN",
          "TN",
          "MO",
          "NV",
          "CT",
          "WI",
          "AL",
          "OR",
          "SC",
          "LA",
          "KY",
          "OK",
          "KS",
          "UT",
          "AR",
          "MS",
          "NM",
          "HI",
          "NH",
          "RI",
          "WV",
          "MT",
          "DE",
          "DC",
          "NE",
          "AK",
          "WY",
          "SD",
          "VT",
          "ME",
          "ND",
          "ID",
          "IA"
         ],
         "marker": {
          "line": {
           "color": "rgb(255,255,255)",
           "width": 2
          }
         },
         "type": "choropleth",
         "uid": "ff8936dc-9052-11e8-ac16-88e9fe51b829",
         "z": [
          103877,
          59578,
          58062,
          51078,
          27640,
          25551,
          24732,
          23945,
          23293,
          20475,
          20253,
          19357,
          17688,
          16683,
          16123,
          16102,
          15477,
          13092,
          12498,
          11800,
          11354,
          10762,
          10065,
          9515,
          9149,
          8807,
          8516,
          8462,
          7035,
          6704,
          5996,
          5476,
          5466,
          4155,
          4127,
          3623,
          3426,
          3086,
          2860,
          2052,
          2043,
          1805,
          1789,
          1734,
          1618,
          1503,
          1458,
          862,
          775,
          614,
          1
         ]
        }
       ],
       "layout": {
        "geo": {
         "lakecolor": "rgb(255, 255, 255)",
         "projection": {
          "type": "albers usa"
         },
         "scope": "usa",
         "showlakes": true
        },
        "height": 600,
        "margin": {
         "b": 50,
         "l": 50,
         "pad": 4,
         "r": 50,
         "t": 40
        },
        "title": "Loan Count Distribution by State",
        "width": 1000
       }
      },
      "text/html": [
       "<div id=\"3cea33f4-2e6d-4384-a69e-6ee25ad103f7\" style=\"height: 600px; width: 1000px;\" class=\"plotly-graph-div\"></div><script type=\"text/javascript\">require([\"plotly\"], function(Plotly) { window.PLOTLYENV=window.PLOTLYENV || {};window.PLOTLYENV.BASE_URL=\"https://plot.ly\";Plotly.newPlot(\"3cea33f4-2e6d-4384-a69e-6ee25ad103f7\", [{\"autocolorscale\": false, \"colorbar\": {\"title\": \"Counts\"}, \"colorscale\": [[0.0, \"rgb(242,240,247)\"], [0.2, \"rgb(218,218,235)\"], [0.4, \"rgb(188,189,220)\"], [0.6, \"rgb(158,154,200)\"], [0.8, \"rgb(117,107,177)\"], [1.0, \"rgb(84,39,143)\"]], \"locationmode\": \"USA-states\", \"locations\": [\"CA\", \"TX\", \"NY\", \"FL\", \"IL\", \"NJ\", \"PA\", \"OH\", \"GA\", \"NC\", \"VA\", \"MI\", \"AZ\", \"MD\", \"CO\", \"MA\", \"WA\", \"MN\", \"IN\", \"TN\", \"MO\", \"NV\", \"CT\", \"WI\", \"AL\", \"OR\", \"SC\", \"LA\", \"KY\", \"OK\", \"KS\", \"UT\", \"AR\", \"MS\", \"NM\", \"HI\", \"NH\", \"RI\", \"WV\", \"MT\", \"DE\", \"DC\", \"NE\", \"AK\", \"WY\", \"SD\", \"VT\", \"ME\", \"ND\", \"ID\", \"IA\"], \"marker\": {\"line\": {\"color\": \"rgb(255,255,255)\", \"width\": 2}}, \"z\": [103877, 59578, 58062, 51078, 27640, 25551, 24732, 23945, 23293, 20475, 20253, 19357, 17688, 16683, 16123, 16102, 15477, 13092, 12498, 11800, 11354, 10762, 10065, 9515, 9149, 8807, 8516, 8462, 7035, 6704, 5996, 5476, 5466, 4155, 4127, 3623, 3426, 3086, 2860, 2052, 2043, 1805, 1789, 1734, 1618, 1503, 1458, 862, 775, 614, 1], \"type\": \"choropleth\", \"uid\": \"ff946070-9052-11e8-9339-88e9fe51b829\"}], {\"geo\": {\"lakecolor\": \"rgb(255, 255, 255)\", \"projection\": {\"type\": \"albers usa\"}, \"scope\": \"usa\", \"showlakes\": true}, \"height\": 600, \"margin\": {\"b\": 50, \"l\": 50, \"pad\": 4, \"r\": 50, \"t\": 40}, \"title\": \"Loan Count Distribution by State\", \"width\": 1000}, {\"showLink\": true, \"linkText\": \"Export to plot.ly\"})});</script>"
      ],
      "text/vnd.plotly.v1+html": [
       "<div id=\"3cea33f4-2e6d-4384-a69e-6ee25ad103f7\" style=\"height: 600px; width: 1000px;\" class=\"plotly-graph-div\"></div><script type=\"text/javascript\">require([\"plotly\"], function(Plotly) { window.PLOTLYENV=window.PLOTLYENV || {};window.PLOTLYENV.BASE_URL=\"https://plot.ly\";Plotly.newPlot(\"3cea33f4-2e6d-4384-a69e-6ee25ad103f7\", [{\"autocolorscale\": false, \"colorbar\": {\"title\": \"Counts\"}, \"colorscale\": [[0.0, \"rgb(242,240,247)\"], [0.2, \"rgb(218,218,235)\"], [0.4, \"rgb(188,189,220)\"], [0.6, \"rgb(158,154,200)\"], [0.8, \"rgb(117,107,177)\"], [1.0, \"rgb(84,39,143)\"]], \"locationmode\": \"USA-states\", \"locations\": [\"CA\", \"TX\", \"NY\", \"FL\", \"IL\", \"NJ\", \"PA\", \"OH\", \"GA\", \"NC\", \"VA\", \"MI\", \"AZ\", \"MD\", \"CO\", \"MA\", \"WA\", \"MN\", \"IN\", \"TN\", \"MO\", \"NV\", \"CT\", \"WI\", \"AL\", \"OR\", \"SC\", \"LA\", \"KY\", \"OK\", \"KS\", \"UT\", \"AR\", \"MS\", \"NM\", \"HI\", \"NH\", \"RI\", \"WV\", \"MT\", \"DE\", \"DC\", \"NE\", \"AK\", \"WY\", \"SD\", \"VT\", \"ME\", \"ND\", \"ID\", \"IA\"], \"marker\": {\"line\": {\"color\": \"rgb(255,255,255)\", \"width\": 2}}, \"z\": [103877, 59578, 58062, 51078, 27640, 25551, 24732, 23945, 23293, 20475, 20253, 19357, 17688, 16683, 16123, 16102, 15477, 13092, 12498, 11800, 11354, 10762, 10065, 9515, 9149, 8807, 8516, 8462, 7035, 6704, 5996, 5476, 5466, 4155, 4127, 3623, 3426, 3086, 2860, 2052, 2043, 1805, 1789, 1734, 1618, 1503, 1458, 862, 775, 614, 1], \"type\": \"choropleth\", \"uid\": \"ff946070-9052-11e8-9339-88e9fe51b829\"}], {\"geo\": {\"lakecolor\": \"rgb(255, 255, 255)\", \"projection\": {\"type\": \"albers usa\"}, \"scope\": \"usa\", \"showlakes\": true}, \"height\": 600, \"margin\": {\"b\": 50, \"l\": 50, \"pad\": 4, \"r\": 50, \"t\": 40}, \"title\": \"Loan Count Distribution by State\", \"width\": 1000}, {\"showLink\": true, \"linkText\": \"Export to plot.ly\"})});</script>"
      ]
     },
     "metadata": {},
     "output_type": "display_data"
    }
   ],
   "source": [
    "# addr_state\n",
    "state_count = train.groupby('addr_state')['target'].count().reset_index()\n",
    "state_count = state_count.sort_values(by='target', ascending=False)\n",
    "\n",
    "# visualization\n",
    "scl = [[0.0, 'rgb(242,240,247)'], [0.2, 'rgb(218,218,235)'], \n",
    "       [0.4, 'rgb(188,189,220)'], [0.6, 'rgb(158,154,200)'],\n",
    "       [0.8, 'rgb(117,107,177)'], [1.0, 'rgb(84,39,143)']]\n",
    "\n",
    "data = [dict(type='choropleth', colorscale=scl, autocolorscale=False,\n",
    "        locations=state_count['addr_state'], z=state_count['target'],\n",
    "        locationmode='USA-states', colorbar=dict(title='Counts'), \n",
    "        marker=dict(line=dict(color = 'rgb(255,255,255)', width=2)))]\n",
    "\n",
    "geo = dict(scope='usa', projection=dict(type='albers usa'), \n",
    "           showlakes=True, lakecolor='rgb(255, 255, 255)')\n",
    "\n",
    "layout = dict(title='Loan Count Distribution by State', geo=geo, \n",
    "              margin=go.Margin(l=50, r=50, b=50, t=40, pad=4), \n",
    "              width=1000, height=600)\n",
    "    \n",
    "fig = dict(data=data, layout=layout)\n",
    "iplot(fig)"
   ]
  },
  {
   "cell_type": "code",
   "execution_count": 13,
   "metadata": {},
   "outputs": [
    {
     "data": {
      "application/vnd.plotly.v1+json": {
       "data": [
        {
         "autocolorscale": false,
         "colorbar": {
          "title": "Default Rate"
         },
         "colorscale": [
          [
           0,
           "rgb(242,240,247)"
          ],
          [
           0.2,
           "rgb(218,218,235)"
          ],
          [
           0.4,
           "rgb(188,189,220)"
          ],
          [
           0.6,
           "rgb(158,154,200)"
          ],
          [
           0.8,
           "rgb(117,107,177)"
          ],
          [
           1,
           "rgb(84,39,143)"
          ]
         ],
         "locationmode": "USA-states",
         "locations": [
          "NE",
          "AR",
          "MS",
          "AL",
          "OK",
          "ND",
          "LA",
          "NY",
          "ID",
          "NV",
          "KY",
          "OH",
          "SD",
          "PA",
          "NM",
          "MO",
          "FL",
          "NJ",
          "MD",
          "IN",
          "TN",
          "NC",
          "HI",
          "VA",
          "AK",
          "MN",
          "DE",
          "TX",
          "MI",
          "AZ",
          "CA",
          "MA",
          "IL",
          "GA",
          "WY",
          "RI",
          "CT",
          "MT",
          "UT",
          "WV",
          "WI",
          "SC",
          "KS",
          "ME",
          "WA",
          "CO",
          "NH",
          "DC",
          "OR",
          "VT",
          "IA"
         ],
         "marker": {
          "line": {
           "color": "rgb(255,255,255)",
           "width": 2
          }
         },
         "type": "choropleth",
         "uid": "014ffeb0-9053-11e8-8448-88e9fe51b829",
         "z": [
          0.3102291783119061,
          0.2912550311013538,
          0.2909747292418773,
          0.2864793966553722,
          0.2855011933174224,
          0.2838709677419355,
          0.279366580004727,
          0.2647514725638111,
          0.26058631921824105,
          0.25868797621259987,
          0.2557213930348259,
          0.25566924201294633,
          0.2541583499667332,
          0.25307294193757074,
          0.252968257814393,
          0.25224590452703893,
          0.2519088452954305,
          0.2518101052796368,
          0.25151351675358147,
          0.2513202112337974,
          0.2505084745762712,
          0.2467887667887668,
          0.24289263041678166,
          0.24213696736285983,
          0.24163783160322952,
          0.2409104796822487,
          0.23788546255506607,
          0.23763805431535132,
          0.23562535516867283,
          0.2334350972410674,
          0.23240948429392455,
          0.22699043597068688,
          0.22130969609261938,
          0.21976559481389257,
          0.21755253399258342,
          0.2151652624756967,
          0.21043219076005962,
          0.2080896686159844,
          0.20398100803506208,
          0.2020979020979021,
          0.2003152916447714,
          0.1992719586660404,
          0.1966310873915944,
          0.1925754060324826,
          0.18369192996058667,
          0.18309247658624325,
          0.1684179801517805,
          0.16454293628808864,
          0.16430112410582492,
          0.16392318244170095,
          0
         ]
        }
       ],
       "layout": {
        "geo": {
         "lakecolor": "rgb(255, 255, 255)",
         "projection": {
          "type": "albers usa"
         },
         "scope": "usa",
         "showlakes": true
        },
        "height": 600,
        "margin": {
         "b": 50,
         "l": 50,
         "pad": 4,
         "r": 50,
         "t": 40
        },
        "title": "Loan Default Rate Distribution by State",
        "width": 1000
       }
      },
      "text/html": [
       "<div id=\"a6e31b8e-7dc1-4264-b2c4-d22c46252ee9\" style=\"height: 600px; width: 1000px;\" class=\"plotly-graph-div\"></div><script type=\"text/javascript\">require([\"plotly\"], function(Plotly) { window.PLOTLYENV=window.PLOTLYENV || {};window.PLOTLYENV.BASE_URL=\"https://plot.ly\";Plotly.newPlot(\"a6e31b8e-7dc1-4264-b2c4-d22c46252ee9\", [{\"autocolorscale\": false, \"colorbar\": {\"title\": \"Default Rate\"}, \"colorscale\": [[0.0, \"rgb(242,240,247)\"], [0.2, \"rgb(218,218,235)\"], [0.4, \"rgb(188,189,220)\"], [0.6, \"rgb(158,154,200)\"], [0.8, \"rgb(117,107,177)\"], [1.0, \"rgb(84,39,143)\"]], \"locationmode\": \"USA-states\", \"locations\": [\"NE\", \"AR\", \"MS\", \"AL\", \"OK\", \"ND\", \"LA\", \"NY\", \"ID\", \"NV\", \"KY\", \"OH\", \"SD\", \"PA\", \"NM\", \"MO\", \"FL\", \"NJ\", \"MD\", \"IN\", \"TN\", \"NC\", \"HI\", \"VA\", \"AK\", \"MN\", \"DE\", \"TX\", \"MI\", \"AZ\", \"CA\", \"MA\", \"IL\", \"GA\", \"WY\", \"RI\", \"CT\", \"MT\", \"UT\", \"WV\", \"WI\", \"SC\", \"KS\", \"ME\", \"WA\", \"CO\", \"NH\", \"DC\", \"OR\", \"VT\", \"IA\"], \"marker\": {\"line\": {\"color\": \"rgb(255,255,255)\", \"width\": 2}}, \"z\": [0.3102291783119061, 0.2912550311013538, 0.2909747292418773, 0.2864793966553722, 0.2855011933174224, 0.2838709677419355, 0.279366580004727, 0.2647514725638111, 0.26058631921824105, 0.25868797621259987, 0.2557213930348259, 0.25566924201294633, 0.2541583499667332, 0.25307294193757074, 0.252968257814393, 0.25224590452703893, 0.2519088452954305, 0.2518101052796368, 0.25151351675358147, 0.2513202112337974, 0.2505084745762712, 0.2467887667887668, 0.24289263041678166, 0.24213696736285983, 0.24163783160322952, 0.2409104796822487, 0.23788546255506607, 0.23763805431535132, 0.23562535516867283, 0.2334350972410674, 0.23240948429392455, 0.22699043597068688, 0.22130969609261938, 0.21976559481389257, 0.21755253399258342, 0.2151652624756967, 0.21043219076005962, 0.2080896686159844, 0.20398100803506208, 0.2020979020979021, 0.2003152916447714, 0.1992719586660404, 0.1966310873915944, 0.1925754060324826, 0.18369192996058667, 0.18309247658624325, 0.1684179801517805, 0.16454293628808864, 0.16430112410582492, 0.16392318244170095, 0.0], \"type\": \"choropleth\", \"uid\": \"01593976-9053-11e8-ae99-88e9fe51b829\"}], {\"geo\": {\"lakecolor\": \"rgb(255, 255, 255)\", \"projection\": {\"type\": \"albers usa\"}, \"scope\": \"usa\", \"showlakes\": true}, \"height\": 600, \"margin\": {\"b\": 50, \"l\": 50, \"pad\": 4, \"r\": 50, \"t\": 40}, \"title\": \"Loan Default Rate Distribution by State\", \"width\": 1000}, {\"showLink\": true, \"linkText\": \"Export to plot.ly\"})});</script>"
      ],
      "text/vnd.plotly.v1+html": [
       "<div id=\"a6e31b8e-7dc1-4264-b2c4-d22c46252ee9\" style=\"height: 600px; width: 1000px;\" class=\"plotly-graph-div\"></div><script type=\"text/javascript\">require([\"plotly\"], function(Plotly) { window.PLOTLYENV=window.PLOTLYENV || {};window.PLOTLYENV.BASE_URL=\"https://plot.ly\";Plotly.newPlot(\"a6e31b8e-7dc1-4264-b2c4-d22c46252ee9\", [{\"autocolorscale\": false, \"colorbar\": {\"title\": \"Default Rate\"}, \"colorscale\": [[0.0, \"rgb(242,240,247)\"], [0.2, \"rgb(218,218,235)\"], [0.4, \"rgb(188,189,220)\"], [0.6, \"rgb(158,154,200)\"], [0.8, \"rgb(117,107,177)\"], [1.0, \"rgb(84,39,143)\"]], \"locationmode\": \"USA-states\", \"locations\": [\"NE\", \"AR\", \"MS\", \"AL\", \"OK\", \"ND\", \"LA\", \"NY\", \"ID\", \"NV\", \"KY\", \"OH\", \"SD\", \"PA\", \"NM\", \"MO\", \"FL\", \"NJ\", \"MD\", \"IN\", \"TN\", \"NC\", \"HI\", \"VA\", \"AK\", \"MN\", \"DE\", \"TX\", \"MI\", \"AZ\", \"CA\", \"MA\", \"IL\", \"GA\", \"WY\", \"RI\", \"CT\", \"MT\", \"UT\", \"WV\", \"WI\", \"SC\", \"KS\", \"ME\", \"WA\", \"CO\", \"NH\", \"DC\", \"OR\", \"VT\", \"IA\"], \"marker\": {\"line\": {\"color\": \"rgb(255,255,255)\", \"width\": 2}}, \"z\": [0.3102291783119061, 0.2912550311013538, 0.2909747292418773, 0.2864793966553722, 0.2855011933174224, 0.2838709677419355, 0.279366580004727, 0.2647514725638111, 0.26058631921824105, 0.25868797621259987, 0.2557213930348259, 0.25566924201294633, 0.2541583499667332, 0.25307294193757074, 0.252968257814393, 0.25224590452703893, 0.2519088452954305, 0.2518101052796368, 0.25151351675358147, 0.2513202112337974, 0.2505084745762712, 0.2467887667887668, 0.24289263041678166, 0.24213696736285983, 0.24163783160322952, 0.2409104796822487, 0.23788546255506607, 0.23763805431535132, 0.23562535516867283, 0.2334350972410674, 0.23240948429392455, 0.22699043597068688, 0.22130969609261938, 0.21976559481389257, 0.21755253399258342, 0.2151652624756967, 0.21043219076005962, 0.2080896686159844, 0.20398100803506208, 0.2020979020979021, 0.2003152916447714, 0.1992719586660404, 0.1966310873915944, 0.1925754060324826, 0.18369192996058667, 0.18309247658624325, 0.1684179801517805, 0.16454293628808864, 0.16430112410582492, 0.16392318244170095, 0.0], \"type\": \"choropleth\", \"uid\": \"01593976-9053-11e8-ae99-88e9fe51b829\"}], {\"geo\": {\"lakecolor\": \"rgb(255, 255, 255)\", \"projection\": {\"type\": \"albers usa\"}, \"scope\": \"usa\", \"showlakes\": true}, \"height\": 600, \"margin\": {\"b\": 50, \"l\": 50, \"pad\": 4, \"r\": 50, \"t\": 40}, \"title\": \"Loan Default Rate Distribution by State\", \"width\": 1000}, {\"showLink\": true, \"linkText\": \"Export to plot.ly\"})});</script>"
      ]
     },
     "metadata": {},
     "output_type": "display_data"
    }
   ],
   "source": [
    "# addr_state\n",
    "state_rate = train.groupby('addr_state')['target'].mean().reset_index()\n",
    "state_rate = state_rate.sort_values(by='target', ascending=False)\n",
    "\n",
    "# visualization\n",
    "scl = [[0.0, 'rgb(242,240,247)'], [0.2, 'rgb(218,218,235)'], \n",
    "       [0.4, 'rgb(188,189,220)'], [0.6, 'rgb(158,154,200)'],\n",
    "       [0.8, 'rgb(117,107,177)'], [1.0, 'rgb(84,39,143)']]\n",
    "\n",
    "data = [dict(type='choropleth', colorscale=scl, autocolorscale=False,\n",
    "        locations=state_rate['addr_state'], z=state_rate['target'],\n",
    "        locationmode='USA-states', colorbar=dict(title='Default Rate'),\n",
    "        marker=dict(line=dict(color = 'rgb(255,255,255)', width=2)))]\n",
    "\n",
    "geo = dict(scope='usa', projection=dict(type='albers usa'), \n",
    "           showlakes=True, lakecolor='rgb(255, 255, 255)')\n",
    "\n",
    "layout = dict(title='Loan Default Rate Distribution by State', geo=geo, \n",
    "              margin=go.Margin(l=50, r=50, b=50, t=40, pad=4), \n",
    "              width=1000, height=600)\n",
    "    \n",
    "fig = dict(data=data, layout=layout)\n",
    "iplot(fig)"
   ]
  },
  {
   "cell_type": "code",
   "execution_count": 14,
   "metadata": {},
   "outputs": [
    {
     "data": {
      "application/vnd.plotly.v1+json": {
       "data": [
        {
         "name": "w",
         "type": "bar",
         "uid": "0cd93da8-9053-11e8-ae41-88e9fe51b829",
         "x": [
          "status 0",
          "status 1"
         ],
         "xaxis": "x",
         "y": [
          0.616996786986477,
          0.6237434012230605
         ],
         "yaxis": "y"
        },
        {
         "name": "f",
         "type": "bar",
         "uid": "0cdbb210-9053-11e8-b21c-88e9fe51b829",
         "x": [
          "status 0",
          "status 1"
         ],
         "xaxis": "x",
         "y": [
          0.383003213013523,
          0.37625659877693957
         ],
         "yaxis": "y"
        },
        {
         "error_y": {
          "array": [
           0.026797251901632152
          ],
          "visible": true
         },
         "name": "w",
         "type": "bar",
         "uid": "0ce7c64a-9053-11e8-98a5-88e9fe51b829",
         "x": [
          "w"
         ],
         "xaxis": "x2",
         "y": [
          0.24042523185612497
         ],
         "yaxis": "y2"
        },
        {
         "error_y": {
          "array": [
           0.02659675894156127
          ],
          "visible": true
         },
         "name": "f",
         "type": "bar",
         "uid": "0cea497e-9053-11e8-a0cb-88e9fe51b829",
         "x": [
          "f"
         ],
         "xaxis": "x2",
         "y": [
          0.23523260753537312
         ],
         "yaxis": "y2"
        }
       ],
       "layout": {
        "annotations": [
         {
          "font": {
           "size": 16
          },
          "showarrow": false,
          "text": "Distribution Plot",
          "x": 0.225,
          "xanchor": "center",
          "xref": "paper",
          "y": 1,
          "yanchor": "bottom",
          "yref": "paper"
         },
         {
          "font": {
           "size": 16
          },
          "showarrow": false,
          "text": "Default Rate Distribution",
          "x": 0.775,
          "xanchor": "center",
          "xref": "paper",
          "y": 1,
          "yanchor": "bottom",
          "yref": "paper"
         }
        ],
        "height": 450,
        "legend": {
         "orientation": "h",
         "xanchor": "auto",
         "y": -0.2
        },
        "margin": {
         "b": 50,
         "l": 50,
         "pad": 4,
         "r": 50,
         "t": 40
        },
        "width": 1000,
        "xaxis": {
         "anchor": "y",
         "domain": [
          0,
          0.47
         ],
         "title": "Loan Status"
        },
        "xaxis2": {
         "anchor": "y2",
         "domain": [
          0.53,
          1
         ],
         "title": "Initial_list_status"
        },
        "yaxis": {
         "anchor": "x",
         "domain": [
          0,
          1
         ],
         "title": "Probability Density"
        },
        "yaxis2": {
         "anchor": "x2",
         "domain": [
          0,
          1
         ],
         "title": "Default Rate"
        }
       }
      },
      "text/html": [
       "<div id=\"4680b2c5-914a-45d9-9c54-8994368cd228\" style=\"height: 450px; width: 1000px;\" class=\"plotly-graph-div\"></div><script type=\"text/javascript\">require([\"plotly\"], function(Plotly) { window.PLOTLYENV=window.PLOTLYENV || {};window.PLOTLYENV.BASE_URL=\"https://plot.ly\";\n",
       "        Plotly.plot(\n",
       "            '4680b2c5-914a-45d9-9c54-8994368cd228',\n",
       "            [{\"name\": \"w\", \"x\": [\"status 0\", \"status 1\"], \"y\": [0.616996786986477, 0.6237434012230605], \"type\": \"bar\", \"uid\": \"0cd93da8-9053-11e8-ae41-88e9fe51b829\", \"xaxis\": \"x\", \"yaxis\": \"y\"}, {\"name\": \"f\", \"x\": [\"status 0\", \"status 1\"], \"y\": [0.383003213013523, 0.37625659877693957], \"type\": \"bar\", \"uid\": \"0cdbb210-9053-11e8-b21c-88e9fe51b829\", \"xaxis\": \"x\", \"yaxis\": \"y\"}, {\"error_y\": {\"array\": [0.026797251901632152], \"visible\": true}, \"name\": \"w\", \"x\": [\"w\"], \"xaxis\": \"x2\", \"y\": [0.24042523185612497], \"type\": \"bar\", \"uid\": \"0ce7c64a-9053-11e8-98a5-88e9fe51b829\", \"yaxis\": \"y2\"}, {\"error_y\": {\"array\": [0.02659675894156127], \"visible\": true}, \"name\": \"f\", \"x\": [\"f\"], \"xaxis\": \"x2\", \"y\": [0.23523260753537312], \"type\": \"bar\", \"uid\": \"0cea497e-9053-11e8-a0cb-88e9fe51b829\", \"yaxis\": \"y2\"}],\n",
       "            {\"annotations\": [{\"font\": {\"size\": 16}, \"showarrow\": false, \"text\": \"Distribution Plot\", \"x\": 0.225, \"xanchor\": \"center\", \"xref\": \"paper\", \"y\": 1.0, \"yanchor\": \"bottom\", \"yref\": \"paper\"}, {\"font\": {\"size\": 16}, \"showarrow\": false, \"text\": \"Default Rate Distribution\", \"x\": 0.775, \"xanchor\": \"center\", \"xref\": \"paper\", \"y\": 1.0, \"yanchor\": \"bottom\", \"yref\": \"paper\"}], \"xaxis\": {\"anchor\": \"y\", \"domain\": [0, 0.47], \"title\": \"Loan Status\"}, \"yaxis\": {\"anchor\": \"x\", \"domain\": [0.0, 1.0], \"title\": \"Probability Density\"}, \"xaxis2\": {\"anchor\": \"y2\", \"domain\": [0.53, 1], \"title\": \"Initial_list_status\"}, \"yaxis2\": {\"anchor\": \"x2\", \"domain\": [0.0, 1.0], \"title\": \"Default Rate\"}, \"margin\": {\"b\": 50, \"l\": 50, \"pad\": 4, \"r\": 50, \"t\": 40}, \"legend\": {\"orientation\": \"h\", \"xanchor\": \"auto\", \"y\": -0.2}, \"width\": 1000, \"height\": 450},\n",
       "            {\"showLink\": true, \"linkText\": \"Export to plot.ly\"}\n",
       "        ).then(function () {return Plotly.addFrames('4680b2c5-914a-45d9-9c54-8994368cd228',{});}).then(function(){Plotly.animate('4680b2c5-914a-45d9-9c54-8994368cd228');})\n",
       "        });</script>"
      ],
      "text/vnd.plotly.v1+html": [
       "<div id=\"4680b2c5-914a-45d9-9c54-8994368cd228\" style=\"height: 450px; width: 1000px;\" class=\"plotly-graph-div\"></div><script type=\"text/javascript\">require([\"plotly\"], function(Plotly) { window.PLOTLYENV=window.PLOTLYENV || {};window.PLOTLYENV.BASE_URL=\"https://plot.ly\";\n",
       "        Plotly.plot(\n",
       "            '4680b2c5-914a-45d9-9c54-8994368cd228',\n",
       "            [{\"name\": \"w\", \"x\": [\"status 0\", \"status 1\"], \"y\": [0.616996786986477, 0.6237434012230605], \"type\": \"bar\", \"uid\": \"0cd93da8-9053-11e8-ae41-88e9fe51b829\", \"xaxis\": \"x\", \"yaxis\": \"y\"}, {\"name\": \"f\", \"x\": [\"status 0\", \"status 1\"], \"y\": [0.383003213013523, 0.37625659877693957], \"type\": \"bar\", \"uid\": \"0cdbb210-9053-11e8-b21c-88e9fe51b829\", \"xaxis\": \"x\", \"yaxis\": \"y\"}, {\"error_y\": {\"array\": [0.026797251901632152], \"visible\": true}, \"name\": \"w\", \"x\": [\"w\"], \"xaxis\": \"x2\", \"y\": [0.24042523185612497], \"type\": \"bar\", \"uid\": \"0ce7c64a-9053-11e8-98a5-88e9fe51b829\", \"yaxis\": \"y2\"}, {\"error_y\": {\"array\": [0.02659675894156127], \"visible\": true}, \"name\": \"f\", \"x\": [\"f\"], \"xaxis\": \"x2\", \"y\": [0.23523260753537312], \"type\": \"bar\", \"uid\": \"0cea497e-9053-11e8-a0cb-88e9fe51b829\", \"yaxis\": \"y2\"}],\n",
       "            {\"annotations\": [{\"font\": {\"size\": 16}, \"showarrow\": false, \"text\": \"Distribution Plot\", \"x\": 0.225, \"xanchor\": \"center\", \"xref\": \"paper\", \"y\": 1.0, \"yanchor\": \"bottom\", \"yref\": \"paper\"}, {\"font\": {\"size\": 16}, \"showarrow\": false, \"text\": \"Default Rate Distribution\", \"x\": 0.775, \"xanchor\": \"center\", \"xref\": \"paper\", \"y\": 1.0, \"yanchor\": \"bottom\", \"yref\": \"paper\"}], \"xaxis\": {\"anchor\": \"y\", \"domain\": [0, 0.47], \"title\": \"Loan Status\"}, \"yaxis\": {\"anchor\": \"x\", \"domain\": [0.0, 1.0], \"title\": \"Probability Density\"}, \"xaxis2\": {\"anchor\": \"y2\", \"domain\": [0.53, 1], \"title\": \"Initial_list_status\"}, \"yaxis2\": {\"anchor\": \"x2\", \"domain\": [0.0, 1.0], \"title\": \"Default Rate\"}, \"margin\": {\"b\": 50, \"l\": 50, \"pad\": 4, \"r\": 50, \"t\": 40}, \"legend\": {\"orientation\": \"h\", \"xanchor\": \"auto\", \"y\": -0.2}, \"width\": 1000, \"height\": 450},\n",
       "            {\"showLink\": true, \"linkText\": \"Export to plot.ly\"}\n",
       "        ).then(function () {return Plotly.addFrames('4680b2c5-914a-45d9-9c54-8994368cd228',{});}).then(function(){Plotly.animate('4680b2c5-914a-45d9-9c54-8994368cd228');})\n",
       "        });</script>"
      ]
     },
     "metadata": {},
     "output_type": "display_data"
    }
   ],
   "source": [
    "# initial_list_status\n",
    "feature = 'initial_list_status'\n",
    "iplot(categorical_plot(data=train, feature=feature, width=1000, height=450))"
   ]
  },
  {
   "cell_type": "code",
   "execution_count": 15,
   "metadata": {},
   "outputs": [
    {
     "data": {
      "application/vnd.plotly.v1+json": {
       "data": [
        {
         "name": "Individual",
         "type": "bar",
         "uid": "0e33468c-9053-11e8-a0ae-88e9fe51b829",
         "x": [
          "status 0",
          "status 1"
         ],
         "xaxis": "x",
         "y": [
          0.9950741066022246,
          0.9930135721379166
         ],
         "yaxis": "y"
        },
        {
         "name": "Joint App",
         "type": "bar",
         "uid": "0e35c6be-9053-11e8-a3b9-88e9fe51b829",
         "x": [
          "status 0",
          "status 1"
         ],
         "xaxis": "x",
         "y": [
          0.004925893397775438,
          0.006986427862083384
         ],
         "yaxis": "y"
        },
        {
         "error_y": {
          "array": [
           0.02670691806176484
          ],
          "visible": true
         },
         "name": "Individual",
         "type": "bar",
         "uid": "0e438826-9053-11e8-9d91-88e9fe51b829",
         "x": [
          "Individual"
         ],
         "xaxis": "x2",
         "y": [
          0.23806858527212732
         ],
         "yaxis": "y2"
        },
        {
         "error_y": {
          "array": [
           0.02894066267094586
          ],
          "visible": true
         },
         "name": "Joint App",
         "type": "bar",
         "uid": "0e468292-9053-11e8-aff7-88e9fe51b829",
         "x": [
          "Joint App"
         ],
         "xaxis": "x2",
         "y": [
          0.3075153374233129
         ],
         "yaxis": "y2"
        }
       ],
       "layout": {
        "annotations": [
         {
          "font": {
           "size": 16
          },
          "showarrow": false,
          "text": "Distribution Plot",
          "x": 0.225,
          "xanchor": "center",
          "xref": "paper",
          "y": 1,
          "yanchor": "bottom",
          "yref": "paper"
         },
         {
          "font": {
           "size": 16
          },
          "showarrow": false,
          "text": "Default Rate Distribution",
          "x": 0.775,
          "xanchor": "center",
          "xref": "paper",
          "y": 1,
          "yanchor": "bottom",
          "yref": "paper"
         }
        ],
        "height": 450,
        "legend": {
         "orientation": "h",
         "xanchor": "auto",
         "y": -0.2
        },
        "margin": {
         "b": 50,
         "l": 50,
         "pad": 4,
         "r": 50,
         "t": 40
        },
        "width": 1000,
        "xaxis": {
         "anchor": "y",
         "domain": [
          0,
          0.47
         ],
         "title": "Loan Status"
        },
        "xaxis2": {
         "anchor": "y2",
         "domain": [
          0.53,
          1
         ],
         "title": "Application_type"
        },
        "yaxis": {
         "anchor": "x",
         "domain": [
          0,
          1
         ],
         "title": "Probability Density"
        },
        "yaxis2": {
         "anchor": "x2",
         "domain": [
          0,
          1
         ],
         "title": "Default Rate"
        }
       }
      },
      "text/html": [
       "<div id=\"dc214590-16f9-423a-bd8e-8dcaea065771\" style=\"height: 450px; width: 1000px;\" class=\"plotly-graph-div\"></div><script type=\"text/javascript\">require([\"plotly\"], function(Plotly) { window.PLOTLYENV=window.PLOTLYENV || {};window.PLOTLYENV.BASE_URL=\"https://plot.ly\";\n",
       "        Plotly.plot(\n",
       "            'dc214590-16f9-423a-bd8e-8dcaea065771',\n",
       "            [{\"name\": \"Individual\", \"x\": [\"status 0\", \"status 1\"], \"y\": [0.9950741066022246, 0.9930135721379166], \"type\": \"bar\", \"uid\": \"0e33468c-9053-11e8-a0ae-88e9fe51b829\", \"xaxis\": \"x\", \"yaxis\": \"y\"}, {\"name\": \"Joint App\", \"x\": [\"status 0\", \"status 1\"], \"y\": [0.004925893397775438, 0.006986427862083384], \"type\": \"bar\", \"uid\": \"0e35c6be-9053-11e8-a3b9-88e9fe51b829\", \"xaxis\": \"x\", \"yaxis\": \"y\"}, {\"error_y\": {\"array\": [0.02670691806176484], \"visible\": true}, \"name\": \"Individual\", \"x\": [\"Individual\"], \"xaxis\": \"x2\", \"y\": [0.23806858527212732], \"type\": \"bar\", \"uid\": \"0e438826-9053-11e8-9d91-88e9fe51b829\", \"yaxis\": \"y2\"}, {\"error_y\": {\"array\": [0.02894066267094586], \"visible\": true}, \"name\": \"Joint App\", \"x\": [\"Joint App\"], \"xaxis\": \"x2\", \"y\": [0.3075153374233129], \"type\": \"bar\", \"uid\": \"0e468292-9053-11e8-aff7-88e9fe51b829\", \"yaxis\": \"y2\"}],\n",
       "            {\"annotations\": [{\"font\": {\"size\": 16}, \"showarrow\": false, \"text\": \"Distribution Plot\", \"x\": 0.225, \"xanchor\": \"center\", \"xref\": \"paper\", \"y\": 1.0, \"yanchor\": \"bottom\", \"yref\": \"paper\"}, {\"font\": {\"size\": 16}, \"showarrow\": false, \"text\": \"Default Rate Distribution\", \"x\": 0.775, \"xanchor\": \"center\", \"xref\": \"paper\", \"y\": 1.0, \"yanchor\": \"bottom\", \"yref\": \"paper\"}], \"xaxis\": {\"anchor\": \"y\", \"domain\": [0, 0.47], \"title\": \"Loan Status\"}, \"yaxis\": {\"anchor\": \"x\", \"domain\": [0.0, 1.0], \"title\": \"Probability Density\"}, \"xaxis2\": {\"anchor\": \"y2\", \"domain\": [0.53, 1], \"title\": \"Application_type\"}, \"yaxis2\": {\"anchor\": \"x2\", \"domain\": [0.0, 1.0], \"title\": \"Default Rate\"}, \"margin\": {\"b\": 50, \"l\": 50, \"pad\": 4, \"r\": 50, \"t\": 40}, \"legend\": {\"orientation\": \"h\", \"xanchor\": \"auto\", \"y\": -0.2}, \"width\": 1000, \"height\": 450},\n",
       "            {\"showLink\": true, \"linkText\": \"Export to plot.ly\"}\n",
       "        ).then(function () {return Plotly.addFrames('dc214590-16f9-423a-bd8e-8dcaea065771',{});}).then(function(){Plotly.animate('dc214590-16f9-423a-bd8e-8dcaea065771');})\n",
       "        });</script>"
      ],
      "text/vnd.plotly.v1+html": [
       "<div id=\"dc214590-16f9-423a-bd8e-8dcaea065771\" style=\"height: 450px; width: 1000px;\" class=\"plotly-graph-div\"></div><script type=\"text/javascript\">require([\"plotly\"], function(Plotly) { window.PLOTLYENV=window.PLOTLYENV || {};window.PLOTLYENV.BASE_URL=\"https://plot.ly\";\n",
       "        Plotly.plot(\n",
       "            'dc214590-16f9-423a-bd8e-8dcaea065771',\n",
       "            [{\"name\": \"Individual\", \"x\": [\"status 0\", \"status 1\"], \"y\": [0.9950741066022246, 0.9930135721379166], \"type\": \"bar\", \"uid\": \"0e33468c-9053-11e8-a0ae-88e9fe51b829\", \"xaxis\": \"x\", \"yaxis\": \"y\"}, {\"name\": \"Joint App\", \"x\": [\"status 0\", \"status 1\"], \"y\": [0.004925893397775438, 0.006986427862083384], \"type\": \"bar\", \"uid\": \"0e35c6be-9053-11e8-a3b9-88e9fe51b829\", \"xaxis\": \"x\", \"yaxis\": \"y\"}, {\"error_y\": {\"array\": [0.02670691806176484], \"visible\": true}, \"name\": \"Individual\", \"x\": [\"Individual\"], \"xaxis\": \"x2\", \"y\": [0.23806858527212732], \"type\": \"bar\", \"uid\": \"0e438826-9053-11e8-9d91-88e9fe51b829\", \"yaxis\": \"y2\"}, {\"error_y\": {\"array\": [0.02894066267094586], \"visible\": true}, \"name\": \"Joint App\", \"x\": [\"Joint App\"], \"xaxis\": \"x2\", \"y\": [0.3075153374233129], \"type\": \"bar\", \"uid\": \"0e468292-9053-11e8-aff7-88e9fe51b829\", \"yaxis\": \"y2\"}],\n",
       "            {\"annotations\": [{\"font\": {\"size\": 16}, \"showarrow\": false, \"text\": \"Distribution Plot\", \"x\": 0.225, \"xanchor\": \"center\", \"xref\": \"paper\", \"y\": 1.0, \"yanchor\": \"bottom\", \"yref\": \"paper\"}, {\"font\": {\"size\": 16}, \"showarrow\": false, \"text\": \"Default Rate Distribution\", \"x\": 0.775, \"xanchor\": \"center\", \"xref\": \"paper\", \"y\": 1.0, \"yanchor\": \"bottom\", \"yref\": \"paper\"}], \"xaxis\": {\"anchor\": \"y\", \"domain\": [0, 0.47], \"title\": \"Loan Status\"}, \"yaxis\": {\"anchor\": \"x\", \"domain\": [0.0, 1.0], \"title\": \"Probability Density\"}, \"xaxis2\": {\"anchor\": \"y2\", \"domain\": [0.53, 1], \"title\": \"Application_type\"}, \"yaxis2\": {\"anchor\": \"x2\", \"domain\": [0.0, 1.0], \"title\": \"Default Rate\"}, \"margin\": {\"b\": 50, \"l\": 50, \"pad\": 4, \"r\": 50, \"t\": 40}, \"legend\": {\"orientation\": \"h\", \"xanchor\": \"auto\", \"y\": -0.2}, \"width\": 1000, \"height\": 450},\n",
       "            {\"showLink\": true, \"linkText\": \"Export to plot.ly\"}\n",
       "        ).then(function () {return Plotly.addFrames('dc214590-16f9-423a-bd8e-8dcaea065771',{});}).then(function(){Plotly.animate('dc214590-16f9-423a-bd8e-8dcaea065771');})\n",
       "        });</script>"
      ]
     },
     "metadata": {},
     "output_type": "display_data"
    }
   ],
   "source": [
    "# application_type\n",
    "feature = 'application_type'\n",
    "iplot(categorical_plot(data=train, feature=feature, width=1000, height=450))"
   ]
  },
  {
   "cell_type": "code",
   "execution_count": 16,
   "metadata": {},
   "outputs": [
    {
     "data": {
      "application/vnd.plotly.v1+json": {
       "data": [
        {
         "name": "0",
         "type": "bar",
         "uid": "0f168154-9053-11e8-87da-88e9fe51b829",
         "x": [
          "status 0",
          "status 1"
         ],
         "xaxis": "x",
         "y": [
          0.20290898643697347,
          0.0508040489921076
         ],
         "yaxis": "y"
        },
        {
         "name": "1",
         "type": "bar",
         "uid": "0f18ece6-9053-11e8-ab5d-88e9fe51b829",
         "x": [
          "status 0",
          "status 1"
         ],
         "xaxis": "x",
         "y": [
          0.3047889721084242,
          0.1862815129710612
         ],
         "yaxis": "y"
        },
        {
         "name": "2",
         "type": "bar",
         "uid": "0f1b75cc-9053-11e8-aa85-88e9fe51b829",
         "x": [
          "status 0",
          "status 1"
         ],
         "xaxis": "x",
         "y": [
          0.2785284507165184,
          0.312257899657938
         ],
         "yaxis": "y"
        },
        {
         "name": "3",
         "type": "bar",
         "uid": "0f1debcc-9053-11e8-aaa0-88e9fe51b829",
         "x": [
          "status 0",
          "status 1"
         ],
         "xaxis": "x",
         "y": [
          0.1343883364154261,
          0.2317310428535754
         ],
         "yaxis": "y"
        },
        {
         "name": "4",
         "type": "bar",
         "uid": "0f207cd8-9053-11e8-863c-88e9fe51b829",
         "x": [
          "status 0",
          "status 1"
         ],
         "xaxis": "x",
         "y": [
          0.058543397502686605,
          0.14629684478282837
         ],
         "yaxis": "y"
        },
        {
         "name": "5",
         "type": "bar",
         "uid": "0f22e278-9053-11e8-b4ec-88e9fe51b829",
         "x": [
          "status 0",
          "status 1"
         ],
         "xaxis": "x",
         "y": [
          0.016876048957088906,
          0.056460558333478524
         ],
         "yaxis": "y"
        },
        {
         "name": "6",
         "type": "bar",
         "uid": "0f254748-9053-11e8-86c7-88e9fe51b829",
         "x": [
          "status 0",
          "status 1"
         ],
         "xaxis": "x",
         "y": [
          0.00396580786288233,
          0.016168092409010924
         ],
         "yaxis": "y"
        },
        {
         "error_y": {
          "array": [
           0.016280979414728322
          ],
          "visible": true
         },
         "name": "0",
         "type": "bar",
         "uid": "0f2b896e-9053-11e8-bca5-88e9fe51b829",
         "x": [
          0
         ],
         "xaxis": "x2",
         "y": [
          0.07269524173577756
         ],
         "yaxis": "y2"
        },
        {
         "error_y": {
          "array": [
           0.023025024842987935
          ],
          "visible": true
         },
         "name": "1",
         "type": "bar",
         "uid": "0f2e1922-9053-11e8-bec7-88e9fe51b829",
         "x": [
          1
         ],
         "xaxis": "x2",
         "y": [
          0.16062495305340643
         ],
         "yaxis": "y2"
        },
        {
         "error_y": {
          "array": [
           0.02749915306799175
          ],
          "visible": true
         },
         "name": "2",
         "type": "bar",
         "uid": "0f30b41e-9053-11e8-b2c3-88e9fe51b829",
         "x": [
          2
         ],
         "xaxis": "x2",
         "y": [
          0.25981782599241343
         ],
         "yaxis": "y2"
        },
        {
         "error_y": {
          "array": [
           0.02992126191850636
          ],
          "visible": true
         },
         "name": "3",
         "type": "bar",
         "uid": "0f331a8a-9053-11e8-be63-88e9fe51b829",
         "x": [
          3
         ],
         "xaxis": "x2",
         "y": [
          0.3506049609433349
         ],
         "yaxis": "y2"
        },
        {
         "error_y": {
          "array": [
           0.031119199112717932
          ],
          "visible": true
         },
         "name": "4",
         "type": "bar",
         "uid": "0f3659de-9053-11e8-91ea-88e9fe51b829",
         "x": [
          4
         ],
         "xaxis": "x2",
         "y": [
          0.43896701343509853
         ],
         "yaxis": "y2"
        },
        {
         "error_y": {
          "array": [
           0.03134576978762582
          ],
          "visible": true
         },
         "name": "5",
         "type": "bar",
         "uid": "0f38d4fa-9053-11e8-bd98-88e9fe51b829",
         "x": [
          5
         ],
         "xaxis": "x2",
         "y": [
          0.5116034310372046
         ],
         "yaxis": "y2"
        },
        {
         "error_y": {
          "array": [
           0.031124431059038726
          ],
          "visible": true
         },
         "name": "6",
         "type": "bar",
         "uid": "0f3b3206-9053-11e8-a3fa-88e9fe51b829",
         "x": [
          6
         ],
         "xaxis": "x2",
         "y": [
          0.5607250755287009
         ],
         "yaxis": "y2"
        }
       ],
       "layout": {
        "annotations": [
         {
          "font": {
           "size": 16
          },
          "showarrow": false,
          "text": "Distribution Plot",
          "x": 0.225,
          "xanchor": "center",
          "xref": "paper",
          "y": 1,
          "yanchor": "bottom",
          "yref": "paper"
         },
         {
          "font": {
           "size": 16
          },
          "showarrow": false,
          "text": "Default Rate Distribution",
          "x": 0.775,
          "xanchor": "center",
          "xref": "paper",
          "y": 1,
          "yanchor": "bottom",
          "yref": "paper"
         }
        ],
        "height": 450,
        "legend": {
         "orientation": "h",
         "xanchor": "auto",
         "y": -0.2
        },
        "margin": {
         "b": 50,
         "l": 50,
         "pad": 4,
         "r": 50,
         "t": 40
        },
        "width": 1000,
        "xaxis": {
         "anchor": "y",
         "domain": [
          0,
          0.47
         ],
         "title": "Loan Status"
        },
        "xaxis2": {
         "anchor": "y2",
         "domain": [
          0.53,
          1
         ],
         "title": "Grade"
        },
        "yaxis": {
         "anchor": "x",
         "domain": [
          0,
          1
         ],
         "title": "Probability Density"
        },
        "yaxis2": {
         "anchor": "x2",
         "domain": [
          0,
          1
         ],
         "title": "Default Rate"
        }
       }
      },
      "text/html": [
       "<div id=\"68e7c4b3-b39a-4a0f-ac45-771145e9cce3\" style=\"height: 450px; width: 1000px;\" class=\"plotly-graph-div\"></div><script type=\"text/javascript\">require([\"plotly\"], function(Plotly) { window.PLOTLYENV=window.PLOTLYENV || {};window.PLOTLYENV.BASE_URL=\"https://plot.ly\";\n",
       "        Plotly.plot(\n",
       "            '68e7c4b3-b39a-4a0f-ac45-771145e9cce3',\n",
       "            [{\"name\": \"0\", \"x\": [\"status 0\", \"status 1\"], \"y\": [0.20290898643697347, 0.0508040489921076], \"type\": \"bar\", \"uid\": \"0f168154-9053-11e8-87da-88e9fe51b829\", \"xaxis\": \"x\", \"yaxis\": \"y\"}, {\"name\": \"1\", \"x\": [\"status 0\", \"status 1\"], \"y\": [0.3047889721084242, 0.1862815129710612], \"type\": \"bar\", \"uid\": \"0f18ece6-9053-11e8-ab5d-88e9fe51b829\", \"xaxis\": \"x\", \"yaxis\": \"y\"}, {\"name\": \"2\", \"x\": [\"status 0\", \"status 1\"], \"y\": [0.2785284507165184, 0.312257899657938], \"type\": \"bar\", \"uid\": \"0f1b75cc-9053-11e8-aa85-88e9fe51b829\", \"xaxis\": \"x\", \"yaxis\": \"y\"}, {\"name\": \"3\", \"x\": [\"status 0\", \"status 1\"], \"y\": [0.1343883364154261, 0.2317310428535754], \"type\": \"bar\", \"uid\": \"0f1debcc-9053-11e8-aaa0-88e9fe51b829\", \"xaxis\": \"x\", \"yaxis\": \"y\"}, {\"name\": \"4\", \"x\": [\"status 0\", \"status 1\"], \"y\": [0.058543397502686605, 0.14629684478282837], \"type\": \"bar\", \"uid\": \"0f207cd8-9053-11e8-863c-88e9fe51b829\", \"xaxis\": \"x\", \"yaxis\": \"y\"}, {\"name\": \"5\", \"x\": [\"status 0\", \"status 1\"], \"y\": [0.016876048957088906, 0.056460558333478524], \"type\": \"bar\", \"uid\": \"0f22e278-9053-11e8-b4ec-88e9fe51b829\", \"xaxis\": \"x\", \"yaxis\": \"y\"}, {\"name\": \"6\", \"x\": [\"status 0\", \"status 1\"], \"y\": [0.00396580786288233, 0.016168092409010924], \"type\": \"bar\", \"uid\": \"0f254748-9053-11e8-86c7-88e9fe51b829\", \"xaxis\": \"x\", \"yaxis\": \"y\"}, {\"error_y\": {\"array\": [0.016280979414728322], \"visible\": true}, \"name\": \"0\", \"x\": [0], \"xaxis\": \"x2\", \"y\": [0.07269524173577756], \"type\": \"bar\", \"uid\": \"0f2b896e-9053-11e8-bca5-88e9fe51b829\", \"yaxis\": \"y2\"}, {\"error_y\": {\"array\": [0.023025024842987935], \"visible\": true}, \"name\": \"1\", \"x\": [1], \"xaxis\": \"x2\", \"y\": [0.16062495305340643], \"type\": \"bar\", \"uid\": \"0f2e1922-9053-11e8-bec7-88e9fe51b829\", \"yaxis\": \"y2\"}, {\"error_y\": {\"array\": [0.02749915306799175], \"visible\": true}, \"name\": \"2\", \"x\": [2], \"xaxis\": \"x2\", \"y\": [0.25981782599241343], \"type\": \"bar\", \"uid\": \"0f30b41e-9053-11e8-b2c3-88e9fe51b829\", \"yaxis\": \"y2\"}, {\"error_y\": {\"array\": [0.02992126191850636], \"visible\": true}, \"name\": \"3\", \"x\": [3], \"xaxis\": \"x2\", \"y\": [0.3506049609433349], \"type\": \"bar\", \"uid\": \"0f331a8a-9053-11e8-be63-88e9fe51b829\", \"yaxis\": \"y2\"}, {\"error_y\": {\"array\": [0.031119199112717932], \"visible\": true}, \"name\": \"4\", \"x\": [4], \"xaxis\": \"x2\", \"y\": [0.43896701343509853], \"type\": \"bar\", \"uid\": \"0f3659de-9053-11e8-91ea-88e9fe51b829\", \"yaxis\": \"y2\"}, {\"error_y\": {\"array\": [0.03134576978762582], \"visible\": true}, \"name\": \"5\", \"x\": [5], \"xaxis\": \"x2\", \"y\": [0.5116034310372046], \"type\": \"bar\", \"uid\": \"0f38d4fa-9053-11e8-bd98-88e9fe51b829\", \"yaxis\": \"y2\"}, {\"error_y\": {\"array\": [0.031124431059038726], \"visible\": true}, \"name\": \"6\", \"x\": [6], \"xaxis\": \"x2\", \"y\": [0.5607250755287009], \"type\": \"bar\", \"uid\": \"0f3b3206-9053-11e8-a3fa-88e9fe51b829\", \"yaxis\": \"y2\"}],\n",
       "            {\"annotations\": [{\"font\": {\"size\": 16}, \"showarrow\": false, \"text\": \"Distribution Plot\", \"x\": 0.225, \"xanchor\": \"center\", \"xref\": \"paper\", \"y\": 1.0, \"yanchor\": \"bottom\", \"yref\": \"paper\"}, {\"font\": {\"size\": 16}, \"showarrow\": false, \"text\": \"Default Rate Distribution\", \"x\": 0.775, \"xanchor\": \"center\", \"xref\": \"paper\", \"y\": 1.0, \"yanchor\": \"bottom\", \"yref\": \"paper\"}], \"xaxis\": {\"anchor\": \"y\", \"domain\": [0, 0.47], \"title\": \"Loan Status\"}, \"yaxis\": {\"anchor\": \"x\", \"domain\": [0.0, 1.0], \"title\": \"Probability Density\"}, \"xaxis2\": {\"anchor\": \"y2\", \"domain\": [0.53, 1], \"title\": \"Grade\"}, \"yaxis2\": {\"anchor\": \"x2\", \"domain\": [0.0, 1.0], \"title\": \"Default Rate\"}, \"margin\": {\"b\": 50, \"l\": 50, \"pad\": 4, \"r\": 50, \"t\": 40}, \"legend\": {\"orientation\": \"h\", \"xanchor\": \"auto\", \"y\": -0.2}, \"width\": 1000, \"height\": 450},\n",
       "            {\"showLink\": true, \"linkText\": \"Export to plot.ly\"}\n",
       "        ).then(function () {return Plotly.addFrames('68e7c4b3-b39a-4a0f-ac45-771145e9cce3',{});}).then(function(){Plotly.animate('68e7c4b3-b39a-4a0f-ac45-771145e9cce3');})\n",
       "        });</script>"
      ],
      "text/vnd.plotly.v1+html": [
       "<div id=\"68e7c4b3-b39a-4a0f-ac45-771145e9cce3\" style=\"height: 450px; width: 1000px;\" class=\"plotly-graph-div\"></div><script type=\"text/javascript\">require([\"plotly\"], function(Plotly) { window.PLOTLYENV=window.PLOTLYENV || {};window.PLOTLYENV.BASE_URL=\"https://plot.ly\";\n",
       "        Plotly.plot(\n",
       "            '68e7c4b3-b39a-4a0f-ac45-771145e9cce3',\n",
       "            [{\"name\": \"0\", \"x\": [\"status 0\", \"status 1\"], \"y\": [0.20290898643697347, 0.0508040489921076], \"type\": \"bar\", \"uid\": \"0f168154-9053-11e8-87da-88e9fe51b829\", \"xaxis\": \"x\", \"yaxis\": \"y\"}, {\"name\": \"1\", \"x\": [\"status 0\", \"status 1\"], \"y\": [0.3047889721084242, 0.1862815129710612], \"type\": \"bar\", \"uid\": \"0f18ece6-9053-11e8-ab5d-88e9fe51b829\", \"xaxis\": \"x\", \"yaxis\": \"y\"}, {\"name\": \"2\", \"x\": [\"status 0\", \"status 1\"], \"y\": [0.2785284507165184, 0.312257899657938], \"type\": \"bar\", \"uid\": \"0f1b75cc-9053-11e8-aa85-88e9fe51b829\", \"xaxis\": \"x\", \"yaxis\": \"y\"}, {\"name\": \"3\", \"x\": [\"status 0\", \"status 1\"], \"y\": [0.1343883364154261, 0.2317310428535754], \"type\": \"bar\", \"uid\": \"0f1debcc-9053-11e8-aaa0-88e9fe51b829\", \"xaxis\": \"x\", \"yaxis\": \"y\"}, {\"name\": \"4\", \"x\": [\"status 0\", \"status 1\"], \"y\": [0.058543397502686605, 0.14629684478282837], \"type\": \"bar\", \"uid\": \"0f207cd8-9053-11e8-863c-88e9fe51b829\", \"xaxis\": \"x\", \"yaxis\": \"y\"}, {\"name\": \"5\", \"x\": [\"status 0\", \"status 1\"], \"y\": [0.016876048957088906, 0.056460558333478524], \"type\": \"bar\", \"uid\": \"0f22e278-9053-11e8-b4ec-88e9fe51b829\", \"xaxis\": \"x\", \"yaxis\": \"y\"}, {\"name\": \"6\", \"x\": [\"status 0\", \"status 1\"], \"y\": [0.00396580786288233, 0.016168092409010924], \"type\": \"bar\", \"uid\": \"0f254748-9053-11e8-86c7-88e9fe51b829\", \"xaxis\": \"x\", \"yaxis\": \"y\"}, {\"error_y\": {\"array\": [0.016280979414728322], \"visible\": true}, \"name\": \"0\", \"x\": [0], \"xaxis\": \"x2\", \"y\": [0.07269524173577756], \"type\": \"bar\", \"uid\": \"0f2b896e-9053-11e8-bca5-88e9fe51b829\", \"yaxis\": \"y2\"}, {\"error_y\": {\"array\": [0.023025024842987935], \"visible\": true}, \"name\": \"1\", \"x\": [1], \"xaxis\": \"x2\", \"y\": [0.16062495305340643], \"type\": \"bar\", \"uid\": \"0f2e1922-9053-11e8-bec7-88e9fe51b829\", \"yaxis\": \"y2\"}, {\"error_y\": {\"array\": [0.02749915306799175], \"visible\": true}, \"name\": \"2\", \"x\": [2], \"xaxis\": \"x2\", \"y\": [0.25981782599241343], \"type\": \"bar\", \"uid\": \"0f30b41e-9053-11e8-b2c3-88e9fe51b829\", \"yaxis\": \"y2\"}, {\"error_y\": {\"array\": [0.02992126191850636], \"visible\": true}, \"name\": \"3\", \"x\": [3], \"xaxis\": \"x2\", \"y\": [0.3506049609433349], \"type\": \"bar\", \"uid\": \"0f331a8a-9053-11e8-be63-88e9fe51b829\", \"yaxis\": \"y2\"}, {\"error_y\": {\"array\": [0.031119199112717932], \"visible\": true}, \"name\": \"4\", \"x\": [4], \"xaxis\": \"x2\", \"y\": [0.43896701343509853], \"type\": \"bar\", \"uid\": \"0f3659de-9053-11e8-91ea-88e9fe51b829\", \"yaxis\": \"y2\"}, {\"error_y\": {\"array\": [0.03134576978762582], \"visible\": true}, \"name\": \"5\", \"x\": [5], \"xaxis\": \"x2\", \"y\": [0.5116034310372046], \"type\": \"bar\", \"uid\": \"0f38d4fa-9053-11e8-bd98-88e9fe51b829\", \"yaxis\": \"y2\"}, {\"error_y\": {\"array\": [0.031124431059038726], \"visible\": true}, \"name\": \"6\", \"x\": [6], \"xaxis\": \"x2\", \"y\": [0.5607250755287009], \"type\": \"bar\", \"uid\": \"0f3b3206-9053-11e8-a3fa-88e9fe51b829\", \"yaxis\": \"y2\"}],\n",
       "            {\"annotations\": [{\"font\": {\"size\": 16}, \"showarrow\": false, \"text\": \"Distribution Plot\", \"x\": 0.225, \"xanchor\": \"center\", \"xref\": \"paper\", \"y\": 1.0, \"yanchor\": \"bottom\", \"yref\": \"paper\"}, {\"font\": {\"size\": 16}, \"showarrow\": false, \"text\": \"Default Rate Distribution\", \"x\": 0.775, \"xanchor\": \"center\", \"xref\": \"paper\", \"y\": 1.0, \"yanchor\": \"bottom\", \"yref\": \"paper\"}], \"xaxis\": {\"anchor\": \"y\", \"domain\": [0, 0.47], \"title\": \"Loan Status\"}, \"yaxis\": {\"anchor\": \"x\", \"domain\": [0.0, 1.0], \"title\": \"Probability Density\"}, \"xaxis2\": {\"anchor\": \"y2\", \"domain\": [0.53, 1], \"title\": \"Grade\"}, \"yaxis2\": {\"anchor\": \"x2\", \"domain\": [0.0, 1.0], \"title\": \"Default Rate\"}, \"margin\": {\"b\": 50, \"l\": 50, \"pad\": 4, \"r\": 50, \"t\": 40}, \"legend\": {\"orientation\": \"h\", \"xanchor\": \"auto\", \"y\": -0.2}, \"width\": 1000, \"height\": 450},\n",
       "            {\"showLink\": true, \"linkText\": \"Export to plot.ly\"}\n",
       "        ).then(function () {return Plotly.addFrames('68e7c4b3-b39a-4a0f-ac45-771145e9cce3',{});}).then(function(){Plotly.animate('68e7c4b3-b39a-4a0f-ac45-771145e9cce3');})\n",
       "        });</script>"
      ]
     },
     "metadata": {},
     "output_type": "display_data"
    }
   ],
   "source": [
    "# grade\n",
    "feature = 'grade'\n",
    "iplot(categorical_plot(data=train, feature=feature, width=1000, height=450))"
   ]
  },
  {
   "cell_type": "code",
   "execution_count": 17,
   "metadata": {},
   "outputs": [
    {
     "data": {
      "application/vnd.plotly.v1+json": {
       "data": [
        {
         "name": "0",
         "type": "bar",
         "uid": "103d75a6-9053-11e8-ab6b-88e9fe51b829",
         "x": [
          "status 0",
          "status 1"
         ],
         "xaxis": "x",
         "y": [
          0.03754516311453202,
          0.005064143886730433
         ],
         "yaxis": "y"
        },
        {
         "name": "1",
         "type": "bar",
         "uid": "103fb3ac-9053-11e8-9e24-88e9fe51b829",
         "x": [
          "status 0",
          "status 1"
         ],
         "xaxis": "x",
         "y": [
          0.031897387221770664,
          0.006214029769267848
         ],
         "yaxis": "y"
        },
        {
         "name": "2",
         "type": "bar",
         "uid": "10420b66-9053-11e8-895d-88e9fe51b829",
         "x": [
          "status 0",
          "status 1"
         ],
         "xaxis": "x",
         "y": [
          0.03134097401404853,
          0.007120000464600357
         ],
         "yaxis": "y"
        },
        {
         "name": "3",
         "type": "bar",
         "uid": "10444566-9053-11e8-8fbf-88e9fe51b829",
         "x": [
          "status 0",
          "status 1"
         ],
         "xaxis": "x",
         "y": [
          0.04558042443781355,
          0.012747472283684978
         ],
         "yaxis": "y"
        },
        {
         "name": "4",
         "type": "bar",
         "uid": "10467ec6-9053-11e8-a734-88e9fe51b829",
         "x": [
          "status 0",
          "status 1"
         ],
         "xaxis": "x",
         "y": [
          0.056545037648808714,
          0.019658402587823986
         ],
         "yaxis": "y"
        },
        {
         "name": "5",
         "type": "bar",
         "uid": "1048b466-9053-11e8-8009-88e9fe51b829",
         "x": [
          "status 0",
          "status 1"
         ],
         "xaxis": "x",
         "y": [
          0.05609590672623561,
          0.025680784710002263
         ],
         "yaxis": "y"
        },
        {
         "name": "6",
         "type": "bar",
         "uid": "104ae434-9053-11e8-aaf0-88e9fe51b829",
         "x": [
          "status 0",
          "status 1"
         ],
         "xaxis": "x",
         "y": [
          0.05786879194691891,
          0.02934532002253312
         ],
         "yaxis": "y"
        },
        {
         "name": "7",
         "type": "bar",
         "uid": "104d16c8-9053-11e8-9709-88e9fe51b829",
         "x": [
          "status 0",
          "status 1"
         ],
         "xaxis": "x",
         "y": [
          0.06252920714754587,
          0.03687184579914165
         ],
         "yaxis": "y"
        },
        {
         "name": "8",
         "type": "bar",
         "uid": "104f53f4-9053-11e8-86d7-88e9fe51b829",
         "x": [
          "status 0",
          "status 1"
         ],
         "xaxis": "x",
         "y": [
          0.06396933544988553,
          0.04368404852750724
         ],
         "yaxis": "y"
        },
        {
         "name": "9",
         "type": "bar",
         "uid": "1051ab7a-9053-11e8-a468-88e9fe51b829",
         "x": [
          "status 0",
          "status 1"
         ],
         "xaxis": "x",
         "y": [
          0.06432573083783828,
          0.05069951391187693
         ],
         "yaxis": "y"
        },
        {
         "name": "10",
         "type": "bar",
         "uid": "1053e8d8-9053-11e8-8f4d-88e9fe51b829",
         "x": [
          "status 0",
          "status 1"
         ],
         "xaxis": "x",
         "y": [
          0.06420753848979273,
          0.05906812783478811
         ],
         "yaxis": "y"
        },
        {
         "name": "11",
         "type": "bar",
         "uid": "10561f3e-9053-11e8-9167-88e9fe51b829",
         "x": [
          "status 0",
          "status 1"
         ],
         "xaxis": "x",
         "y": [
          0.05970713754498128,
          0.06169892735392674
         ],
         "yaxis": "y"
        },
        {
         "name": "12",
         "type": "bar",
         "uid": "10585038-9053-11e8-8a16-88e9fe51b829",
         "x": [
          "status 0",
          "status 1"
         ],
         "xaxis": "x",
         "y": [
          0.056017717942143934,
          0.062029955107990545
         ],
         "yaxis": "y"
        },
        {
         "name": "13",
         "type": "bar",
         "uid": "105a839e-9053-11e8-b274-88e9fe51b829",
         "x": [
          "status 0",
          "status 1"
         ],
         "xaxis": "x",
         "y": [
          0.052855618045971366,
          0.0681278347881132
         ],
         "yaxis": "y"
        },
        {
         "name": "14",
         "type": "bar",
         "uid": "105cb918-9053-11e8-a7ce-88e9fe51b829",
         "x": [
          "status 0",
          "status 1"
         ],
         "xaxis": "x",
         "y": [
          0.04574043869362907,
          0.06133305457311938
         ],
         "yaxis": "y"
        },
        {
         "name": "15",
         "type": "bar",
         "uid": "105eec22-9053-11e8-8b00-88e9fe51b829",
         "x": [
          "status 0",
          "status 1"
         ],
         "xaxis": "x",
         "y": [
          0.03652689057752418,
          0.054817034572074035
         ],
         "yaxis": "y"
        },
        {
         "name": "16",
         "type": "bar",
         "uid": "1061468c-9053-11e8-a0c0-88e9fe51b829",
         "x": [
          "status 0",
          "status 1"
         ],
         "xaxis": "x",
         "y": [
          0.029840840365778044,
          0.04994453833243317
         ],
         "yaxis": "y"
        },
        {
         "name": "17",
         "type": "bar",
         "uid": "10637e18-9053-11e8-9f19-88e9fe51b829",
         "x": [
          "status 0",
          "status 1"
         ],
         "xaxis": "x",
         "y": [
          0.02544954004993172,
          0.0438060061211097
         ],
         "yaxis": "y"
        },
        {
         "name": "18",
         "type": "bar",
         "uid": "1065da14-9053-11e8-bcc2-88e9fe51b829",
         "x": [
          "status 0",
          "status 1"
         ],
         "xaxis": "x",
         "y": [
          0.0233675363805139,
          0.04487458694124548
         ],
         "yaxis": "y"
        },
        {
         "name": "19",
         "type": "bar",
         "uid": "1068364c-9053-11e8-b5b3-88e9fe51b829",
         "x": [
          "status 0",
          "status 1"
         ],
         "xaxis": "x",
         "y": [
          0.01920352904167826,
          0.03828887688671301
         ],
         "yaxis": "y"
        },
        {
         "name": "20",
         "type": "bar",
         "uid": "106a8ecc-9053-11e8-9e9a-88e9fe51b829",
         "x": [
          "status 0",
          "status 1"
         ],
         "xaxis": "x",
         "y": [
          0.016748764889962926,
          0.03692992084371425
         ],
         "yaxis": "y"
        },
        {
         "name": "21",
         "type": "bar",
         "uid": "106d30d4-9053-11e8-9af6-88e9fe51b829",
         "x": [
          "status 0",
          "status 1"
         ],
         "xaxis": "x",
         "y": [
          0.013492111115353913,
          0.0324871799339106
         ],
         "yaxis": "y"
        },
        {
         "name": "22",
         "type": "bar",
         "uid": "106fa046-9053-11e8-b781-88e9fe51b829",
         "x": [
          "status 0",
          "status 1"
         ],
         "xaxis": "x",
         "y": [
          0.011555574951222928,
          0.029699577794425957
         ],
         "yaxis": "y"
        },
        {
         "name": "23",
         "type": "bar",
         "uid": "107229e8-9053-11e8-af3f-88e9fe51b829",
         "x": [
          "status 0",
          "status 1"
         ],
         "xaxis": "x",
         "y": [
          0.009135359332013216,
          0.025285874406908607
         ],
         "yaxis": "y"
        },
        {
         "name": "24",
         "type": "bar",
         "uid": "1074a36e-9053-11e8-909c-88e9fe51b829",
         "x": [
          "status 0",
          "status 1"
         ],
         "xaxis": "x",
         "y": [
          0.007611587214133623,
          0.02189429180386896
         ],
         "yaxis": "y"
        },
        {
         "name": "25",
         "type": "bar",
         "uid": "10770f8c-9053-11e8-afc7-88e9fe51b829",
         "x": [
          "status 0",
          "status 1"
         ],
         "xaxis": "x",
         "y": [
          0.005656867611841782,
          0.016522350180903762
         ],
         "yaxis": "y"
        },
        {
         "name": "26",
         "type": "bar",
         "uid": "10799868-9053-11e8-8e2e-88e9fe51b829",
         "x": [
          "status 0",
          "status 1"
         ],
         "xaxis": "x",
         "y": [
          0.0038676172968137162,
          0.012985579966432624
         ],
         "yaxis": "y"
        },
        {
         "name": "27",
         "type": "bar",
         "uid": "107c69f0-9053-11e8-b3ea-88e9fe51b829",
         "x": [
          "status 0",
          "status 1"
         ],
         "xaxis": "x",
         "y": [
          0.0031802833343334224,
          0.010656770679071496
         ],
         "yaxis": "y"
        },
        {
         "name": "28",
         "type": "bar",
         "uid": "107ee874-9053-11e8-8cab-88e9fe51b829",
         "x": [
          "status 0",
          "status 1"
         ],
         "xaxis": "x",
         "y": [
          0.002383848742888003,
          0.008955171873094412
         ],
         "yaxis": "y"
        },
        {
         "name": "29",
         "type": "bar",
         "uid": "10817e18-9053-11e8-8677-88e9fe51b829",
         "x": [
          "status 0",
          "status 1"
         ],
         "xaxis": "x",
         "y": [
          0.0017874319712119808,
          0.007340685633976224
         ],
         "yaxis": "y"
        },
        {
         "name": "30",
         "type": "bar",
         "uid": "108409a8-9053-11e8-bcc4-88e9fe51b829",
         "x": [
          "status 0",
          "status 1"
         ],
         "xaxis": "x",
         "y": [
          0.0013219359542941099,
          0.005035106364444135
         ],
         "yaxis": "y"
        },
        {
         "name": "31",
         "type": "bar",
         "uid": "10867cec-9053-11e8-8657-88e9fe51b829",
         "x": [
          "status 0",
          "status 1"
         ],
         "xaxis": "x",
         "y": [
          0.0010437293504330387,
          0.004024600588880952
         ],
         "yaxis": "y"
        },
        {
         "name": "32",
         "type": "bar",
         "uid": "1088e2ac-9053-11e8-8456-88e9fe51b829",
         "x": [
          "status 0",
          "status 1"
         ],
         "xaxis": "x",
         "y": [
          0.0007455209645950276,
          0.0029908647954887306
         ],
         "yaxis": "y"
        },
        {
         "name": "33",
         "type": "bar",
         "uid": "108b4eb6-9053-11e8-87ad-88e9fe51b829",
         "x": [
          "status 0",
          "status 1"
         ],
         "xaxis": "x",
         "y": [
          0.000474587735998298,
          0.0022533117294167523
         ],
         "yaxis": "y"
        },
        {
         "name": "34",
         "type": "bar",
         "uid": "108dbdae-9053-11e8-994d-88e9fe51b829",
         "x": [
          "status 0",
          "status 1"
         ],
         "xaxis": "x",
         "y": [
          0.0003800338575618555,
          0.0018642089307803543
         ],
         "yaxis": "y"
        },
        {
         "error_y": {
          "array": [
           0.012364585100736902
          ],
          "visible": true
         },
         "name": "0",
         "type": "bar",
         "uid": "109422ac-9053-11e8-b901-88e9fe51b829",
         "x": [
          0
         ],
         "xaxis": "x2",
         "y": [
          0.040520446096654276
         ],
         "yaxis": "y2"
        },
        {
         "error_y": {
          "array": [
           0.014597031718512524
          ],
          "visible": true
         },
         "name": "1",
         "type": "bar",
         "uid": "1096a1ba-9053-11e8-a652-88e9fe51b829",
         "x": [
          1
         ],
         "xaxis": "x2",
         "y": [
          0.05748979153234472
         ],
         "yaxis": "y2"
        },
        {
         "error_y": {
          "array": [
           0.015613885108263198
          ],
          "visible": true
         },
         "name": "2",
         "type": "bar",
         "uid": "10993f62-9053-11e8-ae0a-88e9fe51b829",
         "x": [
          2
         ],
         "xaxis": "x2",
         "y": [
          0.06640667316650417
         ],
         "yaxis": "y2"
        },
        {
         "error_y": {
          "array": [
           0.01706212741116439
          ],
          "visible": true
         },
         "name": "3",
         "type": "bar",
         "uid": "109bc110-9053-11e8-883e-88e9fe51b829",
         "x": [
          3
         ],
         "xaxis": "x2",
         "y": [
          0.08051500256767662
         ],
         "yaxis": "y2"
        },
        {
         "error_y": {
          "array": [
           0.018658078646209192
          ],
          "visible": true
         },
         "name": "4",
         "type": "bar",
         "uid": "109e4ab6-9053-11e8-b323-88e9fe51b829",
         "x": [
          4
         ],
         "xaxis": "x2",
         "y": [
          0.09816715967751291
         ],
         "yaxis": "y2"
        },
        {
         "error_y": {
          "array": [
           0.02076478840510479
          ],
          "visible": true
         },
         "name": "5",
         "type": "bar",
         "uid": "10a0b0da-9053-11e8-83a0-88e9fe51b829",
         "x": [
          5
         ],
         "xaxis": "x2",
         "y": [
          0.12536856430029486
         ],
         "yaxis": "y2"
        },
        {
         "error_y": {
          "array": [
           0.021563133400601966
          ],
          "visible": true
         },
         "name": "6",
         "type": "bar",
         "uid": "10a3083a-9053-11e8-8dc2-88e9fe51b829",
         "x": [
          6
         ],
         "xaxis": "x2",
         "y": [
          0.13701936113672109
         ],
         "yaxis": "y2"
        },
        {
         "error_y": {
          "array": [
           0.022745050012044216
          ],
          "visible": true
         },
         "name": "7",
         "type": "bar",
         "uid": "10a55428-9053-11e8-a084-88e9fe51b829",
         "x": [
          7
         ],
         "xaxis": "x2",
         "y": [
          0.15585340108500872
         ],
         "yaxis": "y2"
        },
        {
         "error_y": {
          "array": [
           0.023888338100993944
          ],
          "visible": true
         },
         "name": "8",
         "type": "bar",
         "uid": "10a79f30-9053-11e8-ba21-88e9fe51b829",
         "x": [
          8
         ],
         "xaxis": "x2",
         "y": [
          0.17615099995316377
         ],
         "yaxis": "y2"
        },
        {
         "error_y": {
          "array": [
           0.024985222467075935
          ],
          "visible": true
         },
         "name": "9",
         "type": "bar",
         "uid": "10a9ea88-9053-11e8-b16f-88e9fe51b829",
         "x": [
          9
         ],
         "xaxis": "x2",
         "y": [
          0.1979322541150864
         ],
         "yaxis": "y2"
        },
        {
         "error_y": {
          "array": [
           0.026128624174373755
          ],
          "visible": true
         },
         "name": "10",
         "type": "bar",
         "uid": "10ac4ca6-9053-11e8-accd-88e9fe51b829",
         "x": [
          10
         ],
         "xaxis": "x2",
         "y": [
          0.22362692933468184
         ],
         "yaxis": "y2"
        },
        {
         "error_y": {
          "array": [
           0.026949388494060422
          ],
          "visible": true
         },
         "name": "11",
         "type": "bar",
         "uid": "10ae94de-9053-11e8-b92d-88e9fe51b829",
         "x": [
          11
         ],
         "xaxis": "x2",
         "y": [
          0.24445467096180395
         ],
         "yaxis": "y2"
        },
        {
         "error_y": {
          "array": [
           0.027417501914681036
          ],
          "visible": true
         },
         "name": "12",
         "type": "bar",
         "uid": "10b0d99c-9053-11e8-a0ea-88e9fe51b829",
         "x": [
          12
         ],
         "xaxis": "x2",
         "y": [
          0.257447936752796
         ],
         "yaxis": "y2"
        },
        {
         "error_y": {
          "array": [
           0.028382156023020577
          ],
          "visible": true
         },
         "name": "13",
         "type": "bar",
         "uid": "10b31a7a-9053-11e8-92f1-88e9fe51b829",
         "x": [
          13
         ],
         "xaxis": "x2",
         "y": [
          0.2875315571460085
         ],
         "yaxis": "y2"
        },
        {
         "error_y": {
          "array": [
           0.028616889978026305
          ],
          "visible": true
         },
         "name": "14",
         "type": "bar",
         "uid": "10b55bb6-9053-11e8-872b-88e9fe51b829",
         "x": [
          14
         ],
         "xaxis": "x2",
         "y": [
          0.2956938066972785
         ],
         "yaxis": "y2"
        },
        {
         "error_y": {
          "array": [
           0.029243803644144084
          ],
          "visible": true
         },
         "name": "15",
         "type": "bar",
         "uid": "10b7a150-9053-11e8-b88c-88e9fe51b829",
         "x": [
          15
         ],
         "xaxis": "x2",
         "y": [
          0.3196735191519626
         ],
         "yaxis": "y2"
        },
        {
         "error_y": {
          "array": [
           0.02978577197372656
          ],
          "visible": true
         },
         "name": "16",
         "type": "bar",
         "uid": "10b9e386-9053-11e8-86a6-88e9fe51b829",
         "x": [
          16
         ],
         "xaxis": "x2",
         "y": [
          0.3438487065691096
         ],
         "yaxis": "y2"
        },
        {
         "error_y": {
          "array": [
           0.029913901022647904
          ],
          "visible": true
         },
         "name": "17",
         "type": "bar",
         "uid": "10bc44c6-9053-11e8-b418-88e9fe51b829",
         "x": [
          17
         ],
         "xaxis": "x2",
         "y": [
          0.35020195923673336
         ],
         "yaxis": "y2"
        },
        {
         "error_y": {
          "array": [
           0.0303665737732019
          ],
          "visible": true
         },
         "name": "18",
         "type": "bar",
         "uid": "10be93ac-9053-11e8-afe6-88e9fe51b829",
         "x": [
          18
         ],
         "xaxis": "x2",
         "y": [
          0.37549810477208667
         ],
         "yaxis": "y2"
        },
        {
         "error_y": {
          "array": [
           0.030503930202613883
          ],
          "visible": true
         },
         "name": "19",
         "type": "bar",
         "uid": "10c0dc18-9053-11e8-b01a-88e9fe51b829",
         "x": [
          19
         ],
         "xaxis": "x2",
         "y": [
          0.3843418444677626
         ],
         "yaxis": "y2"
        },
        {
         "error_y": {
          "array": [
           0.03082390262742002
          ],
          "visible": true
         },
         "name": "20",
         "type": "bar",
         "uid": "10c33b8c-9053-11e8-a203-88e9fe51b829",
         "x": [
          20
         ],
         "xaxis": "x2",
         "y": [
          0.4084136159280668
         ],
         "yaxis": "y2"
        },
        {
         "error_y": {
          "array": [
           0.031044420230508296
          ],
          "visible": true
         },
         "name": "21",
         "type": "bar",
         "uid": "10c5898c-9053-11e8-8b18-88e9fe51b829",
         "x": [
          21
         ],
         "xaxis": "x2",
         "y": [
          0.42984478254187797
         ],
         "yaxis": "y2"
        },
        {
         "error_y": {
          "array": [
           0.031170660631407276
          ],
          "visible": true
         },
         "name": "22",
         "type": "bar",
         "uid": "10c7d6c6-9053-11e8-b253-88e9fe51b829",
         "x": [
          22
         ],
         "xaxis": "x2",
         "y": [
          0.4458976371087279
         ],
         "yaxis": "y2"
        },
        {
         "error_y": {
          "array": [
           0.0312749368573324
          ],
          "visible": true
         },
         "name": "23",
         "type": "bar",
         "uid": "10ca1d9e-9053-11e8-81d5-88e9fe51b829",
         "x": [
          23
         ],
         "xaxis": "x2",
         "y": [
          0.46427809767541056
         ],
         "yaxis": "y2"
        },
        {
         "error_y": {
          "array": [
           0.031312467606298966
          ],
          "visible": true
         },
         "name": "24",
         "type": "bar",
         "uid": "10d4ca6e-9053-11e8-9ba8-88e9fe51b829",
         "x": [
          24
         ],
         "xaxis": "x2",
         "y": [
          0.4738562091503268
         ],
         "yaxis": "y2"
        },
        {
         "error_y": {
          "array": [
           0.03132473455665519
          ],
          "visible": true
         },
         "name": "25",
         "type": "bar",
         "uid": "10d757ac-9053-11e8-aa3b-88e9fe51b829",
         "x": [
          25
         ],
         "xaxis": "x2",
         "y": [
          0.4776695768972465
         ],
         "yaxis": "y2"
        },
        {
         "error_y": {
          "array": [
           0.03134719557576521
          ],
          "visible": true
         },
         "name": "26",
         "type": "bar",
         "uid": "10d9c122-9053-11e8-a1ce-88e9fe51b829",
         "x": [
          26
         ],
         "xaxis": "x2",
         "y": [
          0.512491404996562
         ],
         "yaxis": "y2"
        },
        {
         "error_y": {
          "array": [
           0.031348734988406624
          ],
          "visible": true
         },
         "name": "27",
         "type": "bar",
         "uid": "10dc2ec6-9053-11e8-b5f1-88e9fe51b829",
         "x": [
          27
         ],
         "xaxis": "x2",
         "y": [
          0.5119977678571429
         ],
         "yaxis": "y2"
        },
        {
         "error_y": {
          "array": [
           0.031255926166567805
          ],
          "visible": true
         },
         "name": "28",
         "type": "bar",
         "uid": "10df29d2-9053-11e8-971f-88e9fe51b829",
         "x": [
          28
         ],
         "xaxis": "x2",
         "y": [
          0.5404837013669821
         ],
         "yaxis": "y2"
        },
        {
         "error_y": {
          "array": [
           0.0311141807101466
          ],
          "visible": true
         },
         "name": "29",
         "type": "bar",
         "uid": "10e1e9ba-9053-11e8-afc2-88e9fe51b829",
         "x": [
          29
         ],
         "xaxis": "x2",
         "y": [
          0.5625278148642635
         ],
         "yaxis": "y2"
        },
        {
         "error_y": {
          "array": [
           0.03124202630834183
          ],
          "visible": true
         },
         "name": "30",
         "type": "bar",
         "uid": "10e4b08c-9053-11e8-b161-88e9fe51b829",
         "x": [
          30
         ],
         "xaxis": "x2",
         "y": [
          0.5439146800501882
         ],
         "yaxis": "y2"
        },
        {
         "error_y": {
          "array": [
           0.03122711691425406
          ],
          "visible": true
         },
         "name": "31",
         "type": "bar",
         "uid": "10e7d758-9053-11e8-b35e-88e9fe51b829",
         "x": [
          31
         ],
         "xaxis": "x2",
         "y": [
          0.5469613259668509
         ],
         "yaxis": "y2"
        },
        {
         "error_y": {
          "array": [
           0.031167586749591192
          ],
          "visible": true
         },
         "name": "32",
         "type": "bar",
         "uid": "10eaa94c-9053-11e8-870e-88e9fe51b829",
         "x": [
          32
         ],
         "xaxis": "x2",
         "y": [
          0.5567567567567567
         ],
         "yaxis": "y2"
        },
        {
         "error_y": {
          "array": [
           0.030770939132421016
          ],
          "visible": true
         },
         "name": "33",
         "type": "bar",
         "uid": "10edc64a-9053-11e8-a9e7-88e9fe51b829",
         "x": [
          33
         ],
         "xaxis": "x2",
         "y": [
          0.5978428351309707
         ],
         "yaxis": "y2"
        },
        {
         "error_y": {
          "array": [
           0.03067427978130355
          ],
          "visible": true
         },
         "name": "34",
         "type": "bar",
         "uid": "10f0bff8-9053-11e8-81a4-88e9fe51b829",
         "x": [
          34
         ],
         "xaxis": "x2",
         "y": [
          0.6056603773584905
         ],
         "yaxis": "y2"
        }
       ],
       "layout": {
        "annotations": [
         {
          "font": {
           "size": 16
          },
          "showarrow": false,
          "text": "Distribution Plot",
          "x": 0.225,
          "xanchor": "center",
          "xref": "paper",
          "y": 1,
          "yanchor": "bottom",
          "yref": "paper"
         },
         {
          "font": {
           "size": 16
          },
          "showarrow": false,
          "text": "Default Rate Distribution",
          "x": 0.775,
          "xanchor": "center",
          "xref": "paper",
          "y": 1,
          "yanchor": "bottom",
          "yref": "paper"
         }
        ],
        "height": 500,
        "legend": {
         "orientation": "h",
         "xanchor": "auto",
         "y": -0.2
        },
        "margin": {
         "b": 50,
         "l": 50,
         "pad": 4,
         "r": 50,
         "t": 40
        },
        "width": 1000,
        "xaxis": {
         "anchor": "y",
         "domain": [
          0,
          0.47
         ],
         "title": "Loan Status"
        },
        "xaxis2": {
         "anchor": "y2",
         "domain": [
          0.53,
          1
         ],
         "title": "Sub_grade"
        },
        "yaxis": {
         "anchor": "x",
         "domain": [
          0,
          1
         ],
         "title": "Probability Density"
        },
        "yaxis2": {
         "anchor": "x2",
         "domain": [
          0,
          1
         ],
         "title": "Default Rate"
        }
       }
      },
      "text/html": [
       "<div id=\"9401f13a-c2ac-4c37-a5a9-2bf5955307ff\" style=\"height: 500px; width: 1000px;\" class=\"plotly-graph-div\"></div><script type=\"text/javascript\">require([\"plotly\"], function(Plotly) { window.PLOTLYENV=window.PLOTLYENV || {};window.PLOTLYENV.BASE_URL=\"https://plot.ly\";\n",
       "        Plotly.plot(\n",
       "            '9401f13a-c2ac-4c37-a5a9-2bf5955307ff',\n",
       "            [{\"name\": \"0\", \"x\": [\"status 0\", \"status 1\"], \"y\": [0.03754516311453202, 0.005064143886730433], \"type\": \"bar\", \"uid\": \"103d75a6-9053-11e8-ab6b-88e9fe51b829\", \"xaxis\": \"x\", \"yaxis\": \"y\"}, {\"name\": \"1\", \"x\": [\"status 0\", \"status 1\"], \"y\": [0.031897387221770664, 0.006214029769267848], \"type\": \"bar\", \"uid\": \"103fb3ac-9053-11e8-9e24-88e9fe51b829\", \"xaxis\": \"x\", \"yaxis\": \"y\"}, {\"name\": \"2\", \"x\": [\"status 0\", \"status 1\"], \"y\": [0.03134097401404853, 0.007120000464600357], \"type\": \"bar\", \"uid\": \"10420b66-9053-11e8-895d-88e9fe51b829\", \"xaxis\": \"x\", \"yaxis\": \"y\"}, {\"name\": \"3\", \"x\": [\"status 0\", \"status 1\"], \"y\": [0.04558042443781355, 0.012747472283684978], \"type\": \"bar\", \"uid\": \"10444566-9053-11e8-8fbf-88e9fe51b829\", \"xaxis\": \"x\", \"yaxis\": \"y\"}, {\"name\": \"4\", \"x\": [\"status 0\", \"status 1\"], \"y\": [0.056545037648808714, 0.019658402587823986], \"type\": \"bar\", \"uid\": \"10467ec6-9053-11e8-a734-88e9fe51b829\", \"xaxis\": \"x\", \"yaxis\": \"y\"}, {\"name\": \"5\", \"x\": [\"status 0\", \"status 1\"], \"y\": [0.05609590672623561, 0.025680784710002263], \"type\": \"bar\", \"uid\": \"1048b466-9053-11e8-8009-88e9fe51b829\", \"xaxis\": \"x\", \"yaxis\": \"y\"}, {\"name\": \"6\", \"x\": [\"status 0\", \"status 1\"], \"y\": [0.05786879194691891, 0.02934532002253312], \"type\": \"bar\", \"uid\": \"104ae434-9053-11e8-aaf0-88e9fe51b829\", \"xaxis\": \"x\", \"yaxis\": \"y\"}, {\"name\": \"7\", \"x\": [\"status 0\", \"status 1\"], \"y\": [0.06252920714754587, 0.03687184579914165], \"type\": \"bar\", \"uid\": \"104d16c8-9053-11e8-9709-88e9fe51b829\", \"xaxis\": \"x\", \"yaxis\": \"y\"}, {\"name\": \"8\", \"x\": [\"status 0\", \"status 1\"], \"y\": [0.06396933544988553, 0.04368404852750724], \"type\": \"bar\", \"uid\": \"104f53f4-9053-11e8-86d7-88e9fe51b829\", \"xaxis\": \"x\", \"yaxis\": \"y\"}, {\"name\": \"9\", \"x\": [\"status 0\", \"status 1\"], \"y\": [0.06432573083783828, 0.05069951391187693], \"type\": \"bar\", \"uid\": \"1051ab7a-9053-11e8-a468-88e9fe51b829\", \"xaxis\": \"x\", \"yaxis\": \"y\"}, {\"name\": \"10\", \"x\": [\"status 0\", \"status 1\"], \"y\": [0.06420753848979273, 0.05906812783478811], \"type\": \"bar\", \"uid\": \"1053e8d8-9053-11e8-8f4d-88e9fe51b829\", \"xaxis\": \"x\", \"yaxis\": \"y\"}, {\"name\": \"11\", \"x\": [\"status 0\", \"status 1\"], \"y\": [0.05970713754498128, 0.06169892735392674], \"type\": \"bar\", \"uid\": \"10561f3e-9053-11e8-9167-88e9fe51b829\", \"xaxis\": \"x\", \"yaxis\": \"y\"}, {\"name\": \"12\", \"x\": [\"status 0\", \"status 1\"], \"y\": [0.056017717942143934, 0.062029955107990545], \"type\": \"bar\", \"uid\": \"10585038-9053-11e8-8a16-88e9fe51b829\", \"xaxis\": \"x\", \"yaxis\": \"y\"}, {\"name\": \"13\", \"x\": [\"status 0\", \"status 1\"], \"y\": [0.052855618045971366, 0.0681278347881132], \"type\": \"bar\", \"uid\": \"105a839e-9053-11e8-b274-88e9fe51b829\", \"xaxis\": \"x\", \"yaxis\": \"y\"}, {\"name\": \"14\", \"x\": [\"status 0\", \"status 1\"], \"y\": [0.04574043869362907, 0.06133305457311938], \"type\": \"bar\", \"uid\": \"105cb918-9053-11e8-a7ce-88e9fe51b829\", \"xaxis\": \"x\", \"yaxis\": \"y\"}, {\"name\": \"15\", \"x\": [\"status 0\", \"status 1\"], \"y\": [0.03652689057752418, 0.054817034572074035], \"type\": \"bar\", \"uid\": \"105eec22-9053-11e8-8b00-88e9fe51b829\", \"xaxis\": \"x\", \"yaxis\": \"y\"}, {\"name\": \"16\", \"x\": [\"status 0\", \"status 1\"], \"y\": [0.029840840365778044, 0.04994453833243317], \"type\": \"bar\", \"uid\": \"1061468c-9053-11e8-a0c0-88e9fe51b829\", \"xaxis\": \"x\", \"yaxis\": \"y\"}, {\"name\": \"17\", \"x\": [\"status 0\", \"status 1\"], \"y\": [0.02544954004993172, 0.0438060061211097], \"type\": \"bar\", \"uid\": \"10637e18-9053-11e8-9f19-88e9fe51b829\", \"xaxis\": \"x\", \"yaxis\": \"y\"}, {\"name\": \"18\", \"x\": [\"status 0\", \"status 1\"], \"y\": [0.0233675363805139, 0.04487458694124548], \"type\": \"bar\", \"uid\": \"1065da14-9053-11e8-bcc2-88e9fe51b829\", \"xaxis\": \"x\", \"yaxis\": \"y\"}, {\"name\": \"19\", \"x\": [\"status 0\", \"status 1\"], \"y\": [0.01920352904167826, 0.03828887688671301], \"type\": \"bar\", \"uid\": \"1068364c-9053-11e8-b5b3-88e9fe51b829\", \"xaxis\": \"x\", \"yaxis\": \"y\"}, {\"name\": \"20\", \"x\": [\"status 0\", \"status 1\"], \"y\": [0.016748764889962926, 0.03692992084371425], \"type\": \"bar\", \"uid\": \"106a8ecc-9053-11e8-9e9a-88e9fe51b829\", \"xaxis\": \"x\", \"yaxis\": \"y\"}, {\"name\": \"21\", \"x\": [\"status 0\", \"status 1\"], \"y\": [0.013492111115353913, 0.0324871799339106], \"type\": \"bar\", \"uid\": \"106d30d4-9053-11e8-9af6-88e9fe51b829\", \"xaxis\": \"x\", \"yaxis\": \"y\"}, {\"name\": \"22\", \"x\": [\"status 0\", \"status 1\"], \"y\": [0.011555574951222928, 0.029699577794425957], \"type\": \"bar\", \"uid\": \"106fa046-9053-11e8-b781-88e9fe51b829\", \"xaxis\": \"x\", \"yaxis\": \"y\"}, {\"name\": \"23\", \"x\": [\"status 0\", \"status 1\"], \"y\": [0.009135359332013216, 0.025285874406908607], \"type\": \"bar\", \"uid\": \"107229e8-9053-11e8-af3f-88e9fe51b829\", \"xaxis\": \"x\", \"yaxis\": \"y\"}, {\"name\": \"24\", \"x\": [\"status 0\", \"status 1\"], \"y\": [0.007611587214133623, 0.02189429180386896], \"type\": \"bar\", \"uid\": \"1074a36e-9053-11e8-909c-88e9fe51b829\", \"xaxis\": \"x\", \"yaxis\": \"y\"}, {\"name\": \"25\", \"x\": [\"status 0\", \"status 1\"], \"y\": [0.005656867611841782, 0.016522350180903762], \"type\": \"bar\", \"uid\": \"10770f8c-9053-11e8-afc7-88e9fe51b829\", \"xaxis\": \"x\", \"yaxis\": \"y\"}, {\"name\": \"26\", \"x\": [\"status 0\", \"status 1\"], \"y\": [0.0038676172968137162, 0.012985579966432624], \"type\": \"bar\", \"uid\": \"10799868-9053-11e8-8e2e-88e9fe51b829\", \"xaxis\": \"x\", \"yaxis\": \"y\"}, {\"name\": \"27\", \"x\": [\"status 0\", \"status 1\"], \"y\": [0.0031802833343334224, 0.010656770679071496], \"type\": \"bar\", \"uid\": \"107c69f0-9053-11e8-b3ea-88e9fe51b829\", \"xaxis\": \"x\", \"yaxis\": \"y\"}, {\"name\": \"28\", \"x\": [\"status 0\", \"status 1\"], \"y\": [0.002383848742888003, 0.008955171873094412], \"type\": \"bar\", \"uid\": \"107ee874-9053-11e8-8cab-88e9fe51b829\", \"xaxis\": \"x\", \"yaxis\": \"y\"}, {\"name\": \"29\", \"x\": [\"status 0\", \"status 1\"], \"y\": [0.0017874319712119808, 0.007340685633976224], \"type\": \"bar\", \"uid\": \"10817e18-9053-11e8-8677-88e9fe51b829\", \"xaxis\": \"x\", \"yaxis\": \"y\"}, {\"name\": \"30\", \"x\": [\"status 0\", \"status 1\"], \"y\": [0.0013219359542941099, 0.005035106364444135], \"type\": \"bar\", \"uid\": \"108409a8-9053-11e8-bcc4-88e9fe51b829\", \"xaxis\": \"x\", \"yaxis\": \"y\"}, {\"name\": \"31\", \"x\": [\"status 0\", \"status 1\"], \"y\": [0.0010437293504330387, 0.004024600588880952], \"type\": \"bar\", \"uid\": \"10867cec-9053-11e8-8657-88e9fe51b829\", \"xaxis\": \"x\", \"yaxis\": \"y\"}, {\"name\": \"32\", \"x\": [\"status 0\", \"status 1\"], \"y\": [0.0007455209645950276, 0.0029908647954887306], \"type\": \"bar\", \"uid\": \"1088e2ac-9053-11e8-8456-88e9fe51b829\", \"xaxis\": \"x\", \"yaxis\": \"y\"}, {\"name\": \"33\", \"x\": [\"status 0\", \"status 1\"], \"y\": [0.000474587735998298, 0.0022533117294167523], \"type\": \"bar\", \"uid\": \"108b4eb6-9053-11e8-87ad-88e9fe51b829\", \"xaxis\": \"x\", \"yaxis\": \"y\"}, {\"name\": \"34\", \"x\": [\"status 0\", \"status 1\"], \"y\": [0.0003800338575618555, 0.0018642089307803543], \"type\": \"bar\", \"uid\": \"108dbdae-9053-11e8-994d-88e9fe51b829\", \"xaxis\": \"x\", \"yaxis\": \"y\"}, {\"error_y\": {\"array\": [0.012364585100736902], \"visible\": true}, \"name\": \"0\", \"x\": [0], \"xaxis\": \"x2\", \"y\": [0.040520446096654276], \"type\": \"bar\", \"uid\": \"109422ac-9053-11e8-b901-88e9fe51b829\", \"yaxis\": \"y2\"}, {\"error_y\": {\"array\": [0.014597031718512524], \"visible\": true}, \"name\": \"1\", \"x\": [1], \"xaxis\": \"x2\", \"y\": [0.05748979153234472], \"type\": \"bar\", \"uid\": \"1096a1ba-9053-11e8-a652-88e9fe51b829\", \"yaxis\": \"y2\"}, {\"error_y\": {\"array\": [0.015613885108263198], \"visible\": true}, \"name\": \"2\", \"x\": [2], \"xaxis\": \"x2\", \"y\": [0.06640667316650417], \"type\": \"bar\", \"uid\": \"10993f62-9053-11e8-ae0a-88e9fe51b829\", \"yaxis\": \"y2\"}, {\"error_y\": {\"array\": [0.01706212741116439], \"visible\": true}, \"name\": \"3\", \"x\": [3], \"xaxis\": \"x2\", \"y\": [0.08051500256767662], \"type\": \"bar\", \"uid\": \"109bc110-9053-11e8-883e-88e9fe51b829\", \"yaxis\": \"y2\"}, {\"error_y\": {\"array\": [0.018658078646209192], \"visible\": true}, \"name\": \"4\", \"x\": [4], \"xaxis\": \"x2\", \"y\": [0.09816715967751291], \"type\": \"bar\", \"uid\": \"109e4ab6-9053-11e8-b323-88e9fe51b829\", \"yaxis\": \"y2\"}, {\"error_y\": {\"array\": [0.02076478840510479], \"visible\": true}, \"name\": \"5\", \"x\": [5], \"xaxis\": \"x2\", \"y\": [0.12536856430029486], \"type\": \"bar\", \"uid\": \"10a0b0da-9053-11e8-83a0-88e9fe51b829\", \"yaxis\": \"y2\"}, {\"error_y\": {\"array\": [0.021563133400601966], \"visible\": true}, \"name\": \"6\", \"x\": [6], \"xaxis\": \"x2\", \"y\": [0.13701936113672109], \"type\": \"bar\", \"uid\": \"10a3083a-9053-11e8-8dc2-88e9fe51b829\", \"yaxis\": \"y2\"}, {\"error_y\": {\"array\": [0.022745050012044216], \"visible\": true}, \"name\": \"7\", \"x\": [7], \"xaxis\": \"x2\", \"y\": [0.15585340108500872], \"type\": \"bar\", \"uid\": \"10a55428-9053-11e8-a084-88e9fe51b829\", \"yaxis\": \"y2\"}, {\"error_y\": {\"array\": [0.023888338100993944], \"visible\": true}, \"name\": \"8\", \"x\": [8], \"xaxis\": \"x2\", \"y\": [0.17615099995316377], \"type\": \"bar\", \"uid\": \"10a79f30-9053-11e8-ba21-88e9fe51b829\", \"yaxis\": \"y2\"}, {\"error_y\": {\"array\": [0.024985222467075935], \"visible\": true}, \"name\": \"9\", \"x\": [9], \"xaxis\": \"x2\", \"y\": [0.1979322541150864], \"type\": \"bar\", \"uid\": \"10a9ea88-9053-11e8-b16f-88e9fe51b829\", \"yaxis\": \"y2\"}, {\"error_y\": {\"array\": [0.026128624174373755], \"visible\": true}, \"name\": \"10\", \"x\": [10], \"xaxis\": \"x2\", \"y\": [0.22362692933468184], \"type\": \"bar\", \"uid\": \"10ac4ca6-9053-11e8-accd-88e9fe51b829\", \"yaxis\": \"y2\"}, {\"error_y\": {\"array\": [0.026949388494060422], \"visible\": true}, \"name\": \"11\", \"x\": [11], \"xaxis\": \"x2\", \"y\": [0.24445467096180395], \"type\": \"bar\", \"uid\": \"10ae94de-9053-11e8-b92d-88e9fe51b829\", \"yaxis\": \"y2\"}, {\"error_y\": {\"array\": [0.027417501914681036], \"visible\": true}, \"name\": \"12\", \"x\": [12], \"xaxis\": \"x2\", \"y\": [0.257447936752796], \"type\": \"bar\", \"uid\": \"10b0d99c-9053-11e8-a0ea-88e9fe51b829\", \"yaxis\": \"y2\"}, {\"error_y\": {\"array\": [0.028382156023020577], \"visible\": true}, \"name\": \"13\", \"x\": [13], \"xaxis\": \"x2\", \"y\": [0.2875315571460085], \"type\": \"bar\", \"uid\": \"10b31a7a-9053-11e8-92f1-88e9fe51b829\", \"yaxis\": \"y2\"}, {\"error_y\": {\"array\": [0.028616889978026305], \"visible\": true}, \"name\": \"14\", \"x\": [14], \"xaxis\": \"x2\", \"y\": [0.2956938066972785], \"type\": \"bar\", \"uid\": \"10b55bb6-9053-11e8-872b-88e9fe51b829\", \"yaxis\": \"y2\"}, {\"error_y\": {\"array\": [0.029243803644144084], \"visible\": true}, \"name\": \"15\", \"x\": [15], \"xaxis\": \"x2\", \"y\": [0.3196735191519626], \"type\": \"bar\", \"uid\": \"10b7a150-9053-11e8-b88c-88e9fe51b829\", \"yaxis\": \"y2\"}, {\"error_y\": {\"array\": [0.02978577197372656], \"visible\": true}, \"name\": \"16\", \"x\": [16], \"xaxis\": \"x2\", \"y\": [0.3438487065691096], \"type\": \"bar\", \"uid\": \"10b9e386-9053-11e8-86a6-88e9fe51b829\", \"yaxis\": \"y2\"}, {\"error_y\": {\"array\": [0.029913901022647904], \"visible\": true}, \"name\": \"17\", \"x\": [17], \"xaxis\": \"x2\", \"y\": [0.35020195923673336], \"type\": \"bar\", \"uid\": \"10bc44c6-9053-11e8-b418-88e9fe51b829\", \"yaxis\": \"y2\"}, {\"error_y\": {\"array\": [0.0303665737732019], \"visible\": true}, \"name\": \"18\", \"x\": [18], \"xaxis\": \"x2\", \"y\": [0.37549810477208667], \"type\": \"bar\", \"uid\": \"10be93ac-9053-11e8-afe6-88e9fe51b829\", \"yaxis\": \"y2\"}, {\"error_y\": {\"array\": [0.030503930202613883], \"visible\": true}, \"name\": \"19\", \"x\": [19], \"xaxis\": \"x2\", \"y\": [0.3843418444677626], \"type\": \"bar\", \"uid\": \"10c0dc18-9053-11e8-b01a-88e9fe51b829\", \"yaxis\": \"y2\"}, {\"error_y\": {\"array\": [0.03082390262742002], \"visible\": true}, \"name\": \"20\", \"x\": [20], \"xaxis\": \"x2\", \"y\": [0.4084136159280668], \"type\": \"bar\", \"uid\": \"10c33b8c-9053-11e8-a203-88e9fe51b829\", \"yaxis\": \"y2\"}, {\"error_y\": {\"array\": [0.031044420230508296], \"visible\": true}, \"name\": \"21\", \"x\": [21], \"xaxis\": \"x2\", \"y\": [0.42984478254187797], \"type\": \"bar\", \"uid\": \"10c5898c-9053-11e8-8b18-88e9fe51b829\", \"yaxis\": \"y2\"}, {\"error_y\": {\"array\": [0.031170660631407276], \"visible\": true}, \"name\": \"22\", \"x\": [22], \"xaxis\": \"x2\", \"y\": [0.4458976371087279], \"type\": \"bar\", \"uid\": \"10c7d6c6-9053-11e8-b253-88e9fe51b829\", \"yaxis\": \"y2\"}, {\"error_y\": {\"array\": [0.0312749368573324], \"visible\": true}, \"name\": \"23\", \"x\": [23], \"xaxis\": \"x2\", \"y\": [0.46427809767541056], \"type\": \"bar\", \"uid\": \"10ca1d9e-9053-11e8-81d5-88e9fe51b829\", \"yaxis\": \"y2\"}, {\"error_y\": {\"array\": [0.031312467606298966], \"visible\": true}, \"name\": \"24\", \"x\": [24], \"xaxis\": \"x2\", \"y\": [0.4738562091503268], \"type\": \"bar\", \"uid\": \"10d4ca6e-9053-11e8-9ba8-88e9fe51b829\", \"yaxis\": \"y2\"}, {\"error_y\": {\"array\": [0.03132473455665519], \"visible\": true}, \"name\": \"25\", \"x\": [25], \"xaxis\": \"x2\", \"y\": [0.4776695768972465], \"type\": \"bar\", \"uid\": \"10d757ac-9053-11e8-aa3b-88e9fe51b829\", \"yaxis\": \"y2\"}, {\"error_y\": {\"array\": [0.03134719557576521], \"visible\": true}, \"name\": \"26\", \"x\": [26], \"xaxis\": \"x2\", \"y\": [0.512491404996562], \"type\": \"bar\", \"uid\": \"10d9c122-9053-11e8-a1ce-88e9fe51b829\", \"yaxis\": \"y2\"}, {\"error_y\": {\"array\": [0.031348734988406624], \"visible\": true}, \"name\": \"27\", \"x\": [27], \"xaxis\": \"x2\", \"y\": [0.5119977678571429], \"type\": \"bar\", \"uid\": \"10dc2ec6-9053-11e8-b5f1-88e9fe51b829\", \"yaxis\": \"y2\"}, {\"error_y\": {\"array\": [0.031255926166567805], \"visible\": true}, \"name\": \"28\", \"x\": [28], \"xaxis\": \"x2\", \"y\": [0.5404837013669821], \"type\": \"bar\", \"uid\": \"10df29d2-9053-11e8-971f-88e9fe51b829\", \"yaxis\": \"y2\"}, {\"error_y\": {\"array\": [0.0311141807101466], \"visible\": true}, \"name\": \"29\", \"x\": [29], \"xaxis\": \"x2\", \"y\": [0.5625278148642635], \"type\": \"bar\", \"uid\": \"10e1e9ba-9053-11e8-afc2-88e9fe51b829\", \"yaxis\": \"y2\"}, {\"error_y\": {\"array\": [0.03124202630834183], \"visible\": true}, \"name\": \"30\", \"x\": [30], \"xaxis\": \"x2\", \"y\": [0.5439146800501882], \"type\": \"bar\", \"uid\": \"10e4b08c-9053-11e8-b161-88e9fe51b829\", \"yaxis\": \"y2\"}, {\"error_y\": {\"array\": [0.03122711691425406], \"visible\": true}, \"name\": \"31\", \"x\": [31], \"xaxis\": \"x2\", \"y\": [0.5469613259668509], \"type\": \"bar\", \"uid\": \"10e7d758-9053-11e8-b35e-88e9fe51b829\", \"yaxis\": \"y2\"}, {\"error_y\": {\"array\": [0.031167586749591192], \"visible\": true}, \"name\": \"32\", \"x\": [32], \"xaxis\": \"x2\", \"y\": [0.5567567567567567], \"type\": \"bar\", \"uid\": \"10eaa94c-9053-11e8-870e-88e9fe51b829\", \"yaxis\": \"y2\"}, {\"error_y\": {\"array\": [0.030770939132421016], \"visible\": true}, \"name\": \"33\", \"x\": [33], \"xaxis\": \"x2\", \"y\": [0.5978428351309707], \"type\": \"bar\", \"uid\": \"10edc64a-9053-11e8-a9e7-88e9fe51b829\", \"yaxis\": \"y2\"}, {\"error_y\": {\"array\": [0.03067427978130355], \"visible\": true}, \"name\": \"34\", \"x\": [34], \"xaxis\": \"x2\", \"y\": [0.6056603773584905], \"type\": \"bar\", \"uid\": \"10f0bff8-9053-11e8-81a4-88e9fe51b829\", \"yaxis\": \"y2\"}],\n",
       "            {\"annotations\": [{\"font\": {\"size\": 16}, \"showarrow\": false, \"text\": \"Distribution Plot\", \"x\": 0.225, \"xanchor\": \"center\", \"xref\": \"paper\", \"y\": 1.0, \"yanchor\": \"bottom\", \"yref\": \"paper\"}, {\"font\": {\"size\": 16}, \"showarrow\": false, \"text\": \"Default Rate Distribution\", \"x\": 0.775, \"xanchor\": \"center\", \"xref\": \"paper\", \"y\": 1.0, \"yanchor\": \"bottom\", \"yref\": \"paper\"}], \"xaxis\": {\"anchor\": \"y\", \"domain\": [0, 0.47], \"title\": \"Loan Status\"}, \"yaxis\": {\"anchor\": \"x\", \"domain\": [0.0, 1.0], \"title\": \"Probability Density\"}, \"xaxis2\": {\"anchor\": \"y2\", \"domain\": [0.53, 1], \"title\": \"Sub_grade\"}, \"yaxis2\": {\"anchor\": \"x2\", \"domain\": [0.0, 1.0], \"title\": \"Default Rate\"}, \"margin\": {\"b\": 50, \"l\": 50, \"pad\": 4, \"r\": 50, \"t\": 40}, \"legend\": {\"orientation\": \"h\", \"xanchor\": \"auto\", \"y\": -0.2}, \"width\": 1000, \"height\": 500},\n",
       "            {\"showLink\": true, \"linkText\": \"Export to plot.ly\"}\n",
       "        ).then(function () {return Plotly.addFrames('9401f13a-c2ac-4c37-a5a9-2bf5955307ff',{});}).then(function(){Plotly.animate('9401f13a-c2ac-4c37-a5a9-2bf5955307ff');})\n",
       "        });</script>"
      ],
      "text/vnd.plotly.v1+html": [
       "<div id=\"9401f13a-c2ac-4c37-a5a9-2bf5955307ff\" style=\"height: 500px; width: 1000px;\" class=\"plotly-graph-div\"></div><script type=\"text/javascript\">require([\"plotly\"], function(Plotly) { window.PLOTLYENV=window.PLOTLYENV || {};window.PLOTLYENV.BASE_URL=\"https://plot.ly\";\n",
       "        Plotly.plot(\n",
       "            '9401f13a-c2ac-4c37-a5a9-2bf5955307ff',\n",
       "            [{\"name\": \"0\", \"x\": [\"status 0\", \"status 1\"], \"y\": [0.03754516311453202, 0.005064143886730433], \"type\": \"bar\", \"uid\": \"103d75a6-9053-11e8-ab6b-88e9fe51b829\", \"xaxis\": \"x\", \"yaxis\": \"y\"}, {\"name\": \"1\", \"x\": [\"status 0\", \"status 1\"], \"y\": [0.031897387221770664, 0.006214029769267848], \"type\": \"bar\", \"uid\": \"103fb3ac-9053-11e8-9e24-88e9fe51b829\", \"xaxis\": \"x\", \"yaxis\": \"y\"}, {\"name\": \"2\", \"x\": [\"status 0\", \"status 1\"], \"y\": [0.03134097401404853, 0.007120000464600357], \"type\": \"bar\", \"uid\": \"10420b66-9053-11e8-895d-88e9fe51b829\", \"xaxis\": \"x\", \"yaxis\": \"y\"}, {\"name\": \"3\", \"x\": [\"status 0\", \"status 1\"], \"y\": [0.04558042443781355, 0.012747472283684978], \"type\": \"bar\", \"uid\": \"10444566-9053-11e8-8fbf-88e9fe51b829\", \"xaxis\": \"x\", \"yaxis\": \"y\"}, {\"name\": \"4\", \"x\": [\"status 0\", \"status 1\"], \"y\": [0.056545037648808714, 0.019658402587823986], \"type\": \"bar\", \"uid\": \"10467ec6-9053-11e8-a734-88e9fe51b829\", \"xaxis\": \"x\", \"yaxis\": \"y\"}, {\"name\": \"5\", \"x\": [\"status 0\", \"status 1\"], \"y\": [0.05609590672623561, 0.025680784710002263], \"type\": \"bar\", \"uid\": \"1048b466-9053-11e8-8009-88e9fe51b829\", \"xaxis\": \"x\", \"yaxis\": \"y\"}, {\"name\": \"6\", \"x\": [\"status 0\", \"status 1\"], \"y\": [0.05786879194691891, 0.02934532002253312], \"type\": \"bar\", \"uid\": \"104ae434-9053-11e8-aaf0-88e9fe51b829\", \"xaxis\": \"x\", \"yaxis\": \"y\"}, {\"name\": \"7\", \"x\": [\"status 0\", \"status 1\"], \"y\": [0.06252920714754587, 0.03687184579914165], \"type\": \"bar\", \"uid\": \"104d16c8-9053-11e8-9709-88e9fe51b829\", \"xaxis\": \"x\", \"yaxis\": \"y\"}, {\"name\": \"8\", \"x\": [\"status 0\", \"status 1\"], \"y\": [0.06396933544988553, 0.04368404852750724], \"type\": \"bar\", \"uid\": \"104f53f4-9053-11e8-86d7-88e9fe51b829\", \"xaxis\": \"x\", \"yaxis\": \"y\"}, {\"name\": \"9\", \"x\": [\"status 0\", \"status 1\"], \"y\": [0.06432573083783828, 0.05069951391187693], \"type\": \"bar\", \"uid\": \"1051ab7a-9053-11e8-a468-88e9fe51b829\", \"xaxis\": \"x\", \"yaxis\": \"y\"}, {\"name\": \"10\", \"x\": [\"status 0\", \"status 1\"], \"y\": [0.06420753848979273, 0.05906812783478811], \"type\": \"bar\", \"uid\": \"1053e8d8-9053-11e8-8f4d-88e9fe51b829\", \"xaxis\": \"x\", \"yaxis\": \"y\"}, {\"name\": \"11\", \"x\": [\"status 0\", \"status 1\"], \"y\": [0.05970713754498128, 0.06169892735392674], \"type\": \"bar\", \"uid\": \"10561f3e-9053-11e8-9167-88e9fe51b829\", \"xaxis\": \"x\", \"yaxis\": \"y\"}, {\"name\": \"12\", \"x\": [\"status 0\", \"status 1\"], \"y\": [0.056017717942143934, 0.062029955107990545], \"type\": \"bar\", \"uid\": \"10585038-9053-11e8-8a16-88e9fe51b829\", \"xaxis\": \"x\", \"yaxis\": \"y\"}, {\"name\": \"13\", \"x\": [\"status 0\", \"status 1\"], \"y\": [0.052855618045971366, 0.0681278347881132], \"type\": \"bar\", \"uid\": \"105a839e-9053-11e8-b274-88e9fe51b829\", \"xaxis\": \"x\", \"yaxis\": \"y\"}, {\"name\": \"14\", \"x\": [\"status 0\", \"status 1\"], \"y\": [0.04574043869362907, 0.06133305457311938], \"type\": \"bar\", \"uid\": \"105cb918-9053-11e8-a7ce-88e9fe51b829\", \"xaxis\": \"x\", \"yaxis\": \"y\"}, {\"name\": \"15\", \"x\": [\"status 0\", \"status 1\"], \"y\": [0.03652689057752418, 0.054817034572074035], \"type\": \"bar\", \"uid\": \"105eec22-9053-11e8-8b00-88e9fe51b829\", \"xaxis\": \"x\", \"yaxis\": \"y\"}, {\"name\": \"16\", \"x\": [\"status 0\", \"status 1\"], \"y\": [0.029840840365778044, 0.04994453833243317], \"type\": \"bar\", \"uid\": \"1061468c-9053-11e8-a0c0-88e9fe51b829\", \"xaxis\": \"x\", \"yaxis\": \"y\"}, {\"name\": \"17\", \"x\": [\"status 0\", \"status 1\"], \"y\": [0.02544954004993172, 0.0438060061211097], \"type\": \"bar\", \"uid\": \"10637e18-9053-11e8-9f19-88e9fe51b829\", \"xaxis\": \"x\", \"yaxis\": \"y\"}, {\"name\": \"18\", \"x\": [\"status 0\", \"status 1\"], \"y\": [0.0233675363805139, 0.04487458694124548], \"type\": \"bar\", \"uid\": \"1065da14-9053-11e8-bcc2-88e9fe51b829\", \"xaxis\": \"x\", \"yaxis\": \"y\"}, {\"name\": \"19\", \"x\": [\"status 0\", \"status 1\"], \"y\": [0.01920352904167826, 0.03828887688671301], \"type\": \"bar\", \"uid\": \"1068364c-9053-11e8-b5b3-88e9fe51b829\", \"xaxis\": \"x\", \"yaxis\": \"y\"}, {\"name\": \"20\", \"x\": [\"status 0\", \"status 1\"], \"y\": [0.016748764889962926, 0.03692992084371425], \"type\": \"bar\", \"uid\": \"106a8ecc-9053-11e8-9e9a-88e9fe51b829\", \"xaxis\": \"x\", \"yaxis\": \"y\"}, {\"name\": \"21\", \"x\": [\"status 0\", \"status 1\"], \"y\": [0.013492111115353913, 0.0324871799339106], \"type\": \"bar\", \"uid\": \"106d30d4-9053-11e8-9af6-88e9fe51b829\", \"xaxis\": \"x\", \"yaxis\": \"y\"}, {\"name\": \"22\", \"x\": [\"status 0\", \"status 1\"], \"y\": [0.011555574951222928, 0.029699577794425957], \"type\": \"bar\", \"uid\": \"106fa046-9053-11e8-b781-88e9fe51b829\", \"xaxis\": \"x\", \"yaxis\": \"y\"}, {\"name\": \"23\", \"x\": [\"status 0\", \"status 1\"], \"y\": [0.009135359332013216, 0.025285874406908607], \"type\": \"bar\", \"uid\": \"107229e8-9053-11e8-af3f-88e9fe51b829\", \"xaxis\": \"x\", \"yaxis\": \"y\"}, {\"name\": \"24\", \"x\": [\"status 0\", \"status 1\"], \"y\": [0.007611587214133623, 0.02189429180386896], \"type\": \"bar\", \"uid\": \"1074a36e-9053-11e8-909c-88e9fe51b829\", \"xaxis\": \"x\", \"yaxis\": \"y\"}, {\"name\": \"25\", \"x\": [\"status 0\", \"status 1\"], \"y\": [0.005656867611841782, 0.016522350180903762], \"type\": \"bar\", \"uid\": \"10770f8c-9053-11e8-afc7-88e9fe51b829\", \"xaxis\": \"x\", \"yaxis\": \"y\"}, {\"name\": \"26\", \"x\": [\"status 0\", \"status 1\"], \"y\": [0.0038676172968137162, 0.012985579966432624], \"type\": \"bar\", \"uid\": \"10799868-9053-11e8-8e2e-88e9fe51b829\", \"xaxis\": \"x\", \"yaxis\": \"y\"}, {\"name\": \"27\", \"x\": [\"status 0\", \"status 1\"], \"y\": [0.0031802833343334224, 0.010656770679071496], \"type\": \"bar\", \"uid\": \"107c69f0-9053-11e8-b3ea-88e9fe51b829\", \"xaxis\": \"x\", \"yaxis\": \"y\"}, {\"name\": \"28\", \"x\": [\"status 0\", \"status 1\"], \"y\": [0.002383848742888003, 0.008955171873094412], \"type\": \"bar\", \"uid\": \"107ee874-9053-11e8-8cab-88e9fe51b829\", \"xaxis\": \"x\", \"yaxis\": \"y\"}, {\"name\": \"29\", \"x\": [\"status 0\", \"status 1\"], \"y\": [0.0017874319712119808, 0.007340685633976224], \"type\": \"bar\", \"uid\": \"10817e18-9053-11e8-8677-88e9fe51b829\", \"xaxis\": \"x\", \"yaxis\": \"y\"}, {\"name\": \"30\", \"x\": [\"status 0\", \"status 1\"], \"y\": [0.0013219359542941099, 0.005035106364444135], \"type\": \"bar\", \"uid\": \"108409a8-9053-11e8-bcc4-88e9fe51b829\", \"xaxis\": \"x\", \"yaxis\": \"y\"}, {\"name\": \"31\", \"x\": [\"status 0\", \"status 1\"], \"y\": [0.0010437293504330387, 0.004024600588880952], \"type\": \"bar\", \"uid\": \"10867cec-9053-11e8-8657-88e9fe51b829\", \"xaxis\": \"x\", \"yaxis\": \"y\"}, {\"name\": \"32\", \"x\": [\"status 0\", \"status 1\"], \"y\": [0.0007455209645950276, 0.0029908647954887306], \"type\": \"bar\", \"uid\": \"1088e2ac-9053-11e8-8456-88e9fe51b829\", \"xaxis\": \"x\", \"yaxis\": \"y\"}, {\"name\": \"33\", \"x\": [\"status 0\", \"status 1\"], \"y\": [0.000474587735998298, 0.0022533117294167523], \"type\": \"bar\", \"uid\": \"108b4eb6-9053-11e8-87ad-88e9fe51b829\", \"xaxis\": \"x\", \"yaxis\": \"y\"}, {\"name\": \"34\", \"x\": [\"status 0\", \"status 1\"], \"y\": [0.0003800338575618555, 0.0018642089307803543], \"type\": \"bar\", \"uid\": \"108dbdae-9053-11e8-994d-88e9fe51b829\", \"xaxis\": \"x\", \"yaxis\": \"y\"}, {\"error_y\": {\"array\": [0.012364585100736902], \"visible\": true}, \"name\": \"0\", \"x\": [0], \"xaxis\": \"x2\", \"y\": [0.040520446096654276], \"type\": \"bar\", \"uid\": \"109422ac-9053-11e8-b901-88e9fe51b829\", \"yaxis\": \"y2\"}, {\"error_y\": {\"array\": [0.014597031718512524], \"visible\": true}, \"name\": \"1\", \"x\": [1], \"xaxis\": \"x2\", \"y\": [0.05748979153234472], \"type\": \"bar\", \"uid\": \"1096a1ba-9053-11e8-a652-88e9fe51b829\", \"yaxis\": \"y2\"}, {\"error_y\": {\"array\": [0.015613885108263198], \"visible\": true}, \"name\": \"2\", \"x\": [2], \"xaxis\": \"x2\", \"y\": [0.06640667316650417], \"type\": \"bar\", \"uid\": \"10993f62-9053-11e8-ae0a-88e9fe51b829\", \"yaxis\": \"y2\"}, {\"error_y\": {\"array\": [0.01706212741116439], \"visible\": true}, \"name\": \"3\", \"x\": [3], \"xaxis\": \"x2\", \"y\": [0.08051500256767662], \"type\": \"bar\", \"uid\": \"109bc110-9053-11e8-883e-88e9fe51b829\", \"yaxis\": \"y2\"}, {\"error_y\": {\"array\": [0.018658078646209192], \"visible\": true}, \"name\": \"4\", \"x\": [4], \"xaxis\": \"x2\", \"y\": [0.09816715967751291], \"type\": \"bar\", \"uid\": \"109e4ab6-9053-11e8-b323-88e9fe51b829\", \"yaxis\": \"y2\"}, {\"error_y\": {\"array\": [0.02076478840510479], \"visible\": true}, \"name\": \"5\", \"x\": [5], \"xaxis\": \"x2\", \"y\": [0.12536856430029486], \"type\": \"bar\", \"uid\": \"10a0b0da-9053-11e8-83a0-88e9fe51b829\", \"yaxis\": \"y2\"}, {\"error_y\": {\"array\": [0.021563133400601966], \"visible\": true}, \"name\": \"6\", \"x\": [6], \"xaxis\": \"x2\", \"y\": [0.13701936113672109], \"type\": \"bar\", \"uid\": \"10a3083a-9053-11e8-8dc2-88e9fe51b829\", \"yaxis\": \"y2\"}, {\"error_y\": {\"array\": [0.022745050012044216], \"visible\": true}, \"name\": \"7\", \"x\": [7], \"xaxis\": \"x2\", \"y\": [0.15585340108500872], \"type\": \"bar\", \"uid\": \"10a55428-9053-11e8-a084-88e9fe51b829\", \"yaxis\": \"y2\"}, {\"error_y\": {\"array\": [0.023888338100993944], \"visible\": true}, \"name\": \"8\", \"x\": [8], \"xaxis\": \"x2\", \"y\": [0.17615099995316377], \"type\": \"bar\", \"uid\": \"10a79f30-9053-11e8-ba21-88e9fe51b829\", \"yaxis\": \"y2\"}, {\"error_y\": {\"array\": [0.024985222467075935], \"visible\": true}, \"name\": \"9\", \"x\": [9], \"xaxis\": \"x2\", \"y\": [0.1979322541150864], \"type\": \"bar\", \"uid\": \"10a9ea88-9053-11e8-b16f-88e9fe51b829\", \"yaxis\": \"y2\"}, {\"error_y\": {\"array\": [0.026128624174373755], \"visible\": true}, \"name\": \"10\", \"x\": [10], \"xaxis\": \"x2\", \"y\": [0.22362692933468184], \"type\": \"bar\", \"uid\": \"10ac4ca6-9053-11e8-accd-88e9fe51b829\", \"yaxis\": \"y2\"}, {\"error_y\": {\"array\": [0.026949388494060422], \"visible\": true}, \"name\": \"11\", \"x\": [11], \"xaxis\": \"x2\", \"y\": [0.24445467096180395], \"type\": \"bar\", \"uid\": \"10ae94de-9053-11e8-b92d-88e9fe51b829\", \"yaxis\": \"y2\"}, {\"error_y\": {\"array\": [0.027417501914681036], \"visible\": true}, \"name\": \"12\", \"x\": [12], \"xaxis\": \"x2\", \"y\": [0.257447936752796], \"type\": \"bar\", \"uid\": \"10b0d99c-9053-11e8-a0ea-88e9fe51b829\", \"yaxis\": \"y2\"}, {\"error_y\": {\"array\": [0.028382156023020577], \"visible\": true}, \"name\": \"13\", \"x\": [13], \"xaxis\": \"x2\", \"y\": [0.2875315571460085], \"type\": \"bar\", \"uid\": \"10b31a7a-9053-11e8-92f1-88e9fe51b829\", \"yaxis\": \"y2\"}, {\"error_y\": {\"array\": [0.028616889978026305], \"visible\": true}, \"name\": \"14\", \"x\": [14], \"xaxis\": \"x2\", \"y\": [0.2956938066972785], \"type\": \"bar\", \"uid\": \"10b55bb6-9053-11e8-872b-88e9fe51b829\", \"yaxis\": \"y2\"}, {\"error_y\": {\"array\": [0.029243803644144084], \"visible\": true}, \"name\": \"15\", \"x\": [15], \"xaxis\": \"x2\", \"y\": [0.3196735191519626], \"type\": \"bar\", \"uid\": \"10b7a150-9053-11e8-b88c-88e9fe51b829\", \"yaxis\": \"y2\"}, {\"error_y\": {\"array\": [0.02978577197372656], \"visible\": true}, \"name\": \"16\", \"x\": [16], \"xaxis\": \"x2\", \"y\": [0.3438487065691096], \"type\": \"bar\", \"uid\": \"10b9e386-9053-11e8-86a6-88e9fe51b829\", \"yaxis\": \"y2\"}, {\"error_y\": {\"array\": [0.029913901022647904], \"visible\": true}, \"name\": \"17\", \"x\": [17], \"xaxis\": \"x2\", \"y\": [0.35020195923673336], \"type\": \"bar\", \"uid\": \"10bc44c6-9053-11e8-b418-88e9fe51b829\", \"yaxis\": \"y2\"}, {\"error_y\": {\"array\": [0.0303665737732019], \"visible\": true}, \"name\": \"18\", \"x\": [18], \"xaxis\": \"x2\", \"y\": [0.37549810477208667], \"type\": \"bar\", \"uid\": \"10be93ac-9053-11e8-afe6-88e9fe51b829\", \"yaxis\": \"y2\"}, {\"error_y\": {\"array\": [0.030503930202613883], \"visible\": true}, \"name\": \"19\", \"x\": [19], \"xaxis\": \"x2\", \"y\": [0.3843418444677626], \"type\": \"bar\", \"uid\": \"10c0dc18-9053-11e8-b01a-88e9fe51b829\", \"yaxis\": \"y2\"}, {\"error_y\": {\"array\": [0.03082390262742002], \"visible\": true}, \"name\": \"20\", \"x\": [20], \"xaxis\": \"x2\", \"y\": [0.4084136159280668], \"type\": \"bar\", \"uid\": \"10c33b8c-9053-11e8-a203-88e9fe51b829\", \"yaxis\": \"y2\"}, {\"error_y\": {\"array\": [0.031044420230508296], \"visible\": true}, \"name\": \"21\", \"x\": [21], \"xaxis\": \"x2\", \"y\": [0.42984478254187797], \"type\": \"bar\", \"uid\": \"10c5898c-9053-11e8-8b18-88e9fe51b829\", \"yaxis\": \"y2\"}, {\"error_y\": {\"array\": [0.031170660631407276], \"visible\": true}, \"name\": \"22\", \"x\": [22], \"xaxis\": \"x2\", \"y\": [0.4458976371087279], \"type\": \"bar\", \"uid\": \"10c7d6c6-9053-11e8-b253-88e9fe51b829\", \"yaxis\": \"y2\"}, {\"error_y\": {\"array\": [0.0312749368573324], \"visible\": true}, \"name\": \"23\", \"x\": [23], \"xaxis\": \"x2\", \"y\": [0.46427809767541056], \"type\": \"bar\", \"uid\": \"10ca1d9e-9053-11e8-81d5-88e9fe51b829\", \"yaxis\": \"y2\"}, {\"error_y\": {\"array\": [0.031312467606298966], \"visible\": true}, \"name\": \"24\", \"x\": [24], \"xaxis\": \"x2\", \"y\": [0.4738562091503268], \"type\": \"bar\", \"uid\": \"10d4ca6e-9053-11e8-9ba8-88e9fe51b829\", \"yaxis\": \"y2\"}, {\"error_y\": {\"array\": [0.03132473455665519], \"visible\": true}, \"name\": \"25\", \"x\": [25], \"xaxis\": \"x2\", \"y\": [0.4776695768972465], \"type\": \"bar\", \"uid\": \"10d757ac-9053-11e8-aa3b-88e9fe51b829\", \"yaxis\": \"y2\"}, {\"error_y\": {\"array\": [0.03134719557576521], \"visible\": true}, \"name\": \"26\", \"x\": [26], \"xaxis\": \"x2\", \"y\": [0.512491404996562], \"type\": \"bar\", \"uid\": \"10d9c122-9053-11e8-a1ce-88e9fe51b829\", \"yaxis\": \"y2\"}, {\"error_y\": {\"array\": [0.031348734988406624], \"visible\": true}, \"name\": \"27\", \"x\": [27], \"xaxis\": \"x2\", \"y\": [0.5119977678571429], \"type\": \"bar\", \"uid\": \"10dc2ec6-9053-11e8-b5f1-88e9fe51b829\", \"yaxis\": \"y2\"}, {\"error_y\": {\"array\": [0.031255926166567805], \"visible\": true}, \"name\": \"28\", \"x\": [28], \"xaxis\": \"x2\", \"y\": [0.5404837013669821], \"type\": \"bar\", \"uid\": \"10df29d2-9053-11e8-971f-88e9fe51b829\", \"yaxis\": \"y2\"}, {\"error_y\": {\"array\": [0.0311141807101466], \"visible\": true}, \"name\": \"29\", \"x\": [29], \"xaxis\": \"x2\", \"y\": [0.5625278148642635], \"type\": \"bar\", \"uid\": \"10e1e9ba-9053-11e8-afc2-88e9fe51b829\", \"yaxis\": \"y2\"}, {\"error_y\": {\"array\": [0.03124202630834183], \"visible\": true}, \"name\": \"30\", \"x\": [30], \"xaxis\": \"x2\", \"y\": [0.5439146800501882], \"type\": \"bar\", \"uid\": \"10e4b08c-9053-11e8-b161-88e9fe51b829\", \"yaxis\": \"y2\"}, {\"error_y\": {\"array\": [0.03122711691425406], \"visible\": true}, \"name\": \"31\", \"x\": [31], \"xaxis\": \"x2\", \"y\": [0.5469613259668509], \"type\": \"bar\", \"uid\": \"10e7d758-9053-11e8-b35e-88e9fe51b829\", \"yaxis\": \"y2\"}, {\"error_y\": {\"array\": [0.031167586749591192], \"visible\": true}, \"name\": \"32\", \"x\": [32], \"xaxis\": \"x2\", \"y\": [0.5567567567567567], \"type\": \"bar\", \"uid\": \"10eaa94c-9053-11e8-870e-88e9fe51b829\", \"yaxis\": \"y2\"}, {\"error_y\": {\"array\": [0.030770939132421016], \"visible\": true}, \"name\": \"33\", \"x\": [33], \"xaxis\": \"x2\", \"y\": [0.5978428351309707], \"type\": \"bar\", \"uid\": \"10edc64a-9053-11e8-a9e7-88e9fe51b829\", \"yaxis\": \"y2\"}, {\"error_y\": {\"array\": [0.03067427978130355], \"visible\": true}, \"name\": \"34\", \"x\": [34], \"xaxis\": \"x2\", \"y\": [0.6056603773584905], \"type\": \"bar\", \"uid\": \"10f0bff8-9053-11e8-81a4-88e9fe51b829\", \"yaxis\": \"y2\"}],\n",
       "            {\"annotations\": [{\"font\": {\"size\": 16}, \"showarrow\": false, \"text\": \"Distribution Plot\", \"x\": 0.225, \"xanchor\": \"center\", \"xref\": \"paper\", \"y\": 1.0, \"yanchor\": \"bottom\", \"yref\": \"paper\"}, {\"font\": {\"size\": 16}, \"showarrow\": false, \"text\": \"Default Rate Distribution\", \"x\": 0.775, \"xanchor\": \"center\", \"xref\": \"paper\", \"y\": 1.0, \"yanchor\": \"bottom\", \"yref\": \"paper\"}], \"xaxis\": {\"anchor\": \"y\", \"domain\": [0, 0.47], \"title\": \"Loan Status\"}, \"yaxis\": {\"anchor\": \"x\", \"domain\": [0.0, 1.0], \"title\": \"Probability Density\"}, \"xaxis2\": {\"anchor\": \"y2\", \"domain\": [0.53, 1], \"title\": \"Sub_grade\"}, \"yaxis2\": {\"anchor\": \"x2\", \"domain\": [0.0, 1.0], \"title\": \"Default Rate\"}, \"margin\": {\"b\": 50, \"l\": 50, \"pad\": 4, \"r\": 50, \"t\": 40}, \"legend\": {\"orientation\": \"h\", \"xanchor\": \"auto\", \"y\": -0.2}, \"width\": 1000, \"height\": 500},\n",
       "            {\"showLink\": true, \"linkText\": \"Export to plot.ly\"}\n",
       "        ).then(function () {return Plotly.addFrames('9401f13a-c2ac-4c37-a5a9-2bf5955307ff',{});}).then(function(){Plotly.animate('9401f13a-c2ac-4c37-a5a9-2bf5955307ff');})\n",
       "        });</script>"
      ]
     },
     "metadata": {},
     "output_type": "display_data"
    }
   ],
   "source": [
    "# sub_grade\n",
    "feature = 'sub_grade'\n",
    "iplot(categorical_plot(data=train, feature=feature, width=1000, height=500))"
   ]
  },
  {
   "cell_type": "markdown",
   "metadata": {},
   "source": [
    "# Discrete Features"
   ]
  },
  {
   "cell_type": "code",
   "execution_count": null,
   "metadata": {},
   "outputs": [],
   "source": [
    "# emp_length\n",
    "feature = 'emp_length'\n",
    "fig = numerical_plot(data=train, feature=feature, width=1000, height=450, bins=50)\n",
    "iplot(fig)"
   ]
  },
  {
   "cell_type": "code",
   "execution_count": null,
   "metadata": {},
   "outputs": [],
   "source": [
    "# delinq_2yrs\n",
    "feature = 'delinq_2yrs'\n",
    "fig = numerical_plot(data=train, feature=feature, width=1000, height=450, bins=50)\n",
    "iplot(fig)"
   ]
  },
  {
   "cell_type": "code",
   "execution_count": null,
   "metadata": {},
   "outputs": [],
   "source": [
    "# inq_last_6mths\n",
    "feature = 'inq_last_6mths'\n",
    "fig = numerical_plot(data=train, feature=feature, width=1000, height=450, bins=50)\n",
    "iplot(fig)"
   ]
  },
  {
   "cell_type": "code",
   "execution_count": null,
   "metadata": {},
   "outputs": [],
   "source": [
    "# pub_rec\n",
    "feature = 'pub_rec'\n",
    "fig = numerical_plot(data=train, feature=feature, width=1000, height=450, bins=50)\n",
    "iplot(fig)"
   ]
  },
  {
   "cell_type": "code",
   "execution_count": null,
   "metadata": {},
   "outputs": [],
   "source": [
    "# collections_12_mths_ex_med\n",
    "feature = 'collections_12_mths_ex_med'\n",
    "fig = numerical_plot(data=train, feature=feature, width=1000, height=450, bins=50)\n",
    "iplot(fig)"
   ]
  },
  {
   "cell_type": "code",
   "execution_count": null,
   "metadata": {},
   "outputs": [],
   "source": [
    "# acc_now_delinq\n",
    "feature = 'acc_now_delinq'\n",
    "fig = numerical_plot(data=train, feature=feature, width=1000, height=450, bins=50)\n",
    "iplot(fig)"
   ]
  },
  {
   "cell_type": "code",
   "execution_count": null,
   "metadata": {},
   "outputs": [],
   "source": [
    "# acc_open_past_24mths\n",
    "feature = 'acc_open_past_24mths'\n",
    "fig = numerical_plot(data=train, feature=feature, width=1000, height=450, bins=50)\n",
    "iplot(fig)"
   ]
  },
  {
   "cell_type": "code",
   "execution_count": null,
   "metadata": {},
   "outputs": [],
   "source": [
    "# chargeoff_within_12_mths\n",
    "feature = 'chargeoff_within_12_mths'\n",
    "fig = numerical_plot(data=train, feature=feature, width=1000, height=450, bins=50)\n",
    "iplot(fig)"
   ]
  },
  {
   "cell_type": "code",
   "execution_count": null,
   "metadata": {},
   "outputs": [],
   "source": [
    "# mort_acc\n",
    "feature = 'mort_acc'\n",
    "fig = numerical_plot(data=train, feature=feature, width=1000, height=450, bins=50)\n",
    "iplot(fig)"
   ]
  },
  {
   "cell_type": "code",
   "execution_count": null,
   "metadata": {},
   "outputs": [],
   "source": [
    "# mths_since_recent_inq\n",
    "feature = 'mths_since_recent_inq'\n",
    "fig = numerical_plot(data=train, feature=feature, width=1000, height=450, bins=50)\n",
    "iplot(fig)"
   ]
  },
  {
   "cell_type": "code",
   "execution_count": null,
   "metadata": {},
   "outputs": [],
   "source": [
    "# num_accts_ever_120_pd\n",
    "feature = 'num_accts_ever_120_pd'\n",
    "fig = numerical_plot(data=train, feature=feature, width=1000, height=450, bins=50)\n",
    "iplot(fig)"
   ]
  },
  {
   "cell_type": "code",
   "execution_count": null,
   "metadata": {},
   "outputs": [],
   "source": [
    "# num_actv_bc_tl\n",
    "feature = 'num_actv_bc_tl'\n",
    "fig = numerical_plot(data=train, feature=feature, width=1000, height=450, bins=50)\n",
    "iplot(fig)"
   ]
  },
  {
   "cell_type": "code",
   "execution_count": null,
   "metadata": {},
   "outputs": [],
   "source": [
    "# num_actv_rev_tl\n",
    "feature = 'num_actv_rev_tl'\n",
    "fig = numerical_plot(data=train, feature=feature, width=1000, height=450, bins=50)\n",
    "iplot(fig)"
   ]
  },
  {
   "cell_type": "code",
   "execution_count": null,
   "metadata": {},
   "outputs": [],
   "source": [
    "# num_bc_sats\n",
    "feature = 'num_bc_sats'\n",
    "fig = numerical_plot(data=train, feature=feature, width=1000, height=450, bins=50)\n",
    "iplot(fig)"
   ]
  },
  {
   "cell_type": "code",
   "execution_count": null,
   "metadata": {},
   "outputs": [],
   "source": [
    "# num_bc_tl\n",
    "feature = 'num_bc_tl'\n",
    "fig = numerical_plot(data=train, feature=feature, width=1000, height=450, bins=50)\n",
    "iplot(fig)"
   ]
  },
  {
   "cell_type": "code",
   "execution_count": null,
   "metadata": {},
   "outputs": [],
   "source": [
    "# num_il_tl\n",
    "feature = 'num_il_tl'\n",
    "fig = numerical_plot(data=train, feature=feature, width=1000, height=450, bins=50)\n",
    "iplot(fig)"
   ]
  },
  {
   "cell_type": "code",
   "execution_count": null,
   "metadata": {},
   "outputs": [],
   "source": [
    "# num_op_rev_tl\n",
    "feature = 'num_op_rev_tl'\n",
    "fig = numerical_plot(data=train, feature=feature, width=1000, height=450, bins=50)\n",
    "iplot(fig)"
   ]
  },
  {
   "cell_type": "code",
   "execution_count": null,
   "metadata": {},
   "outputs": [],
   "source": [
    "# num_rev_accts\n",
    "feature = 'num_rev_accts'\n",
    "fig = numerical_plot(data=train, feature=feature, width=1000, height=450, bins=50)\n",
    "iplot(fig)"
   ]
  },
  {
   "cell_type": "code",
   "execution_count": null,
   "metadata": {},
   "outputs": [],
   "source": [
    "# num_rev_tl_bal_gt_0\n",
    "feature = 'num_rev_tl_bal_gt_0'\n",
    "fig = numerical_plot(data=train, feature=feature, width=1000, height=450, bins=50)\n",
    "iplot(fig)"
   ]
  },
  {
   "cell_type": "code",
   "execution_count": null,
   "metadata": {},
   "outputs": [],
   "source": [
    "# num_sats\n",
    "feature = 'num_sats'\n",
    "fig = numerical_plot(data=train, feature=feature, width=1000, height=450, bins=50)\n",
    "iplot(fig)"
   ]
  },
  {
   "cell_type": "code",
   "execution_count": null,
   "metadata": {},
   "outputs": [],
   "source": [
    "# num_tl_120dpd_2m\n",
    "feature = 'num_tl_120dpd_2m'\n",
    "fig = numerical_plot(data=train, feature=feature, width=1000, height=450, bins=50)\n",
    "iplot(fig)"
   ]
  },
  {
   "cell_type": "code",
   "execution_count": null,
   "metadata": {},
   "outputs": [],
   "source": [
    "# num_tl_30dpd\n",
    "feature = 'num_tl_30dpd'\n",
    "fig = numerical_plot(data=train, feature=feature, width=1000, height=450, bins=50)\n",
    "iplot(fig)"
   ]
  },
  {
   "cell_type": "code",
   "execution_count": null,
   "metadata": {},
   "outputs": [],
   "source": [
    "# num_tl_90g_dpd_24m\n",
    "feature = 'num_tl_90g_dpd_24m'\n",
    "fig = numerical_plot(data=train, feature=feature, width=1000, height=450, bins=50)\n",
    "iplot(fig)"
   ]
  },
  {
   "cell_type": "code",
   "execution_count": null,
   "metadata": {},
   "outputs": [],
   "source": [
    "# num_tl_op_past_12m\n",
    "feature = 'num_tl_op_past_12m'\n",
    "fig = numerical_plot(data=train, feature=feature, width=1000, height=450, bins=50)\n",
    "iplot(fig)"
   ]
  },
  {
   "cell_type": "code",
   "execution_count": null,
   "metadata": {},
   "outputs": [],
   "source": [
    "# pub_rec_bankruptcies\n",
    "feature = 'pub_rec_bankruptcies'\n",
    "fig = numerical_plot(data=train, feature=feature, width=1000, height=450, bins=50)\n",
    "iplot(fig)"
   ]
  },
  {
   "cell_type": "code",
   "execution_count": null,
   "metadata": {},
   "outputs": [],
   "source": [
    "# tax_liens\n",
    "feature = 'tax_liens'\n",
    "fig = numerical_plot(data=train, feature=feature, width=1000, height=450, bins=50)\n",
    "iplot(fig)"
   ]
  },
  {
   "cell_type": "code",
   "execution_count": null,
   "metadata": {},
   "outputs": [],
   "source": [
    "# credit_length\n",
    "feature = 'credit_length'\n",
    "fig = numerical_plot(data=train, feature=feature, width=1000, height=450, bins=50)\n",
    "iplot(fig)"
   ]
  },
  {
   "cell_type": "code",
   "execution_count": null,
   "metadata": {},
   "outputs": [],
   "source": []
  },
  {
   "cell_type": "code",
   "execution_count": null,
   "metadata": {},
   "outputs": [],
   "source": []
  }
 ],
 "metadata": {
  "kernelspec": {
   "display_name": "Python 3",
   "language": "python",
   "name": "python3"
  },
  "language_info": {
   "codemirror_mode": {
    "name": "ipython",
    "version": 3
   },
   "file_extension": ".py",
   "mimetype": "text/x-python",
   "name": "python",
   "nbconvert_exporter": "python",
   "pygments_lexer": "ipython3",
   "version": "3.6.5"
  }
 },
 "nbformat": 4,
 "nbformat_minor": 2
}
