{
 "cells": [
  {
   "cell_type": "code",
   "execution_count": null,
   "metadata": {},
   "outputs": [],
   "source": [
    "import warnings\n",
    "import numpy as np\n",
    "import pandas as pd\n",
    "import seaborn as sns\n",
    "import matplotlib.pyplot as plt\n",
    "from scipy import stats\n",
    "\n",
    "from plotly.offline import init_notebook_mode, iplot\n",
    "import plotly.figure_factory as ff\n",
    "import plotly.graph_objs as go\n",
    "from plotly import tools\n",
    "\n",
    "from utils import discrete_plot\n",
    "from utils import numerical_plot\n",
    "\n",
    "warnings.simplefilter('ignore')\n",
    "pd.options.display.max_rows = 100\n",
    "init_notebook_mode(connected=True)\n",
    "%matplotlib inline"
   ]
  },
  {
   "cell_type": "markdown",
   "metadata": {},
   "source": [
    "# Load Dataset"
   ]
  },
  {
   "cell_type": "code",
   "execution_count": null,
   "metadata": {},
   "outputs": [],
   "source": [
    "train = pd.read_csv('./data/train_clean.csv')\n",
    "test = pd.read_csv('./data/test_clean.csv')\n",
    "\n",
    "print('Train:')\n",
    "print(train.info(verbose=False), '\\n')\n",
    "print('Test:')\n",
    "print(test.info(verbose=False))"
   ]
  },
  {
   "cell_type": "markdown",
   "metadata": {},
   "source": [
    "# Data Basic Information."
   ]
  },
  {
   "cell_type": "code",
   "execution_count": null,
   "metadata": {},
   "outputs": [],
   "source": [
    "# imbalanced dataset\n",
    "target1 = train['target'].sum()\n",
    "target0 = (1 - train['target']).sum()\n",
    "\n",
    "print('Target 0:\\t', target0, '\\t', np.round(target0 / len(train), 4))\n",
    "print('Target 1:\\t', target1, '\\t', np.round(target1 / len(train), 4))\n",
    "print('0/1 Ratio:\\t', np.round(target0 / target1, 4))"
   ]
  },
  {
   "cell_type": "code",
   "execution_count": null,
   "metadata": {},
   "outputs": [],
   "source": [
    "# visualize the target count distribution\n",
    "data = [go.Bar(x=['status 0'], y=[target0], name='Status 0'), \n",
    "        go.Bar(x=['status 1'], y=[target1], name='Status 1')]\n",
    "margin=go.layout.Margin(l=50, r=50, b=30, t=40, pad=4)\n",
    "legend = dict(orientation='h', xanchor='auto', y=-0.2)\n",
    "\n",
    "layout = go.Layout(title='Loan Status Count Plot', xaxis=dict(title='Loan Status'), \n",
    "                   yaxis=dict(title='Count'), autosize=False, width=700, height=400, \n",
    "                   margin=margin, legend=legend)\n",
    "fig = go.Figure(data=data, layout=layout)\n",
    "iplot(fig)"
   ]
  },
  {
   "cell_type": "markdown",
   "metadata": {},
   "source": [
    "# Visualization"
   ]
  },
  {
   "cell_type": "code",
   "execution_count": null,
   "metadata": {},
   "outputs": [],
   "source": [
    "# define categorical and numerical features\n",
    "cat_features = ['term', 'home_ownership', 'verification_status', 'purpose', \n",
    "                'title', 'addr_state', 'initial_list_status', 'application_type', \n",
    "                'grade', 'sub_grade']\n",
    "\n",
    "num_features = ['loan_amnt', 'loan_to_inc', 'int_rate', 'installment_ratio', 'emp_length', \n",
    "                'annual_inc', 'dti', 'delinq_2yrs', 'inq_last_6mths', 'open_acc', 'pub_rec', \n",
    "                'revol_bal', 'revol_util', 'total_acc', 'collections_12_mths_ex_med', \n",
    "                'acc_now_delinq', 'tot_coll_amt', 'tot_cur_bal', 'total_rev_hi_lim', \n",
    "                'acc_open_past_24mths', 'avg_cur_bal', 'bc_open_to_buy', 'bc_util', \n",
    "                'chargeoff_within_12_mths', 'delinq_amnt', 'mo_sin_old_il_acct', \n",
    "                'mo_sin_old_rev_tl_op', 'mo_sin_rcnt_rev_tl_op', 'mo_sin_rcnt_tl', \n",
    "                'mort_acc', 'mths_since_recent_bc', 'mths_since_recent_inq',\n",
    "                'num_accts_ever_120_pd', 'num_actv_bc_tl', 'num_actv_rev_tl',\n",
    "                'num_bc_sats', 'num_bc_tl', 'num_il_tl', 'num_op_rev_tl',\n",
    "                'num_rev_accts', 'num_rev_tl_bal_gt_0', 'num_sats', 'num_tl_120dpd_2m',\n",
    "                'num_tl_30dpd', 'num_tl_90g_dpd_24m', 'num_tl_op_past_12m', \n",
    "                'pct_tl_nvr_dlq', 'percent_bc_gt_75', 'pub_rec_bankruptcies',\n",
    "                'tax_liens', 'tot_hi_cred_lim', 'total_bal_ex_mort', 'total_bc_limit',\n",
    "                'total_il_high_credit_limit', 'credit_length']\n",
    "\n",
    "features = cat_features + num_features\n",
    "\n",
    "# define numerical and categorical features\n",
    "print('Categorical feature:\\t', len(cat_features))\n",
    "print('Numerical feature:\\t', len(num_features))\n",
    "print('Total feature:\\t\\t', len(features))"
   ]
  },
  {
   "cell_type": "markdown",
   "metadata": {},
   "source": [
    "### 2. Numerical Variables"
   ]
  },
  {
   "cell_type": "code",
   "execution_count": null,
   "metadata": {},
   "outputs": [],
   "source": [
    "# loan_amnt\n",
    "feature = 'loan_amnt'\n",
    "iplot(numerical_plot(train, feature, hist_bins=40, scatter_bins=100, log=False, w=1000, h=450))"
   ]
  },
  {
   "cell_type": "code",
   "execution_count": null,
   "metadata": {},
   "outputs": [],
   "source": [
    "# loan_to_inc\n",
    "feature = 'loan_to_inc'\n",
    "iplot(numerical_plot(train, feature, hist_bins=40, scatter_bins=100, log=True, w=1000, h=450))"
   ]
  },
  {
   "cell_type": "code",
   "execution_count": null,
   "metadata": {},
   "outputs": [],
   "source": [
    "# int_rate\n",
    "feature = 'int_rate'\n",
    "iplot(numerical_plot(train, feature, hist_bins=40, scatter_bins=100, log=False, w=1000, h=450))"
   ]
  },
  {
   "cell_type": "code",
   "execution_count": null,
   "metadata": {},
   "outputs": [],
   "source": [
    "# installment_ratio\n",
    "feature = 'installment_ratio'\n",
    "iplot(numerical_plot(train, feature, hist_bins=40, scatter_bins=100, log=False, w=1000, h=450))"
   ]
  },
  {
   "cell_type": "code",
   "execution_count": null,
   "metadata": {},
   "outputs": [],
   "source": [
    "# annual_inc\n",
    "feature = 'annual_inc'\n",
    "iplot(numerical_plot(train, feature, hist_bins=40, scatter_bins=100, log=True, w=1000, h=450))"
   ]
  },
  {
   "cell_type": "code",
   "execution_count": null,
   "metadata": {},
   "outputs": [],
   "source": [
    "# dti\n",
    "feature = 'dti'\n",
    "iplot(numerical_plot(train, feature, hist_bins=40, scatter_bins=100, log=True, w=1000, h=450))"
   ]
  },
  {
   "cell_type": "code",
   "execution_count": null,
   "metadata": {},
   "outputs": [],
   "source": [
    "# open_acc\n",
    "feature = 'open_acc'\n",
    "iplot(numerical_plot(train, feature, hist_bins=40, scatter_bins=100, log=False, w=1000, h=450))"
   ]
  },
  {
   "cell_type": "code",
   "execution_count": null,
   "metadata": {},
   "outputs": [],
   "source": [
    "# revol_bal\n",
    "feature = 'revol_bal'\n",
    "iplot(numerical_plot(train, feature, hist_bins=40, scatter_bins=100, log=True, w=1000, h=450))"
   ]
  },
  {
   "cell_type": "code",
   "execution_count": null,
   "metadata": {},
   "outputs": [],
   "source": [
    "# revol_util\n",
    "feature = 'revol_util'\n",
    "iplot(numerical_plot(train, feature, hist_bins=40, scatter_bins=100, log=False, w=1000, h=450))"
   ]
  },
  {
   "cell_type": "code",
   "execution_count": null,
   "metadata": {},
   "outputs": [],
   "source": [
    "# total_acc\n",
    "feature = 'total_acc'\n",
    "iplot(numerical_plot(data, feature, hist_bins=40, scatter_bins=100, log=False, w=1000, h=450))"
   ]
  },
  {
   "cell_type": "code",
   "execution_count": null,
   "metadata": {},
   "outputs": [],
   "source": [
    "# tot_coll_amt\n",
    "feature = 'tot_coll_amt'\n",
    "iplot(numerical_plot(data, feature, hist_bins=40, scatter_bins=100, log=False, w=1000, h=450))"
   ]
  },
  {
   "cell_type": "code",
   "execution_count": null,
   "metadata": {},
   "outputs": [],
   "source": [
    "# tot_cur_bal\n",
    "feature = 'tot_cur_bal'\n",
    "iplot(numerical_plot(data, feature, hist_bins=40, scatter_bins=100, log=False, w=1000, h=450))"
   ]
  },
  {
   "cell_type": "code",
   "execution_count": null,
   "metadata": {},
   "outputs": [],
   "source": [
    "# total_rev_hi_lim\n",
    "feature = 'total_rev_hi_lim'\n",
    "iplot(numerical_plot(data, feature, hist_bins=40, scatter_bins=100, log=False, w=1000, h=450))"
   ]
  },
  {
   "cell_type": "code",
   "execution_count": null,
   "metadata": {},
   "outputs": [],
   "source": [
    "# avg_cur_bal\n",
    "feature = 'avg_cur_bal'\n",
    "iplot(numerical_plot(data, feature, hist_bins=40, scatter_bins=100, log=False, w=1000, h=450))"
   ]
  },
  {
   "cell_type": "code",
   "execution_count": null,
   "metadata": {},
   "outputs": [],
   "source": [
    "# bc_open_to_buy\n",
    "feature = 'bc_open_to_buy'\n",
    "iplot(numerical_plot(data, feature, hist_bins=40, scatter_bins=100, log=False, w=1000, h=450))"
   ]
  },
  {
   "cell_type": "code",
   "execution_count": null,
   "metadata": {},
   "outputs": [],
   "source": [
    "# bc_util\n",
    "feature = 'bc_util'\n",
    "iplot(numerical_plot(data, feature, hist_bins=40, scatter_bins=100, log=False, w=1000, h=450))"
   ]
  },
  {
   "cell_type": "code",
   "execution_count": null,
   "metadata": {},
   "outputs": [],
   "source": [
    "# delinq_amnt\n",
    "feature = 'delinq_amnt'\n",
    "iplot(numerical_plot(data, feature, hist_bins=40, scatter_bins=100, log=False, w=1000, h=450))"
   ]
  },
  {
   "cell_type": "code",
   "execution_count": null,
   "metadata": {},
   "outputs": [],
   "source": [
    "# mo_sin_old_il_acct\n",
    "feature = 'mo_sin_old_il_acct'\n",
    "iplot(numerical_plot(data, feature, hist_bins=40, scatter_bins=100, log=False, w=1000, h=450))"
   ]
  },
  {
   "cell_type": "code",
   "execution_count": null,
   "metadata": {},
   "outputs": [],
   "source": [
    "# mo_sin_old_rev_tl_op\n",
    "feature = 'mo_sin_old_rev_tl_op'\n",
    "iplot(numerical_plot(data, feature, hist_bins=40, scatter_bins=100, log=False, w=1000, h=450))"
   ]
  },
  {
   "cell_type": "code",
   "execution_count": null,
   "metadata": {},
   "outputs": [],
   "source": [
    "# mo_sin_rcnt_rev_tl_op\n",
    "feature = 'mo_sin_rcnt_rev_tl_op'\n",
    "iplot(numerical_plot(data, feature, hist_bins=40, scatter_bins=100, log=False, w=1000, h=450))"
   ]
  },
  {
   "cell_type": "code",
   "execution_count": null,
   "metadata": {},
   "outputs": [],
   "source": [
    "# mo_sin_rcnt_tl\n",
    "feature = 'mo_sin_rcnt_tl'\n",
    "iplot(numerical_plot(data, feature, hist_bins=40, scatter_bins=100, log=False, w=1000, h=450))"
   ]
  },
  {
   "cell_type": "code",
   "execution_count": null,
   "metadata": {},
   "outputs": [],
   "source": [
    "# mths_since_recent_bc\n",
    "feature = 'mths_since_recent_bc'\n",
    "iplot(numerical_plot(data, feature, hist_bins=40, scatter_bins=100, log=False, w=1000, h=450))"
   ]
  },
  {
   "cell_type": "code",
   "execution_count": null,
   "metadata": {},
   "outputs": [],
   "source": [
    "# pct_tl_nvr_dlq\n",
    "feature = 'pct_tl_nvr_dlq'\n",
    "iplot(numerical_plot(data, feature, hist_bins=40, scatter_bins=100, log=False, w=1000, h=450))"
   ]
  },
  {
   "cell_type": "code",
   "execution_count": null,
   "metadata": {},
   "outputs": [],
   "source": [
    "# percent_bc_gt_75\n",
    "feature = 'percent_bc_gt_75'\n",
    "iplot(numerical_plot(data, feature, hist_bins=40, scatter_bins=100, log=False, w=1000, h=450))"
   ]
  },
  {
   "cell_type": "code",
   "execution_count": null,
   "metadata": {},
   "outputs": [],
   "source": [
    "# tot_hi_cred_lim\n",
    "feature = 'tot_hi_cred_lim'\n",
    "iplot(numerical_plot(data, feature, hist_bins=40, scatter_bins=100, log=False, w=1000, h=450))"
   ]
  },
  {
   "cell_type": "code",
   "execution_count": null,
   "metadata": {},
   "outputs": [],
   "source": [
    "# total_bal_ex_mort\n",
    "feature = 'total_bal_ex_mort'\n",
    "iplot(numerical_plot(data, feature, hist_bins=40, scatter_bins=100, log=False, w=1000, h=450))"
   ]
  },
  {
   "cell_type": "code",
   "execution_count": null,
   "metadata": {},
   "outputs": [],
   "source": [
    "# total_bc_limit\n",
    "feature = 'total_bc_limit'\n",
    "iplot(numerical_plot(data, feature, hist_bins=40, scatter_bins=100, log=False, w=1000, h=450))"
   ]
  },
  {
   "cell_type": "code",
   "execution_count": null,
   "metadata": {},
   "outputs": [],
   "source": [
    "# total_il_high_credit_limit\n",
    "feature = 'total_il_high_credit_limit'\n",
    "iplot(numerical_plot(data, feature, hist_bins=40, scatter_bins=100, log=False, w=1000, h=450))"
   ]
  },
  {
   "cell_type": "code",
   "execution_count": null,
   "metadata": {},
   "outputs": [],
   "source": []
  }
 ],
 "metadata": {
  "kernelspec": {
   "display_name": "Python 3",
   "language": "python",
   "name": "python3"
  },
  "language_info": {
   "codemirror_mode": {
    "name": "ipython",
    "version": 3
   },
   "file_extension": ".py",
   "mimetype": "text/x-python",
   "name": "python",
   "nbconvert_exporter": "python",
   "pygments_lexer": "ipython3",
   "version": "3.6.5"
  }
 },
 "nbformat": 4,
 "nbformat_minor": 2
}
