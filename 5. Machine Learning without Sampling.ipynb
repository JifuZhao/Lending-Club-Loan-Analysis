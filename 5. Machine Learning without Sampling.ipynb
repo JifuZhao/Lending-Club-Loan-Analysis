{
 "cells": [
  {
   "cell_type": "code",
   "execution_count": 48,
   "metadata": {},
   "outputs": [],
   "source": [
    "import warnings, gc\n",
    "import numpy as np\n",
    "import pandas as pd\n",
    "import seaborn as sns\n",
    "import matplotlib.pyplot as plt\n",
    "from sklearn.metrics import auc, roc_curve\n",
    "from sklearn.preprocessing import LabelEncoder\n",
    "\n",
    "# h2o modules\n",
    "import h2o\n",
    "from h2o.frame import H2OFrame\n",
    "from h2o.grid.grid_search import H2OGridSearch\n",
    "from h2o.estimators.glm import H2OGeneralizedLinearEstimator\n",
    "from h2o.estimators.random_forest import H2ORandomForestEstimator\n",
    "\n",
    "# LightGBM modules\n",
    "import lightgbm as lgb\n",
    "\n",
    "# CatBoost modules\n",
    "from catboost import Pool, cv, CatBoostClassifier\n",
    "\n",
    "warnings.simplefilter('ignore')\n",
    "pd.options.display.max_rows = 100\n",
    "%matplotlib inline"
   ]
  },
  {
   "cell_type": "markdown",
   "metadata": {},
   "source": [
    "# Load Data"
   ]
  },
  {
   "cell_type": "code",
   "execution_count": 10,
   "metadata": {},
   "outputs": [
    {
     "name": "stdout",
     "output_type": "stream",
     "text": [
      "Train:\t (722142, 67)\n",
      "Test:\t (98727, 67) \n",
      "\n",
      "Target 0:\t 549951 \t 0.7616\n",
      "Target 1:\t 172191 \t 0.2384\n",
      "0/1 Ratio:\t 3.1938\n"
     ]
    }
   ],
   "source": [
    "train = pd.read_csv('./data/train_clean.csv')\n",
    "test = pd.read_csv('./data/test_clean.csv')\n",
    "\n",
    "# imbalanced dataset\n",
    "target1 = train['target'].sum()\n",
    "target0 = (1 - train['target']).sum()\n",
    "\n",
    "print('Train:\\t', train.shape)\n",
    "print('Test:\\t', test.shape, '\\n')\n",
    "\n",
    "print('Target 0:\\t', target0, '\\t', np.round(target0 / len(train), 4))\n",
    "print('Target 1:\\t', target1, '\\t', np.round(target1 / len(train), 4))\n",
    "print('0/1 Ratio:\\t', np.round(target0 / target1, 4))"
   ]
  },
  {
   "cell_type": "code",
   "execution_count": 110,
   "metadata": {},
   "outputs": [
    {
     "name": "stdout",
     "output_type": "stream",
     "text": [
      "Categorical feature:\t 8\n",
      "Numerical feature:\t 56\n",
      "Total feature:\t\t 64\n"
     ]
    }
   ],
   "source": [
    "# define categorical and numerical features\n",
    "cat_features = ['term', 'home_ownership', 'verification_status', 'purpose', \n",
    "                'title', 'addr_state', 'initial_list_status', 'application_type']\n",
    "\n",
    "num_features = ['sub_grade', 'loan_amnt', 'loan_to_inc', 'int_rate', 'installment_ratio', \n",
    "                'emp_length', 'annual_inc', 'dti', 'delinq_2yrs', 'inq_last_6mths', \n",
    "                'open_acc', 'pub_rec', 'revol_bal', 'revol_util', 'total_acc', \n",
    "                'collections_12_mths_ex_med', 'acc_now_delinq', 'tot_coll_amt', \n",
    "                'tot_cur_bal', 'total_rev_hi_lim', 'acc_open_past_24mths', \n",
    "                'avg_cur_bal', 'bc_open_to_buy', 'bc_util', 'chargeoff_within_12_mths',\n",
    "                'delinq_amnt', 'mo_sin_old_il_acct','mo_sin_old_rev_tl_op', \n",
    "                'mo_sin_rcnt_rev_tl_op', 'mo_sin_rcnt_tl', 'mort_acc', \n",
    "                'mths_since_recent_bc', 'mths_since_recent_inq', 'num_accts_ever_120_pd', \n",
    "                'num_actv_bc_tl', 'num_actv_rev_tl', 'num_bc_sats', 'num_bc_tl', \n",
    "                'num_il_tl', 'num_op_rev_tl', 'num_rev_accts', 'num_rev_tl_bal_gt_0', \n",
    "                'num_sats', 'num_tl_120dpd_2m', 'num_tl_30dpd', 'num_tl_90g_dpd_24m', \n",
    "                'num_tl_op_past_12m', 'pct_tl_nvr_dlq', 'percent_bc_gt_75', \n",
    "                'pub_rec_bankruptcies', 'tax_liens', 'tot_hi_cred_lim', 'credit_length',\n",
    "                'total_bal_ex_mort', 'total_bc_limit', 'total_il_high_credit_limit']\n",
    "\n",
    "features = cat_features + num_features\n",
    "\n",
    "# define numerical and categorical features\n",
    "print('Categorical feature:\\t', len(cat_features))\n",
    "print('Numerical feature:\\t', len(num_features))\n",
    "print('Total feature:\\t\\t', len(features))"
   ]
  },
  {
   "cell_type": "markdown",
   "metadata": {},
   "source": [
    "# I. H2O Data Preparation"
   ]
  },
  {
   "cell_type": "code",
   "execution_count": 55,
   "metadata": {
    "scrolled": false
   },
   "outputs": [
    {
     "name": "stdout",
     "output_type": "stream",
     "text": [
      "Checking whether there is an H2O instance running at http://localhost:54321. connected.\n"
     ]
    },
    {
     "data": {
      "text/html": [
       "<div style=\"overflow:auto\"><table style=\"width:50%\"><tr><td>H2O cluster uptime:</td>\n",
       "<td>2 hours 9 mins</td></tr>\n",
       "<tr><td>H2O cluster timezone:</td>\n",
       "<td>Etc/UTC</td></tr>\n",
       "<tr><td>H2O data parsing timezone:</td>\n",
       "<td>UTC</td></tr>\n",
       "<tr><td>H2O cluster version:</td>\n",
       "<td>3.20.0.1</td></tr>\n",
       "<tr><td>H2O cluster version age:</td>\n",
       "<td>1 month and 20 days </td></tr>\n",
       "<tr><td>H2O cluster name:</td>\n",
       "<td>H2O_from_python_ubuntu_59topr</td></tr>\n",
       "<tr><td>H2O cluster total nodes:</td>\n",
       "<td>1</td></tr>\n",
       "<tr><td>H2O cluster free memory:</td>\n",
       "<td>38.52 Gb</td></tr>\n",
       "<tr><td>H2O cluster total cores:</td>\n",
       "<td>16</td></tr>\n",
       "<tr><td>H2O cluster allowed cores:</td>\n",
       "<td>16</td></tr>\n",
       "<tr><td>H2O cluster status:</td>\n",
       "<td>locked, healthy</td></tr>\n",
       "<tr><td>H2O connection url:</td>\n",
       "<td>http://localhost:54321</td></tr>\n",
       "<tr><td>H2O connection proxy:</td>\n",
       "<td>None</td></tr>\n",
       "<tr><td>H2O internal security:</td>\n",
       "<td>False</td></tr>\n",
       "<tr><td>H2O API Extensions:</td>\n",
       "<td>XGBoost, Algos, AutoML, Core V3, Core V4</td></tr>\n",
       "<tr><td>Python version:</td>\n",
       "<td>3.6.5 final</td></tr></table></div>"
      ],
      "text/plain": [
       "--------------------------  ----------------------------------------\n",
       "H2O cluster uptime:         2 hours 9 mins\n",
       "H2O cluster timezone:       Etc/UTC\n",
       "H2O data parsing timezone:  UTC\n",
       "H2O cluster version:        3.20.0.1\n",
       "H2O cluster version age:    1 month and 20 days\n",
       "H2O cluster name:           H2O_from_python_ubuntu_59topr\n",
       "H2O cluster total nodes:    1\n",
       "H2O cluster free memory:    38.52 Gb\n",
       "H2O cluster total cores:    16\n",
       "H2O cluster allowed cores:  16\n",
       "H2O cluster status:         locked, healthy\n",
       "H2O connection url:         http://localhost:54321\n",
       "H2O connection proxy:\n",
       "H2O internal security:      False\n",
       "H2O API Extensions:         XGBoost, Algos, AutoML, Core V3, Core V4\n",
       "Python version:             3.6.5 final\n",
       "--------------------------  ----------------------------------------"
      ]
     },
     "metadata": {},
     "output_type": "display_data"
    },
    {
     "name": "stdout",
     "output_type": "stream",
     "text": [
      "Parse progress: |█████████████████████████████████████████████████████████| 100%\n",
      "Parse progress: |█████████████████████████████████████████████████████████| 100%\n"
     ]
    }
   ],
   "source": [
    "# initialize H2O cluster\n",
    "h2o.init(nthreads=-1, max_mem_size='30G')\n",
    "h2o.remove_all()\n",
    "\n",
    "# transform to H2O Frame, and make sure the target variable is categorical\n",
    "h2o_train = H2OFrame(train[features + ['target']])\n",
    "h2o_test = H2OFrame(test[features])\n",
    "\n",
    "# transform into categorical\n",
    "h2o_train['target'] = h2o_train['target'].asfactor()\n",
    "\n",
    "for name in cat_features:\n",
    "    h2o_train[name] = h2o_train[name].asfactor()\n",
    "    h2o_test[name] = h2o_test[name].asfactor()"
   ]
  },
  {
   "cell_type": "markdown",
   "metadata": {},
   "source": [
    "# Logistic Regression"
   ]
  },
  {
   "cell_type": "code",
   "execution_count": 96,
   "metadata": {},
   "outputs": [
    {
     "name": "stdout",
     "output_type": "stream",
     "text": [
      "Best alpha:\t [0.7]\n",
      "Best lambda:\t [1.0E-6]\n",
      "Best AUC:\t 0.723211561533177\n"
     ]
    }
   ],
   "source": [
    "# create GLM model with 5-folder cross-validation\n",
    "glm = H2OGeneralizedLinearEstimator(family='binomial', early_stopping=True, nfolds=5, \n",
    "                                    balance_classes=False, custom_metric_func='auc',\n",
    "                                    keep_cross_validation_predictions=True, seed=42)\n",
    "\n",
    "# train logistic regression model using grid search\n",
    "hyper_parameters = {'alpha': [0, 0.1, 0.2, 0.3, 0.4, 0.5, 0.6, 0.7, 0.8, 0.9, 1.0], \n",
    "                    'lambda': [0, 1e-6, 1e-5, 1e-4, 1e-3, 1e-2, 1e-1, 1]}\n",
    "\n",
    "# grid search\n",
    "glm_grid = H2OGridSearch(glm, hyper_parameters)\n",
    "glm_grid.train(x=features, y='target', training_frame=h2o_train)\n",
    "\n",
    "# get the grid search result, sorted by AUC decreasing\n",
    "sorted_glm_grid = glm_grid.get_grid(sort_by='auc', decreasing=True)\n",
    "\n",
    "best_alpha = sorted_glm_grid.sorted_metric_table()['alpha'][0]\n",
    "best_lambda = sorted_glm_grid.sorted_metric_table()['lambda'][0]\n",
    "best_glm_auc = sorted_glm_grid.sorted_metric_table()['auc'][0]\n",
    "\n",
    "print('Best alpha:\\t', best_alpha)\n",
    "print('Best lambda:\\t', best_lambda)\n",
    "print('Best AUC:\\t', best_glm_auc)"
   ]
  },
  {
   "cell_type": "code",
   "execution_count": 85,
   "metadata": {},
   "outputs": [
    {
     "name": "stdout",
     "output_type": "stream",
     "text": [
      "glm prediction progress: |████████████████████████████████████████████████| 100%\n"
     ]
    }
   ],
   "source": [
    "# re-build the logistic regression model with best parameters\n",
    "logit = H2OGeneralizedLinearEstimator(family='binomial', balance_classes=False, \n",
    "                                      alpha=0.7, lambda_=1.0E-6, seed=42)\n",
    "\n",
    "logit.train(x=features, y='target', training_frame=h2o_train)\n",
    "\n",
    "# make prediction\n",
    "logit_pred = logit.predict(h2o_test).as_data_frame()['p1'].values"
   ]
  },
  {
   "cell_type": "code",
   "execution_count": 111,
   "metadata": {},
   "outputs": [
    {
     "data": {
      "image/png": "[encoded data removed]",
      "text/plain": [
       "<Figure size 576x432 with 1 Axes>"
      ]
     },
     "metadata": {},
     "output_type": "display_data"
    }
   ],
   "source": [
    "# build the ROC curve\n",
    "logit_fpr, logit_tpr, _ = roc_curve(test['target'].values, logit_pred)\n",
    "logit_auc = np.round(auc(logit_fpr, logit_tpr), 4)\n",
    "np.save('./result/h2o_logistic_fpr_no_sampling.npy', logit_fpr)\n",
    "np.save('./result/h2o_logistic_tpr_no_sampling.npy', logit_tpr)\n",
    "\n",
    "# visualization\n",
    "fig, ax = plt.subplots(figsize=(8, 6))\n",
    "ax.plot(logit_fpr, logit_tpr, label='AUC: ' + str(logit_auc))\n",
    "ax.plot(logit_fpr, logit_fpr, 'k:')\n",
    "ax.set_xlabel('False Positive Rate', fontsize=12)\n",
    "ax.set_ylabel('True Positive Rate', fontsize=12)\n",
    "ax.legend(fontsize=12)\n",
    "ax.grid(True)\n",
    "plt.tight_layout()\n",
    "plt.show()"
   ]
  },
  {
   "cell_type": "markdown",
   "metadata": {},
   "source": [
    "# Random Forest\n",
    "Since it's too slow to run this module, the number of trees `ntrees` are only set to be $100$."
   ]
  },
  {
   "cell_type": "code",
   "execution_count": 95,
   "metadata": {},
   "outputs": [
    {
     "name": "stdout",
     "output_type": "stream",
     "text": [
      "Best max_depth:\t\t 15\n",
      "Best mtries:\t\t 20\n",
      "Best sample_rate:\t 0.632\n",
      "Best AUC:\t\t 0.723211561533177\n"
     ]
    }
   ],
   "source": [
    "# random forest grid search\n",
    "hyper_parameters = {'max_depth': [15, 20, 25, 30, 35], \n",
    "                    'mtries': [-1, 8, 15, 20, 25], \n",
    "                    'sample_rate': [0.5, 0.632, 0.75]}\n",
    "\n",
    "# build random forest model\n",
    "rf_model = H2ORandomForestEstimator(balance_classes=False, ntrees=100, nfolds=5, \n",
    "                                    stopping_rounds=5, stopping_metric='auc', \n",
    "                                    keep_cross_validation_predictions=True)\n",
    "\n",
    "# define search criteria\n",
    "search_criteria = {'strategy': 'RandomDiscrete', 'max_models': 10, 'seed': 42, \n",
    "                   'stopping_metric': 'auc', 'stopping_rounds': 5}\n",
    "\n",
    "# grid search\n",
    "rf_grid = H2OGridSearch(rf_model, hyper_parameters, search_criteria=search_criteria)\n",
    "\n",
    "rf_grid.train(x=features, y='target', training_frame=h2o_train)\n",
    "\n",
    "# get the grid search result, sorted by AUC decreasing\n",
    "sorted_rf_grid = rf_grid.get_grid(sort_by='auc', decreasing=True)\n",
    "\n",
    "best_max_depth = sorted_rf_grid.sorted_metric_table()['max_depth'][0]\n",
    "best_mtries = sorted_rf_grid.sorted_metric_table()['mtries'][0]\n",
    "best_sample_rate = sorted_rf_grid.sorted_metric_table()['sample_rate'][0]\n",
    "best_rf_auc = sorted_rf_grid.sorted_metric_table()['auc'][0]\n",
    "\n",
    "print('Best max_depth:\\t\\t', best_max_depth)\n",
    "print('Best mtries:\\t\\t', best_mtries)\n",
    "print('Best sample_rate:\\t', best_sample_rate)\n",
    "print('Best AUC:\\t\\t', best_auc)"
   ]
  },
  {
   "cell_type": "code",
   "execution_count": 100,
   "metadata": {},
   "outputs": [
    {
     "name": "stdout",
     "output_type": "stream",
     "text": [
      "drf Model Build progress: |███████████████████████████████████████████████| 100%\n",
      "drf prediction progress: |████████████████████████████████████████████████| 100%\n"
     ]
    }
   ],
   "source": [
    "# build random forest model with best parameters\n",
    "h2o_rf = H2ORandomForestEstimator(balance_classes=False, max_depth=15, mtries=20, \n",
    "                                  sample_rate=0.632, ntrees=1000, seed=42)\n",
    "\n",
    "h2o_rf.train(x=features, y='target', training_frame=h2o_train)\n",
    "\n",
    "# make prediction\n",
    "h2o_rf_pred = h2o_rf.predict(h2o_test).as_data_frame()['p1'].values"
   ]
  },
  {
   "cell_type": "code",
   "execution_count": 105,
   "metadata": {},
   "outputs": [
    {
     "data": {
      "image/png": "[encoded data removed]",
      "text/plain": [
       "<Figure size 720x576 with 1 Axes>"
      ]
     },
     "metadata": {},
     "output_type": "display_data"
    }
   ],
   "source": [
    "# get feature importance details\n",
    "h2o_rf_importance = h2o_rf.varimp(use_pandas=True)\n",
    "\n",
    "# visualization\n",
    "fig, ax = plt.subplots(figsize=(10, 8))\n",
    "sns.barplot(x='scaled_importance', y='variable', data=h2o_rf_importance[:15], ax=ax)\n",
    "ax.set_title('LightGBM Random Forest Feature Importance', fontsize=16)\n",
    "ax.set_xlabel('Relative Importance', fontsize=12)\n",
    "ax.set_ylabel('')\n",
    "ax.grid(True)\n",
    "plt.tight_layout()\n",
    "plt.show()"
   ]
  },
  {
   "cell_type": "code",
   "execution_count": 108,
   "metadata": {},
   "outputs": [
    {
     "data": {
      "image/png": "[encoded data removed]",
      "text/plain": [
       "<Figure size 576x432 with 1 Axes>"
      ]
     },
     "metadata": {},
     "output_type": "display_data"
    }
   ],
   "source": [
    "# build the ROC curve\n",
    "h2o_rf_fpr, h2o_rf_tpr, _ = roc_curve(test['target'].values, h2o_rf_pred)\n",
    "h2o_rf_auc = np.round(auc(h2o_rf_fpr, h2o_rf_tpr), 4)\n",
    "np.save('./result/h2o_rf_fpr_no_sampling.npy', h2o_rf_fpr)\n",
    "np.save('./result/h2o_rf_tpr_no_sampling.npy', h2o_rf_tpr)\n",
    "\n",
    "fig, ax = plt.subplots(figsize=(8, 6))\n",
    "ax.plot(h2o_rf_fpr, h2o_rf_tpr, label='AUC: ' + str(h2o_rf_auc))\n",
    "ax.plot(h2o_rf_fpr, h2o_rf_fpr, 'k:')\n",
    "ax.set_xlabel('False Positive Rate', fontsize=12)\n",
    "ax.set_ylabel('True Positive Rate', fontsize=12)\n",
    "ax.legend(fontsize=12)\n",
    "ax.grid(True)\n",
    "plt.tight_layout()\n",
    "plt.show()"
   ]
  },
  {
   "cell_type": "code",
   "execution_count": 112,
   "metadata": {},
   "outputs": [
    {
     "name": "stdout",
     "output_type": "stream",
     "text": [
      "H2O session _sid_9204 closed.\n"
     ]
    }
   ],
   "source": [
    "# Shutdown h2o instance\n",
    "h2o.cluster().shutdown()"
   ]
  },
  {
   "cell_type": "markdown",
   "metadata": {},
   "source": [
    "# II. LightGBM Data Preparation"
   ]
  },
  {
   "cell_type": "code",
   "execution_count": null,
   "metadata": {},
   "outputs": [],
   "source": [
    "# encoding categorical data into numerical format\n",
    "label_encoders = []\n",
    "for name in cat_features:\n",
    "    encoder = LabelEncoder()\n",
    "    train[name] = encoder.fit_transform(train[name])\n",
    "    test[name] = encoder.transform(test[name])\n",
    "    label_encoders.append(encoder)"
   ]
  },
  {
   "cell_type": "code",
   "execution_count": null,
   "metadata": {},
   "outputs": [],
   "source": [
    "# create LightGBM dataset\n",
    "train_x = train[features]\n",
    "train_y = train['target'].values\n",
    "\n",
    "gbm_train = lgb.Dataset(data=train_x, label=train_y, feature_name=features, \n",
    "                        categorical_feature=cat_features, free_raw_data=False)"
   ]
  },
  {
   "cell_type": "markdown",
   "metadata": {},
   "source": [
    "# Random Forest"
   ]
  },
  {
   "cell_type": "code",
   "execution_count": null,
   "metadata": {},
   "outputs": [],
   "source": [
    "# define parameter space to explore\n",
    "rf_num_leaves_list = [20, 30, 40, 50, 60]\n",
    "rf_max_depth_list = [-1, 20, 30, 40, 50]\n",
    "rf_min_data_in_leaf_list = [20, 30, 40, 50]\n",
    "rf_bagging_frac_list = [0.5, 0.632, 0.7, 0.8]\n",
    "rf_feature_frac_list = [0.4, 0.5, 0.6, 0.7, 0.8]\n",
    "\n",
    "rf_num_leaves_vals = []\n",
    "rf_max_depth_vals = []\n",
    "rf_min_data_vals = []\n",
    "rf_bagging_frac_vals = []\n",
    "rf_feature_frac_vals = []\n",
    "\n",
    "rf_mean_auc = []\n",
    "rf_std_auc = []"
   ]
  },
  {
   "cell_type": "code",
   "execution_count": null,
   "metadata": {},
   "outputs": [],
   "source": [
    "# Random search with Cross validation\n",
    "s = '|{0:^10s} |{1:^9s} |{2:^16s} |{3:^16s} |{4:^16s} |{5:^6s} |{6:^6s} |'\n",
    "print(s.format('num_leaves', 'max_depth', 'min_data_in_leaf', 'bagging_fraction', \n",
    "               'feature_fraction', 'AUC', 'std'))\n",
    "print('-' * 94)\n",
    "\n",
    "# perform random search for given number n\n",
    "n = 30\n",
    "np.random.seed(42)\n",
    "visited = set()\n",
    "for i in range(n):\n",
    "    while True:\n",
    "        num_leaves = np.random.choice(rf_num_leaves_list)\n",
    "        max_depth = np.random.choice(rf_max_depth_list)\n",
    "        min_data_in_leaf = np.random.choice(rf_min_data_in_leaf_list)\n",
    "        bagging_fraction = np.random.choice(rf_bagging_frac_list)\n",
    "        feature_fraction = np.random.choice(rf_feature_frac_list)\n",
    "        \n",
    "        tuples = (num_leaves, max_depth, min_data_in_leaf, bagging_fraction, feature_fraction)\n",
    "        if tuples not in visited:\n",
    "            visited.add(tuples)\n",
    "            break\n",
    "            \n",
    "    params = {'objective': 'binary', \n",
    "              'boosting': 'rf', \n",
    "              'num_threads': 16, \n",
    "              'is_unbalance': False, \n",
    "              'metric': ['auc'],\n",
    "              'learning_rate': 0.1, \n",
    "              'max_bin': 255, \n",
    "              'num_leaves': num_leaves, \n",
    "              'max_depth': max_depth, \n",
    "              'min_data_in_leaf': min_data_in_leaf, \n",
    "              'bagging_fraction': bagging_fraction, \n",
    "              'feature_fraction': feature_fraction, \n",
    "              'bagging_freq': 1, \n",
    "              'lambda_l1': 0.0,\n",
    "              'lambda_l2': 0.0,\n",
    "              'drop_rate': 0.1, \n",
    "              'seed': 42}\n",
    "\n",
    "    # 5-folder cross validation (no early stopping)\n",
    "    history = lgb.cv(params, train_set=gbm_train, nfold=5, num_boost_round=1000, \n",
    "                     stratified=True, early_stopping_rounds=None, verbose_eval=False, \n",
    "                     seed=42, feature_name=features, categorical_feature=cat_features)\n",
    "\n",
    "    # get result\n",
    "    rf_num_leaves_vals.append(num_leaves)\n",
    "    rf_max_depth_vals.append(max_depth)\n",
    "    rf_min_data_vals.append(min_data_in_leaf)\n",
    "    rf_bagging_frac_vals.append(bagging_fraction)\n",
    "    rf_feature_frac_vals.append(feature_fraction)\n",
    "    rf_mean_auc.append(history['auc-mean'][-1])\n",
    "    rf_std_auc.append(history['auc-stdv'][-1])\n",
    "        \n",
    "    # output the resuts\n",
    "    ss = '|{0:10d} |{1:9d} |{2:16d} |{3:16.4f} |{4:16.4f} |{5:6.4f} |{6:6.4f} |'\n",
    "    print(ss.format(num_leaves, max_depth, min_data_in_leaf, bagging_fraction, \n",
    "                    feature_fraction, history['auc-mean'][-1], history['auc-stdv'][-1]))\n",
    "    \n",
    "# get the best parameters\n",
    "idx = np.argmax(rf_mean_auc)\n",
    "print('-' * 94)\n",
    "print(ss.format(rf_num_leaves_vals[idx], rf_max_depth_vals[idx], rf_min_data_vals[idx], \n",
    "                rf_bagging_frac_vals[idx], rf_feature_frac_vals[idx], rf_mean_auc[idx], \n",
    "                rf_std_auc[idx]))"
   ]
  },
  {
   "cell_type": "code",
   "execution_count": null,
   "metadata": {},
   "outputs": [],
   "source": [
    "# define best parameters\n",
    "params = {'objective': 'binary', \n",
    "          'boosting': 'rf', \n",
    "          'num_threads': 16, \n",
    "          'is_unbalance': False, \n",
    "          'metric': ['auc'],\n",
    "          'learning_rate': 0.1, \n",
    "          'max_bin': 255, \n",
    "          'num_leaves': 60, \n",
    "          'max_depth': 20, \n",
    "          'min_data_in_leaf': 40, \n",
    "          'bagging_fraction': 0.5, \n",
    "          'feature_fraction': 0.5, \n",
    "          'bagging_freq': 1, \n",
    "          'lambda_l1': 0.0,\n",
    "          'lambda_l2': 0.0,\n",
    "          'drop_rate': 0.1, \n",
    "          'seed': 42}\n",
    "\n",
    "# re-train the model and make predictions\n",
    "lgb_rf = lgb.train(params, train_set=gbm_train, num_boost_round=1000, \n",
    "                   feature_name=features, categorical_feature=cat_features)\n",
    "\n",
    "lgb_rf_pred = lgb_rf.predict(test[features])"
   ]
  },
  {
   "cell_type": "code",
   "execution_count": null,
   "metadata": {},
   "outputs": [],
   "source": [
    "# get feature importance details\n",
    "importance = lgb_rf.feature_importance()\n",
    "lgb_rf_importance = pd.DataFrame({'feature': features, 'importance': importance}, \n",
    "                                 columns=['feature', 'importance'])\n",
    "lgb_rf_importance = lgb_rf_importance.sort_values(by='importance', ascending=False)\n",
    "lgb_rf_importance['importance'] = lgb_rf_importance['importance'] / lgb_rf_importance['importance'].max()\n",
    "\n",
    "# visualization\n",
    "fig, ax = plt.subplots(figsize=(10, 8))\n",
    "sns.barplot(x='importance', y='feature', data=lgb_rf_importance[:15], ax=ax)\n",
    "ax.set_title('LightGBM Random Forest Feature Importance', fontsize=16)\n",
    "ax.set_xlabel('Relative Importance', fontsize=12)\n",
    "ax.set_ylabel('')\n",
    "ax.grid(True)\n",
    "plt.tight_layout()\n",
    "plt.show()"
   ]
  },
  {
   "cell_type": "code",
   "execution_count": null,
   "metadata": {},
   "outputs": [],
   "source": [
    "# build the ROC curve\n",
    "lgb_rf_fpr, lgb_rf_tpr, _ = roc_curve(test['target'].values, lgb_rf_pred)\n",
    "lgb_rf_auc = np.round(auc(lgb_rf_fpr, lgb_rf_tpr), 4)\n",
    "np.save('./result/lgb_rf_fpr_no_sampling.npy', lgb_rf_fpr)\n",
    "np.save('./result/lgb_rf_tpr_no_sampling.npy', lgb_rf_tpr)\n",
    "\n",
    "# visualization\n",
    "fig, ax = plt.subplots(figsize=(8, 6))\n",
    "ax.plot(lgb_rf_fpr, lgb_rf_tpr, label='AUC: ' + str(lgb_rf_auc))\n",
    "ax.plot(lgb_rf_fpr, lgb_rf_fpr, 'k:')\n",
    "ax.set_xlabel('False Positive Rate', fontsize=12)\n",
    "ax.set_ylabel('True Positive Rate', fontsize=12)\n",
    "ax.legend(fontsize=12)\n",
    "ax.grid(True)\n",
    "plt.tight_layout()\n",
    "plt.show()"
   ]
  },
  {
   "cell_type": "markdown",
   "metadata": {},
   "source": [
    "# Boosting"
   ]
  },
  {
   "cell_type": "code",
   "execution_count": null,
   "metadata": {},
   "outputs": [],
   "source": [
    "# define parameter space to explore\n",
    "gbm_learning_rate_list = [0.03, 0.05, 0.1]\n",
    "gbm_num_leaves_list = [20, 30, 40, 50, 60]\n",
    "gbm_max_depth_list = [-1, 10, 20, 30, 40]\n",
    "gbm_min_data_in_leaf_list = [20, 30, 40, 50]\n",
    "\n",
    "gbm_learning_rate_vals = []\n",
    "gbm_num_leaves_vals = []\n",
    "gbm_max_depth_vals = []\n",
    "gbm_min_data_vals = []\n",
    "\n",
    "gbm_best_rounds = []\n",
    "gbm_mean_auc = []\n",
    "gbm_std_auc = []"
   ]
  },
  {
   "cell_type": "code",
   "execution_count": null,
   "metadata": {},
   "outputs": [],
   "source": [
    "# Random search with Cross validation\n",
    "s = '| {0:^3s} | {1:^10s} | {2:^10s} | {3:^16s} | {4:^12s}| {5:^6s} | {6:^6s} |'\n",
    "print(s.format('learning_rate', 'num_leaves', 'max_depth', 'min_data_in_leaf', \n",
    "               'best_rounds', 'AUC', 'std'))\n",
    "print('-' * 94)\n",
    "\n",
    "# perform random search for given number n\n",
    "n = 30\n",
    "np.random.seed(42)\n",
    "visited = set()\n",
    "for i in range(n):\n",
    "    while True:\n",
    "        learning_rate = np.random.choice(gbm_learning_rate_list)\n",
    "        num_leaves = np.random.choice(gbm_num_leaves_list)\n",
    "        max_depth = np.random.choice(gbm_max_depth_list)\n",
    "        min_data_in_leaf = np.random.choice(gbm_min_data_in_leaf_list)\n",
    "        \n",
    "        tuples = (learning_rate, num_leaves, max_depth, min_data_in_leaf)\n",
    "        if tuples not in visited:\n",
    "            visited.add(tuples)\n",
    "            break\n",
    "            \n",
    "    params = {'objective': 'binary', \n",
    "              'boosting': 'gbdt', \n",
    "              'num_threads': 16, \n",
    "              'is_unbalance': False, \n",
    "              'metric': ['auc'],\n",
    "              'max_bin': 255, \n",
    "              'learning_rate': learning_rate, \n",
    "              'num_leaves': num_leaves, \n",
    "              'max_depth': max_depth, \n",
    "              'min_data_in_leaf': min_data_in_leaf, \n",
    "              'bagging_fraction': 1.0, \n",
    "              'feature_fraction': 1.0, \n",
    "              'bagging_freq': 0, \n",
    "              'lambda_l1': 0.0,\n",
    "              'lambda_l2': 0.0,\n",
    "              'drop_rate': 0.1, \n",
    "              'seed': 42}\n",
    "\n",
    "    # 5-folder cross validation (no early stopping)\n",
    "    history = lgb.cv(params, train_set=gbm_train, nfold=5, num_boost_round=1000, \n",
    "                     stratified=True, early_stopping_rounds=10, verbose_eval=False, \n",
    "                     seed=42, feature_name=features, categorical_feature=cat_features)\n",
    "\n",
    "    # get result\n",
    "    gbm_learning_rate_vals.append(learning_rate)\n",
    "    gbm_num_leaves_vals.append(num_leaves)\n",
    "    gbm_max_depth_vals.append(max_depth)\n",
    "    gbm_min_data_vals.append(min_data_in_leaf)\n",
    "    gbm_best_rounds.append(len(history['auc-mean']))\n",
    "    gbm_mean_auc.append(history['auc-mean'][-1])\n",
    "    gbm_std_auc.append(history['auc-stdv'][-1])\n",
    "        \n",
    "    # output the resuts\n",
    "    ss = '| {0:>13.5f} | {1:>10d} | {2:>10d} | {3:>16d} | {4:>12d}| {5:>6.4f} | {6:>6.4f} |'\n",
    "    print(ss.format(learning_rate, num_leaves, max_depth, min_data_in_leaf, \n",
    "                    len(history['auc-mean']), history['auc-mean'][-1], \n",
    "                    history['auc-stdv'][-1]))\n",
    "    \n",
    "# get the best parameters\n",
    "idx = np.argmax(gbm_mean_auc)\n",
    "print('-' * 94)\n",
    "print(ss.format(gbm_learning_rate_vals[idx], gbm_num_leaves_vals[idx], gbm_max_depth_vals[idx], \n",
    "                gbm_min_data_vals[idx], gbm_best_rounds[idx], gbm_mean_auc[idx], gbm_std_auc[idx]))"
   ]
  },
  {
   "cell_type": "code",
   "execution_count": null,
   "metadata": {},
   "outputs": [],
   "source": [
    "# define best parameters\n",
    "params = {'objective': 'binary', \n",
    "          'boosting': 'gbdt', \n",
    "          'num_threads': 4, \n",
    "          'is_unbalance': False, \n",
    "          'metric': ['auc'],\n",
    "          'max_bin': 255, \n",
    "          'learning_rate': 0.1, \n",
    "          'num_leaves': 40, \n",
    "          'max_depth': 30, \n",
    "          'min_data_in_leaf': 40, \n",
    "          'bagging_fraction': 1.0, \n",
    "          'feature_fraction': 1.0,\n",
    "          'bagging_freq': 0,\n",
    "          'lambda_l1': 0.0,\n",
    "          'lambda_l2': 0.0,\n",
    "          'drop_rate': 0.1, \n",
    "          'seed': 42}\n",
    "\n",
    "# re-train the model and make predictions\n",
    "lgb_gbm = lgb.train(params, train_set=gbm_train, num_boost_round=275, \n",
    "                feature_name=features, categorical_feature=cat_features)\n",
    "lgb_gbm_pred = lgb_gbm.predict(test[features])"
   ]
  },
  {
   "cell_type": "code",
   "execution_count": null,
   "metadata": {},
   "outputs": [],
   "source": [
    "# get feature importance details\n",
    "importance = lgb_gbm.feature_importance()\n",
    "lgb_gbm_importance = pd.DataFrame({'feature': features, 'importance': importance}, \n",
    "                                  columns=['feature', 'importance'])\n",
    "lgb_gbm_importance = lgb_gbm_importance.sort_values(by='importance', ascending=False)\n",
    "lgb_gbm_importance['importance'] = lgb_gbm_importance['importance'] / lgb_gbm_importance['importance'].max()\n",
    "\n",
    "# visualization\n",
    "fig, ax = plt.subplots(figsize=(10, 8))\n",
    "sns.barplot(x='importance', y='feature', data=lgb_gbm_importance[:15], ax=ax)\n",
    "ax.set_title('LightGBM GBM Feature Importance', fontsize=16)\n",
    "ax.set_xlabel('Relative Importance', fontsize=12)\n",
    "ax.set_ylabel('')\n",
    "ax.grid(True)\n",
    "plt.tight_layout()\n",
    "plt.show()"
   ]
  },
  {
   "cell_type": "code",
   "execution_count": null,
   "metadata": {},
   "outputs": [],
   "source": [
    "# build the ROC curve\n",
    "lgb_gbm_fpr, lgb_gbm_tpr, _ = roc_curve(test['target'].values, lgb_gbm_pred)\n",
    "lgb_gbm_auc = np.round(auc(lgb_gbm_fpr, lgb_gbm_tpr), 4)\n",
    "np.save('./result/lgb_gbm_fpr_no_sampling.npy', lgb_gbm_fpr)\n",
    "np.save('./result/lgb_gbm_tpr_no_sampling.npy', lgb_gbm_tpr)\n",
    "\n",
    "# visualization\n",
    "fig, ax = plt.subplots(figsize=(8, 6))\n",
    "ax.plot(lgb_gbm_fpr, lgb_gbm_tpr, label='AUC: ' + str(lgb_gbm_auc))\n",
    "ax.plot(lgb_gbm_fpr, lgb_gbm_fpr, 'k:')\n",
    "ax.set_xlabel('False Positive Rate', fontsize=12)\n",
    "ax.set_ylabel('True Positive Rate', fontsize=12)\n",
    "ax.legend(fontsize=12)\n",
    "ax.grid(True)\n",
    "plt.tight_layout()\n",
    "plt.show()"
   ]
  },
  {
   "cell_type": "markdown",
   "metadata": {},
   "source": [
    "# III. CatBoost Data Preparation"
   ]
  },
  {
   "cell_type": "code",
   "execution_count": null,
   "metadata": {},
   "outputs": [],
   "source": [
    "# create Pool object\n",
    "train_pool = Pool(data=train[features], label=train['target'].values, feature_names=features, \n",
    "                  cat_features=np.array(range(len(cat_features))))\n",
    "\n",
    "test_pool = Pool(data=test[features], feature_names=features, \n",
    "                 cat_features=np.array(range(len(cat_features))))"
   ]
  },
  {
   "cell_type": "markdown",
   "metadata": {},
   "source": [
    "# Boosting"
   ]
  },
  {
   "cell_type": "code",
   "execution_count": null,
   "metadata": {},
   "outputs": [],
   "source": [
    "# define parameter space to explore\n",
    "learning_rate_list = [0.03, 0.05, 0.08, 0.1]\n",
    "depth_list = [4, 5, 6, 7, 8, 9, 10]\n",
    "l2_leaf_reg_list = [1, 3, 5, 7, 9]\n",
    "random_strength_list = [0.1, 0.5, 1, 2]\n",
    "bagging_temperature_list = [0, 0.2, 0.4, 0.6, 0.8, 1.0]\n",
    "\n",
    "learning_rate_values = []\n",
    "depth_values = []\n",
    "l2_leaf_reg_values = []\n",
    "random_strength_values = []\n",
    "bagging_temperature_values = []\n",
    "\n",
    "best_iterations_values = []\n",
    "train_mean_auc_values = []\n",
    "test_mean_auc_values = []"
   ]
  },
  {
   "cell_type": "code",
   "execution_count": null,
   "metadata": {},
   "outputs": [],
   "source": [
    "# Random search with Cross validation\n",
    "s = '|{0:>13s} |{1:>5s} |{2:>11s} |{3:>8s} |{4:>11s} |{5:>10s} |{6:>9s} |{7:>9s} |'\n",
    "print(s.format('learning_rate', 'depth', 'l2_leaf_reg', 'strength', 'temperature', \n",
    "               'iterations', 'train_AUC', 'test_AUC'))\n",
    "print('-' * 93)\n",
    "\n",
    "# perform random search for given number n\n",
    "n = 30\n",
    "np.random.seed(42)\n",
    "visited = set()\n",
    "for i in range(n):\n",
    "    while True:\n",
    "        learning_rate = np.random.choice(learning_rate_list)\n",
    "        depth = np.random.choice(depth_list)\n",
    "        l2_leaf_reg = np.random.choice(l2_leaf_reg_list)\n",
    "        random_strength = np.random.choice(random_strength_list)\n",
    "        bagging_temperature = np.random.choice(bagging_temperature_list)\n",
    "        \n",
    "        tuples = (learning_rate, depth, l2_leaf_reg, random_strength, bagging_temperature)\n",
    "        if tuples not in visited:\n",
    "            visited.add(tuples)\n",
    "            break\n",
    "            \n",
    "    # define parameters\n",
    "    params = {'loss_function': 'Logloss', \n",
    "              'custom_metric': 'AUC', \n",
    "              'eval_metric': 'AUC',\n",
    "              'learning_rate': learning_rate, \n",
    "              'depth': depth, \n",
    "              'l2_leaf_reg': l2_leaf_reg,\n",
    "              'random_strength': random_strength, \n",
    "              'bagging_temperature': bagging_temperature, \n",
    "              'random_seed': 42, \n",
    "              'bootstrap_type': 'Bayesian', \n",
    "              'has_time': False, \n",
    "              'class_weights': None}\n",
    "\n",
    "    scores = cv(pool=train_pool, params=params, iterations=1000, fold_count=5,\n",
    "                seed=42, shuffle=True, logging_level='Silent', stratified=True,\n",
    "                as_pandas=False, metric_period=1, early_stopping_rounds=5)\n",
    "    \n",
    "    # get result\n",
    "    learning_rate_values.append(learning_rate)\n",
    "    depth_values.append(depth)\n",
    "    l2_leaf_reg_values.append(l2_leaf_reg)\n",
    "    random_strength_values.append(random_strength)\n",
    "    bagging_temperature_values.append(bagging_temperature)\n",
    "    \n",
    "    best_idx = np.argmax(scores['test-AUC-mean'])\n",
    "    best_iterations = best_idx + 1\n",
    "    train_mean_auc = scores['train-AUC-mean'][best_idx]\n",
    "    test_mean_auc = scores['test-AUC-mean'][best_idx]\n",
    "    \n",
    "    best_iterations_values.append(best_iterations)\n",
    "    train_mean_auc_values.append(train_mean_auc)\n",
    "    test_mean_auc_values.append(test_mean_auc)\n",
    "    \n",
    "    # output the resuts\n",
    "    ss = '|{0:>13.4f} |{1:>5d} |{2:>11d} |{3:>8.4f} |{4:>11.4f} |{5:>10d} |{6:>9.4f} |{7:>9.4f} |'\n",
    "    print(ss.format(learning_rate, depth, l2_leaf_reg, random_strength, bagging_temperature, \n",
    "                    best_iterations, train_mean_auc, test_mean_auc))\n",
    "    \n",
    "# get the best parameters\n",
    "idx = np.argmax(test_mean_auc_values)\n",
    "print('-' * 93)\n",
    "print(ss.format(learning_rate_values[idx], depth_values[idx], l2_leaf_reg_values[idx], \n",
    "                random_strength_values[idx], bagging_temperature_values[idx], \n",
    "                best_iterations_values[idx], train_mean_auc_values[idx], \n",
    "                test_mean_auc_values[idx]))"
   ]
  },
  {
   "cell_type": "code",
   "execution_count": null,
   "metadata": {},
   "outputs": [],
   "source": [
    "# build CatBoost classifier\n",
    "cat_gbm = CatBoostClassifier(loss_function='Logloss', custom_metric='AUC', eval_metric='AUC',\n",
    "                             learning_rate=0.05, depth=5, l2_leaf_reg=7, random_strength=0.5, \n",
    "                             bagging_temperature=1.0, iterations=869, random_seed=42, \n",
    "                             class_weights=None, bootstrap_type='Bayesian')\n",
    "\n",
    "cat_gbm.fit(X=train_pool, eval_set=None, logging_level='Verbose', plot=False, \n",
    "            column_description=None, metric_period=100, early_stopping_rounds=None)\n",
    "\n",
    "cat_gbm_pred = cat_gbm.predict_proba(data=test_pool)[:, 1]"
   ]
  },
  {
   "cell_type": "code",
   "execution_count": null,
   "metadata": {},
   "outputs": [],
   "source": [
    "# get feature importance details\n",
    "importance = cat_gbm.get_feature_importance(data=None, prettified=True)\n",
    "\n",
    "names = []\n",
    "vals = []\n",
    "for name, val in importance:\n",
    "    names.append(str(name.decode('ASCII')))\n",
    "    vals.append(val)\n",
    "\n",
    "cat_gbm_importance = pd.DataFrame({'feature': names, 'importance': vals}, \n",
    "                                  columns=['feature', 'importance'])\n",
    "\n",
    "cat_gbm_importance['importance'] = cat_gbm_importance['importance'] / cat_gbm_importance['importance'].max()\n",
    "\n",
    "# visualization\n",
    "fig, ax = plt.subplots(figsize=(10, 8))\n",
    "sns.barplot(x='importance', y='feature', data=cat_gbm_importance[:15], ax=ax)\n",
    "ax.set_title('CatBoost GBM Feature Importance', fontsize=16)\n",
    "ax.set_xlabel('Relative Importance', fontsize=12)\n",
    "ax.set_ylabel('')\n",
    "ax.grid(True)\n",
    "plt.tight_layout()\n",
    "plt.show()"
   ]
  },
  {
   "cell_type": "code",
   "execution_count": null,
   "metadata": {},
   "outputs": [],
   "source": [
    "# build the ROC curve\n",
    "cat_gbm_fpr, cat_gbm_tpr, _ = roc_curve(test['target'].values, cat_gbm_pred)\n",
    "cat_gbm_auc = np.round(auc(cat_gbm_fpr, cat_gbm_tpr), 4)\n",
    "np.save('./result/cat_gbm_fpr_no_sampling.npy', cat_gbm_fpr)\n",
    "np.save('./result/cat_gbm_tpr_no_sampling.npy', cat_gbm_tpr)\n",
    "\n",
    "# visualization\n",
    "fig, ax = plt.subplots(figsize=(8, 6))\n",
    "ax.plot(cat_gbm_fpr, cat_gbm_tpr, label='AUC: ' + str(cat_gbm_auc))\n",
    "ax.plot(cat_gbm_fpr, cat_gbm_fpr, 'k:')\n",
    "ax.set_xlabel('False Positive Rate', fontsize=12)\n",
    "ax.set_ylabel('True Positive Rate', fontsize=12)\n",
    "ax.legend(fontsize=12)\n",
    "ax.grid(True)\n",
    "plt.tight_layout()\n",
    "plt.show()"
   ]
  },
  {
   "cell_type": "code",
   "execution_count": null,
   "metadata": {},
   "outputs": [],
   "source": []
  }
 ],
 "metadata": {
  "kernelspec": {
   "display_name": "Python 3",
   "language": "python",
   "name": "python3"
  },
  "language_info": {
   "codemirror_mode": {
    "name": "ipython",
    "version": 3
   },
   "file_extension": ".py",
   "mimetype": "text/x-python",
   "name": "python",
   "nbconvert_exporter": "python",
   "pygments_lexer": "ipython3",
   "version": "3.6.5"
  }
 },
 "nbformat": 4,
 "nbformat_minor": 2
}
